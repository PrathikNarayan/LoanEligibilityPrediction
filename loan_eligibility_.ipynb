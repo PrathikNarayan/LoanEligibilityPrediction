{
  "cells": [
    {
      "cell_type": "code",
      "execution_count": null,
      "metadata": {
        "execution": {
          "iopub.status.busy": "2022-11-30T21:36:31.622250Z",
          "iopub.status.idle": "2022-11-30T21:36:31.622872Z",
          "shell.execute_reply": "2022-11-30T21:36:31.622688Z",
          "shell.execute_reply.started": "2022-11-30T21:36:31.622669Z"
        },
        "pycharm": {
          "is_executing": true
        },
        "id": "6ranF6axKmHE"
      },
      "outputs": [],
      "source": [
        "import numpy as np\n",
        "import pandas as pd \n",
        "import os\n",
        "import matplotlib.pyplot as plt\n",
        "import seaborn as sns\n",
        "import plotly.express as px\n",
        "from sklearn.metrics import accuracy_score, confusion_matrix, classification_report\n",
        "from yellowbrick.classifier import ConfusionMatrix\n",
        "from sklearn.tree import DecisionTreeClassifier\n",
        "from sklearn.metrics import r2_score\n",
        "from sklearn.metrics import mean_absolute_error, mean_squared_error\n",
        "from sklearn.model_selection import GridSearchCV"
      ]
    },
    {
      "cell_type": "code",
      "execution_count": null,
      "metadata": {
        "execution": {
          "iopub.execute_input": "2022-11-30T22:24:23.215768Z",
          "iopub.status.busy": "2022-11-30T22:24:23.215298Z",
          "iopub.status.idle": "2022-11-30T22:24:23.233812Z",
          "shell.execute_reply": "2022-11-30T22:24:23.232243Z",
          "shell.execute_reply.started": "2022-11-30T22:24:23.215727Z"
        },
        "id": "EcG9P93JKmHL"
      },
      "outputs": [],
      "source": [
        "df = pd.read_csv('Loan_Data.csv')"
      ]
    },
    {
      "cell_type": "code",
      "execution_count": null,
      "metadata": {
        "execution": {
          "iopub.execute_input": "2022-11-30T22:07:31.636196Z",
          "iopub.status.busy": "2022-11-30T22:07:31.635085Z",
          "iopub.status.idle": "2022-11-30T22:07:31.655663Z",
          "shell.execute_reply": "2022-11-30T22:07:31.654484Z",
          "shell.execute_reply.started": "2022-11-30T22:07:31.636149Z"
        },
        "colab": {
          "base_uri": "https://localhost:8080/",
          "height": 206
        },
        "id": "BMxIoeTgKmHM",
        "outputId": "9ee0b8b4-3e6a-43d8-9615-34d1de665588"
      },
      "outputs": [
        {
          "output_type": "execute_result",
          "data": {
            "text/plain": [
              "    Loan_ID Gender Married Dependents     Education Self_Employed  \\\n",
              "0  LP001002   Male      No          0      Graduate            No   \n",
              "1  LP001003   Male     Yes          1      Graduate            No   \n",
              "2  LP001005   Male     Yes          0      Graduate           Yes   \n",
              "3  LP001006   Male     Yes          0  Not Graduate            No   \n",
              "4  LP001008   Male      No          0      Graduate            No   \n",
              "\n",
              "   ApplicantIncome  CoapplicantIncome  LoanAmount  Loan_Amount_Term  \\\n",
              "0             5849                0.0         NaN             360.0   \n",
              "1             4583             1508.0       128.0             360.0   \n",
              "2             3000                0.0        66.0             360.0   \n",
              "3             2583             2358.0       120.0             360.0   \n",
              "4             6000                0.0       141.0             360.0   \n",
              "\n",
              "   Credit_History Property_Area Loan_Status  \n",
              "0             1.0         Urban           Y  \n",
              "1             1.0         Rural           N  \n",
              "2             1.0         Urban           Y  \n",
              "3             1.0         Urban           Y  \n",
              "4             1.0         Urban           Y  "
            ],
            "text/html": [
              "\n",
              "  <div id=\"df-f4a31484-cd67-40c8-92a7-ddcbb6660528\">\n",
              "    <div class=\"colab-df-container\">\n",
              "      <div>\n",
              "<style scoped>\n",
              "    .dataframe tbody tr th:only-of-type {\n",
              "        vertical-align: middle;\n",
              "    }\n",
              "\n",
              "    .dataframe tbody tr th {\n",
              "        vertical-align: top;\n",
              "    }\n",
              "\n",
              "    .dataframe thead th {\n",
              "        text-align: right;\n",
              "    }\n",
              "</style>\n",
              "<table border=\"1\" class=\"dataframe\">\n",
              "  <thead>\n",
              "    <tr style=\"text-align: right;\">\n",
              "      <th></th>\n",
              "      <th>Loan_ID</th>\n",
              "      <th>Gender</th>\n",
              "      <th>Married</th>\n",
              "      <th>Dependents</th>\n",
              "      <th>Education</th>\n",
              "      <th>Self_Employed</th>\n",
              "      <th>ApplicantIncome</th>\n",
              "      <th>CoapplicantIncome</th>\n",
              "      <th>LoanAmount</th>\n",
              "      <th>Loan_Amount_Term</th>\n",
              "      <th>Credit_History</th>\n",
              "      <th>Property_Area</th>\n",
              "      <th>Loan_Status</th>\n",
              "    </tr>\n",
              "  </thead>\n",
              "  <tbody>\n",
              "    <tr>\n",
              "      <th>0</th>\n",
              "      <td>LP001002</td>\n",
              "      <td>Male</td>\n",
              "      <td>No</td>\n",
              "      <td>0</td>\n",
              "      <td>Graduate</td>\n",
              "      <td>No</td>\n",
              "      <td>5849</td>\n",
              "      <td>0.0</td>\n",
              "      <td>NaN</td>\n",
              "      <td>360.0</td>\n",
              "      <td>1.0</td>\n",
              "      <td>Urban</td>\n",
              "      <td>Y</td>\n",
              "    </tr>\n",
              "    <tr>\n",
              "      <th>1</th>\n",
              "      <td>LP001003</td>\n",
              "      <td>Male</td>\n",
              "      <td>Yes</td>\n",
              "      <td>1</td>\n",
              "      <td>Graduate</td>\n",
              "      <td>No</td>\n",
              "      <td>4583</td>\n",
              "      <td>1508.0</td>\n",
              "      <td>128.0</td>\n",
              "      <td>360.0</td>\n",
              "      <td>1.0</td>\n",
              "      <td>Rural</td>\n",
              "      <td>N</td>\n",
              "    </tr>\n",
              "    <tr>\n",
              "      <th>2</th>\n",
              "      <td>LP001005</td>\n",
              "      <td>Male</td>\n",
              "      <td>Yes</td>\n",
              "      <td>0</td>\n",
              "      <td>Graduate</td>\n",
              "      <td>Yes</td>\n",
              "      <td>3000</td>\n",
              "      <td>0.0</td>\n",
              "      <td>66.0</td>\n",
              "      <td>360.0</td>\n",
              "      <td>1.0</td>\n",
              "      <td>Urban</td>\n",
              "      <td>Y</td>\n",
              "    </tr>\n",
              "    <tr>\n",
              "      <th>3</th>\n",
              "      <td>LP001006</td>\n",
              "      <td>Male</td>\n",
              "      <td>Yes</td>\n",
              "      <td>0</td>\n",
              "      <td>Not Graduate</td>\n",
              "      <td>No</td>\n",
              "      <td>2583</td>\n",
              "      <td>2358.0</td>\n",
              "      <td>120.0</td>\n",
              "      <td>360.0</td>\n",
              "      <td>1.0</td>\n",
              "      <td>Urban</td>\n",
              "      <td>Y</td>\n",
              "    </tr>\n",
              "    <tr>\n",
              "      <th>4</th>\n",
              "      <td>LP001008</td>\n",
              "      <td>Male</td>\n",
              "      <td>No</td>\n",
              "      <td>0</td>\n",
              "      <td>Graduate</td>\n",
              "      <td>No</td>\n",
              "      <td>6000</td>\n",
              "      <td>0.0</td>\n",
              "      <td>141.0</td>\n",
              "      <td>360.0</td>\n",
              "      <td>1.0</td>\n",
              "      <td>Urban</td>\n",
              "      <td>Y</td>\n",
              "    </tr>\n",
              "  </tbody>\n",
              "</table>\n",
              "</div>\n",
              "      <button class=\"colab-df-convert\" onclick=\"convertToInteractive('df-f4a31484-cd67-40c8-92a7-ddcbb6660528')\"\n",
              "              title=\"Convert this dataframe to an interactive table.\"\n",
              "              style=\"display:none;\">\n",
              "        \n",
              "  <svg xmlns=\"http://www.w3.org/2000/svg\" height=\"24px\"viewBox=\"0 0 24 24\"\n",
              "       width=\"24px\">\n",
              "    <path d=\"M0 0h24v24H0V0z\" fill=\"none\"/>\n",
              "    <path d=\"M18.56 5.44l.94 2.06.94-2.06 2.06-.94-2.06-.94-.94-2.06-.94 2.06-2.06.94zm-11 1L8.5 8.5l.94-2.06 2.06-.94-2.06-.94L8.5 2.5l-.94 2.06-2.06.94zm10 10l.94 2.06.94-2.06 2.06-.94-2.06-.94-.94-2.06-.94 2.06-2.06.94z\"/><path d=\"M17.41 7.96l-1.37-1.37c-.4-.4-.92-.59-1.43-.59-.52 0-1.04.2-1.43.59L10.3 9.45l-7.72 7.72c-.78.78-.78 2.05 0 2.83L4 21.41c.39.39.9.59 1.41.59.51 0 1.02-.2 1.41-.59l7.78-7.78 2.81-2.81c.8-.78.8-2.07 0-2.86zM5.41 20L4 18.59l7.72-7.72 1.47 1.35L5.41 20z\"/>\n",
              "  </svg>\n",
              "      </button>\n",
              "      \n",
              "  <style>\n",
              "    .colab-df-container {\n",
              "      display:flex;\n",
              "      flex-wrap:wrap;\n",
              "      gap: 12px;\n",
              "    }\n",
              "\n",
              "    .colab-df-convert {\n",
              "      background-color: #E8F0FE;\n",
              "      border: none;\n",
              "      border-radius: 50%;\n",
              "      cursor: pointer;\n",
              "      display: none;\n",
              "      fill: #1967D2;\n",
              "      height: 32px;\n",
              "      padding: 0 0 0 0;\n",
              "      width: 32px;\n",
              "    }\n",
              "\n",
              "    .colab-df-convert:hover {\n",
              "      background-color: #E2EBFA;\n",
              "      box-shadow: 0px 1px 2px rgba(60, 64, 67, 0.3), 0px 1px 3px 1px rgba(60, 64, 67, 0.15);\n",
              "      fill: #174EA6;\n",
              "    }\n",
              "\n",
              "    [theme=dark] .colab-df-convert {\n",
              "      background-color: #3B4455;\n",
              "      fill: #D2E3FC;\n",
              "    }\n",
              "\n",
              "    [theme=dark] .colab-df-convert:hover {\n",
              "      background-color: #434B5C;\n",
              "      box-shadow: 0px 1px 3px 1px rgba(0, 0, 0, 0.15);\n",
              "      filter: drop-shadow(0px 1px 2px rgba(0, 0, 0, 0.3));\n",
              "      fill: #FFFFFF;\n",
              "    }\n",
              "  </style>\n",
              "\n",
              "      <script>\n",
              "        const buttonEl =\n",
              "          document.querySelector('#df-f4a31484-cd67-40c8-92a7-ddcbb6660528 button.colab-df-convert');\n",
              "        buttonEl.style.display =\n",
              "          google.colab.kernel.accessAllowed ? 'block' : 'none';\n",
              "\n",
              "        async function convertToInteractive(key) {\n",
              "          const element = document.querySelector('#df-f4a31484-cd67-40c8-92a7-ddcbb6660528');\n",
              "          const dataTable =\n",
              "            await google.colab.kernel.invokeFunction('convertToInteractive',\n",
              "                                                     [key], {});\n",
              "          if (!dataTable) return;\n",
              "\n",
              "          const docLinkHtml = 'Like what you see? Visit the ' +\n",
              "            '<a target=\"_blank\" href=https://colab.research.google.com/notebooks/data_table.ipynb>data table notebook</a>'\n",
              "            + ' to learn more about interactive tables.';\n",
              "          element.innerHTML = '';\n",
              "          dataTable['output_type'] = 'display_data';\n",
              "          await google.colab.output.renderOutput(dataTable, element);\n",
              "          const docLink = document.createElement('div');\n",
              "          docLink.innerHTML = docLinkHtml;\n",
              "          element.appendChild(docLink);\n",
              "        }\n",
              "      </script>\n",
              "    </div>\n",
              "  </div>\n",
              "  "
            ]
          },
          "metadata": {},
          "execution_count": 5
        }
      ],
      "source": [
        "df.head()"
      ]
    },
    {
      "cell_type": "code",
      "execution_count": null,
      "metadata": {
        "execution": {
          "iopub.execute_input": "2022-11-30T22:07:31.966218Z",
          "iopub.status.busy": "2022-11-30T22:07:31.965151Z",
          "iopub.status.idle": "2022-11-30T22:07:31.981612Z",
          "shell.execute_reply": "2022-11-30T22:07:31.980152Z",
          "shell.execute_reply.started": "2022-11-30T22:07:31.966156Z"
        },
        "colab": {
          "base_uri": "https://localhost:8080/"
        },
        "id": "R7QKm6dUKmHN",
        "outputId": "7eddc7c2-1608-4c28-e3e6-6c3e6ebbb4f1"
      },
      "outputs": [
        {
          "output_type": "stream",
          "name": "stdout",
          "text": [
            "<class 'pandas.core.frame.DataFrame'>\n",
            "RangeIndex: 614 entries, 0 to 613\n",
            "Data columns (total 13 columns):\n",
            " #   Column             Non-Null Count  Dtype  \n",
            "---  ------             --------------  -----  \n",
            " 0   Loan_ID            614 non-null    object \n",
            " 1   Gender             601 non-null    object \n",
            " 2   Married            611 non-null    object \n",
            " 3   Dependents         599 non-null    object \n",
            " 4   Education          614 non-null    object \n",
            " 5   Self_Employed      582 non-null    object \n",
            " 6   ApplicantIncome    614 non-null    int64  \n",
            " 7   CoapplicantIncome  614 non-null    float64\n",
            " 8   LoanAmount         592 non-null    float64\n",
            " 9   Loan_Amount_Term   600 non-null    float64\n",
            " 10  Credit_History     564 non-null    float64\n",
            " 11  Property_Area      614 non-null    object \n",
            " 12  Loan_Status        614 non-null    object \n",
            "dtypes: float64(4), int64(1), object(8)\n",
            "memory usage: 62.5+ KB\n"
          ]
        }
      ],
      "source": [
        "df.info()"
      ]
    },
    {
      "cell_type": "code",
      "execution_count": null,
      "metadata": {
        "execution": {
          "iopub.execute_input": "2022-11-30T22:07:32.265943Z",
          "iopub.status.busy": "2022-11-30T22:07:32.265549Z",
          "iopub.status.idle": "2022-11-30T22:07:32.294692Z",
          "shell.execute_reply": "2022-11-30T22:07:32.293436Z",
          "shell.execute_reply.started": "2022-11-30T22:07:32.265912Z"
        },
        "colab": {
          "base_uri": "https://localhost:8080/",
          "height": 300
        },
        "id": "8oCaRBXtKmHP",
        "outputId": "0da0c412-2228-49ff-c013-1f2bd49fc761"
      },
      "outputs": [
        {
          "output_type": "execute_result",
          "data": {
            "text/plain": [
              "       ApplicantIncome  CoapplicantIncome  LoanAmount  Loan_Amount_Term  \\\n",
              "count       614.000000         614.000000  592.000000         600.00000   \n",
              "mean       5403.459283        1621.245798  146.412162         342.00000   \n",
              "std        6109.041673        2926.248369   85.587325          65.12041   \n",
              "min         150.000000           0.000000    9.000000          12.00000   \n",
              "25%        2877.500000           0.000000  100.000000         360.00000   \n",
              "50%        3812.500000        1188.500000  128.000000         360.00000   \n",
              "75%        5795.000000        2297.250000  168.000000         360.00000   \n",
              "max       81000.000000       41667.000000  700.000000         480.00000   \n",
              "\n",
              "       Credit_History  \n",
              "count      564.000000  \n",
              "mean         0.842199  \n",
              "std          0.364878  \n",
              "min          0.000000  \n",
              "25%          1.000000  \n",
              "50%          1.000000  \n",
              "75%          1.000000  \n",
              "max          1.000000  "
            ],
            "text/html": [
              "\n",
              "  <div id=\"df-00cfac2f-5138-4706-838b-94c823c182d1\">\n",
              "    <div class=\"colab-df-container\">\n",
              "      <div>\n",
              "<style scoped>\n",
              "    .dataframe tbody tr th:only-of-type {\n",
              "        vertical-align: middle;\n",
              "    }\n",
              "\n",
              "    .dataframe tbody tr th {\n",
              "        vertical-align: top;\n",
              "    }\n",
              "\n",
              "    .dataframe thead th {\n",
              "        text-align: right;\n",
              "    }\n",
              "</style>\n",
              "<table border=\"1\" class=\"dataframe\">\n",
              "  <thead>\n",
              "    <tr style=\"text-align: right;\">\n",
              "      <th></th>\n",
              "      <th>ApplicantIncome</th>\n",
              "      <th>CoapplicantIncome</th>\n",
              "      <th>LoanAmount</th>\n",
              "      <th>Loan_Amount_Term</th>\n",
              "      <th>Credit_History</th>\n",
              "    </tr>\n",
              "  </thead>\n",
              "  <tbody>\n",
              "    <tr>\n",
              "      <th>count</th>\n",
              "      <td>614.000000</td>\n",
              "      <td>614.000000</td>\n",
              "      <td>592.000000</td>\n",
              "      <td>600.00000</td>\n",
              "      <td>564.000000</td>\n",
              "    </tr>\n",
              "    <tr>\n",
              "      <th>mean</th>\n",
              "      <td>5403.459283</td>\n",
              "      <td>1621.245798</td>\n",
              "      <td>146.412162</td>\n",
              "      <td>342.00000</td>\n",
              "      <td>0.842199</td>\n",
              "    </tr>\n",
              "    <tr>\n",
              "      <th>std</th>\n",
              "      <td>6109.041673</td>\n",
              "      <td>2926.248369</td>\n",
              "      <td>85.587325</td>\n",
              "      <td>65.12041</td>\n",
              "      <td>0.364878</td>\n",
              "    </tr>\n",
              "    <tr>\n",
              "      <th>min</th>\n",
              "      <td>150.000000</td>\n",
              "      <td>0.000000</td>\n",
              "      <td>9.000000</td>\n",
              "      <td>12.00000</td>\n",
              "      <td>0.000000</td>\n",
              "    </tr>\n",
              "    <tr>\n",
              "      <th>25%</th>\n",
              "      <td>2877.500000</td>\n",
              "      <td>0.000000</td>\n",
              "      <td>100.000000</td>\n",
              "      <td>360.00000</td>\n",
              "      <td>1.000000</td>\n",
              "    </tr>\n",
              "    <tr>\n",
              "      <th>50%</th>\n",
              "      <td>3812.500000</td>\n",
              "      <td>1188.500000</td>\n",
              "      <td>128.000000</td>\n",
              "      <td>360.00000</td>\n",
              "      <td>1.000000</td>\n",
              "    </tr>\n",
              "    <tr>\n",
              "      <th>75%</th>\n",
              "      <td>5795.000000</td>\n",
              "      <td>2297.250000</td>\n",
              "      <td>168.000000</td>\n",
              "      <td>360.00000</td>\n",
              "      <td>1.000000</td>\n",
              "    </tr>\n",
              "    <tr>\n",
              "      <th>max</th>\n",
              "      <td>81000.000000</td>\n",
              "      <td>41667.000000</td>\n",
              "      <td>700.000000</td>\n",
              "      <td>480.00000</td>\n",
              "      <td>1.000000</td>\n",
              "    </tr>\n",
              "  </tbody>\n",
              "</table>\n",
              "</div>\n",
              "      <button class=\"colab-df-convert\" onclick=\"convertToInteractive('df-00cfac2f-5138-4706-838b-94c823c182d1')\"\n",
              "              title=\"Convert this dataframe to an interactive table.\"\n",
              "              style=\"display:none;\">\n",
              "        \n",
              "  <svg xmlns=\"http://www.w3.org/2000/svg\" height=\"24px\"viewBox=\"0 0 24 24\"\n",
              "       width=\"24px\">\n",
              "    <path d=\"M0 0h24v24H0V0z\" fill=\"none\"/>\n",
              "    <path d=\"M18.56 5.44l.94 2.06.94-2.06 2.06-.94-2.06-.94-.94-2.06-.94 2.06-2.06.94zm-11 1L8.5 8.5l.94-2.06 2.06-.94-2.06-.94L8.5 2.5l-.94 2.06-2.06.94zm10 10l.94 2.06.94-2.06 2.06-.94-2.06-.94-.94-2.06-.94 2.06-2.06.94z\"/><path d=\"M17.41 7.96l-1.37-1.37c-.4-.4-.92-.59-1.43-.59-.52 0-1.04.2-1.43.59L10.3 9.45l-7.72 7.72c-.78.78-.78 2.05 0 2.83L4 21.41c.39.39.9.59 1.41.59.51 0 1.02-.2 1.41-.59l7.78-7.78 2.81-2.81c.8-.78.8-2.07 0-2.86zM5.41 20L4 18.59l7.72-7.72 1.47 1.35L5.41 20z\"/>\n",
              "  </svg>\n",
              "      </button>\n",
              "      \n",
              "  <style>\n",
              "    .colab-df-container {\n",
              "      display:flex;\n",
              "      flex-wrap:wrap;\n",
              "      gap: 12px;\n",
              "    }\n",
              "\n",
              "    .colab-df-convert {\n",
              "      background-color: #E8F0FE;\n",
              "      border: none;\n",
              "      border-radius: 50%;\n",
              "      cursor: pointer;\n",
              "      display: none;\n",
              "      fill: #1967D2;\n",
              "      height: 32px;\n",
              "      padding: 0 0 0 0;\n",
              "      width: 32px;\n",
              "    }\n",
              "\n",
              "    .colab-df-convert:hover {\n",
              "      background-color: #E2EBFA;\n",
              "      box-shadow: 0px 1px 2px rgba(60, 64, 67, 0.3), 0px 1px 3px 1px rgba(60, 64, 67, 0.15);\n",
              "      fill: #174EA6;\n",
              "    }\n",
              "\n",
              "    [theme=dark] .colab-df-convert {\n",
              "      background-color: #3B4455;\n",
              "      fill: #D2E3FC;\n",
              "    }\n",
              "\n",
              "    [theme=dark] .colab-df-convert:hover {\n",
              "      background-color: #434B5C;\n",
              "      box-shadow: 0px 1px 3px 1px rgba(0, 0, 0, 0.15);\n",
              "      filter: drop-shadow(0px 1px 2px rgba(0, 0, 0, 0.3));\n",
              "      fill: #FFFFFF;\n",
              "    }\n",
              "  </style>\n",
              "\n",
              "      <script>\n",
              "        const buttonEl =\n",
              "          document.querySelector('#df-00cfac2f-5138-4706-838b-94c823c182d1 button.colab-df-convert');\n",
              "        buttonEl.style.display =\n",
              "          google.colab.kernel.accessAllowed ? 'block' : 'none';\n",
              "\n",
              "        async function convertToInteractive(key) {\n",
              "          const element = document.querySelector('#df-00cfac2f-5138-4706-838b-94c823c182d1');\n",
              "          const dataTable =\n",
              "            await google.colab.kernel.invokeFunction('convertToInteractive',\n",
              "                                                     [key], {});\n",
              "          if (!dataTable) return;\n",
              "\n",
              "          const docLinkHtml = 'Like what you see? Visit the ' +\n",
              "            '<a target=\"_blank\" href=https://colab.research.google.com/notebooks/data_table.ipynb>data table notebook</a>'\n",
              "            + ' to learn more about interactive tables.';\n",
              "          element.innerHTML = '';\n",
              "          dataTable['output_type'] = 'display_data';\n",
              "          await google.colab.output.renderOutput(dataTable, element);\n",
              "          const docLink = document.createElement('div');\n",
              "          docLink.innerHTML = docLinkHtml;\n",
              "          element.appendChild(docLink);\n",
              "        }\n",
              "      </script>\n",
              "    </div>\n",
              "  </div>\n",
              "  "
            ]
          },
          "metadata": {},
          "execution_count": 7
        }
      ],
      "source": [
        "df.describe()"
      ]
    },
    {
      "cell_type": "code",
      "execution_count": null,
      "metadata": {
        "execution": {
          "iopub.execute_input": "2022-11-30T22:07:33.006431Z",
          "iopub.status.busy": "2022-11-30T22:07:33.005299Z",
          "iopub.status.idle": "2022-11-30T22:07:33.013876Z",
          "shell.execute_reply": "2022-11-30T22:07:33.013007Z",
          "shell.execute_reply.started": "2022-11-30T22:07:33.006390Z"
        },
        "colab": {
          "base_uri": "https://localhost:8080/"
        },
        "id": "dUKcueGtKmHQ",
        "outputId": "f19fc90c-2e7f-4569-8481-4d58f267d1f6"
      },
      "outputs": [
        {
          "output_type": "execute_result",
          "data": {
            "text/plain": [
              "Loan_ID               object\n",
              "Gender                object\n",
              "Married               object\n",
              "Dependents            object\n",
              "Education             object\n",
              "Self_Employed         object\n",
              "ApplicantIncome        int64\n",
              "CoapplicantIncome    float64\n",
              "LoanAmount           float64\n",
              "Loan_Amount_Term     float64\n",
              "Credit_History       float64\n",
              "Property_Area         object\n",
              "Loan_Status           object\n",
              "dtype: object"
            ]
          },
          "metadata": {},
          "execution_count": 8
        }
      ],
      "source": [
        "df.dtypes"
      ]
    },
    {
      "cell_type": "code",
      "execution_count": null,
      "metadata": {
        "execution": {
          "iopub.execute_input": "2022-11-30T22:07:33.759218Z",
          "iopub.status.busy": "2022-11-30T22:07:33.758153Z",
          "iopub.status.idle": "2022-11-30T22:07:33.771139Z",
          "shell.execute_reply": "2022-11-30T22:07:33.769791Z",
          "shell.execute_reply.started": "2022-11-30T22:07:33.759175Z"
        },
        "colab": {
          "base_uri": "https://localhost:8080/"
        },
        "id": "2nRtHxeGKmHR",
        "outputId": "83bf006f-0108-4a35-b137-6a03dd5d6bfc"
      },
      "outputs": [
        {
          "output_type": "execute_result",
          "data": {
            "text/plain": [
              "Loan_ID              0.000000\n",
              "Gender               2.117264\n",
              "Married              0.488599\n",
              "Dependents           2.442997\n",
              "Education            0.000000\n",
              "Self_Employed        5.211726\n",
              "ApplicantIncome      0.000000\n",
              "CoapplicantIncome    0.000000\n",
              "LoanAmount           3.583062\n",
              "Loan_Amount_Term     2.280130\n",
              "Credit_History       8.143322\n",
              "Property_Area        0.000000\n",
              "Loan_Status          0.000000\n",
              "dtype: float64"
            ]
          },
          "metadata": {},
          "execution_count": 9
        }
      ],
      "source": [
        "(df.isnull().sum()/len(df)) * 100"
      ]
    },
    {
      "cell_type": "code",
      "execution_count": null,
      "metadata": {
        "execution": {
          "iopub.execute_input": "2022-11-30T22:08:25.306745Z",
          "iopub.status.busy": "2022-11-30T22:08:25.306322Z",
          "iopub.status.idle": "2022-11-30T22:08:25.727328Z",
          "shell.execute_reply": "2022-11-30T22:08:25.726168Z",
          "shell.execute_reply.started": "2022-11-30T22:08:25.306708Z"
        },
        "colab": {
          "base_uri": "https://localhost:8080/",
          "height": 677
        },
        "id": "m9_CE-2zKmHS",
        "outputId": "befb4f0a-8ee4-416f-fe11-8bf67d8af410"
      },
      "outputs": [
        {
          "output_type": "stream",
          "name": "stderr",
          "text": [
            "<ipython-input-10-1ea010c7fde1>:1: FutureWarning: The default value of numeric_only in DataFrame.corr is deprecated. In a future version, it will default to False. Select only valid columns or specify the value of numeric_only to silence this warning.\n",
            "  correlation = df.corr().round(2)\n"
          ]
        },
        {
          "output_type": "execute_result",
          "data": {
            "text/plain": [
              "<Axes: >"
            ]
          },
          "metadata": {},
          "execution_count": 10
        },
        {
          "output_type": "display_data",
          "data": {
            "text/plain": [
              "<Figure size 1400x700 with 2 Axes>"
            ],
            "image/png": "[encoded data removed]"
          },
          "metadata": {}
        }
      ],
      "source": [
        "correlation = df.corr().round(2)\n",
        "plt.figure(figsize = (14,7))\n",
        "sns.heatmap(correlation, annot = True, cmap = 'YlOrBr')"
      ]
    },
    {
      "cell_type": "code",
      "execution_count": null,
      "metadata": {
        "execution": {
          "iopub.execute_input": "2022-11-30T22:09:01.490546Z",
          "iopub.status.busy": "2022-11-30T22:09:01.490151Z",
          "iopub.status.idle": "2022-11-30T22:09:02.692445Z",
          "shell.execute_reply": "2022-11-30T22:09:02.691253Z",
          "shell.execute_reply.started": "2022-11-30T22:09:01.490515Z"
        },
        "colab": {
          "base_uri": "https://localhost:8080/",
          "height": 1000
        },
        "id": "x5XyTgmNKmHT",
        "outputId": "8341510b-0e1b-441d-8438-a0194cec0dfd"
      },
      "outputs": [
        {
          "output_type": "execute_result",
          "data": {
            "text/plain": [
              "<Axes: xlabel='Credit_History', ylabel='count'>"
            ]
          },
          "metadata": {},
          "execution_count": 11
        },
        {
          "output_type": "display_data",
          "data": {
            "text/plain": [
              "<Figure size 2500x2000 with 8 Axes>"
            ],
            "image/png": "[encoded data removed]"
          },
          "metadata": {}
        }
      ],
      "source": [
        "plt.figure(figsize = (25,20))\n",
        "\n",
        "plt.subplot(4,2,1)\n",
        "sns.countplot(x = 'Gender', palette = 'Set2', data = df)\n",
        "\n",
        "plt.subplot(4,2,2)\n",
        "sns.countplot(x = 'Married', palette = 'Set2', data = df)\n",
        "\n",
        "plt.subplot(4,2,3)\n",
        "sns.countplot(x = 'Dependents', palette = 'Set2', data = df)\n",
        "\n",
        "plt.subplot(4,2,4)\n",
        "sns.countplot(x = 'Education', palette = 'Set2', data = df)\n",
        "\n",
        "plt.subplot(4,2,5)\n",
        "sns.countplot(x = 'Self_Employed', palette = 'Set2', data = df)\n",
        "\n",
        "plt.subplot(4,2,6)\n",
        "sns.countplot(x = 'Property_Area', palette = 'Set2', data = df)\n",
        "\n",
        "plt.subplot(4,2,7)\n",
        "sns.countplot(x = 'Loan_Status', palette = 'Set2', data = df)\n",
        "\n",
        "plt.subplot(4,2,8)\n",
        "sns.countplot(x = 'Credit_History', palette = 'Set2', data = df)"
      ]
    },
    {
      "cell_type": "code",
      "execution_count": null,
      "metadata": {
        "execution": {
          "iopub.execute_input": "2022-11-30T22:12:06.715031Z",
          "iopub.status.busy": "2022-11-30T22:12:06.713946Z",
          "iopub.status.idle": "2022-11-30T22:12:07.892162Z",
          "shell.execute_reply": "2022-11-30T22:12:07.891194Z",
          "shell.execute_reply.started": "2022-11-30T22:12:06.714988Z"
        },
        "colab": {
          "base_uri": "https://localhost:8080/",
          "height": 1000
        },
        "id": "LdeeD81QKmHW",
        "outputId": "c4250ded-6dcf-47d4-b991-28f6bf74a361"
      },
      "outputs": [
        {
          "output_type": "stream",
          "name": "stderr",
          "text": [
            "<ipython-input-12-43f2472d884b>:5: UserWarning: \n",
            "\n",
            "`distplot` is a deprecated function and will be removed in seaborn v0.14.0.\n",
            "\n",
            "Please adapt your code to use either `displot` (a figure-level function with\n",
            "similar flexibility) or `histplot` (an axes-level function for histograms).\n",
            "\n",
            "For a guide to updating your code to use the new functions, please see\n",
            "https://gist.github.com/mwaskom/de44147ed2974457ad6372750bbe5751\n",
            "\n",
            "  sns.distplot(df['ApplicantIncome'], kde = False)\n",
            "<ipython-input-12-43f2472d884b>:8: UserWarning: \n",
            "\n",
            "`distplot` is a deprecated function and will be removed in seaborn v0.14.0.\n",
            "\n",
            "Please adapt your code to use either `displot` (a figure-level function with\n",
            "similar flexibility) or `histplot` (an axes-level function for histograms).\n",
            "\n",
            "For a guide to updating your code to use the new functions, please see\n",
            "https://gist.github.com/mwaskom/de44147ed2974457ad6372750bbe5751\n",
            "\n",
            "  sns.distplot(df['CoapplicantIncome'], kde = False)\n",
            "<ipython-input-12-43f2472d884b>:11: UserWarning: \n",
            "\n",
            "`distplot` is a deprecated function and will be removed in seaborn v0.14.0.\n",
            "\n",
            "Please adapt your code to use either `displot` (a figure-level function with\n",
            "similar flexibility) or `histplot` (an axes-level function for histograms).\n",
            "\n",
            "For a guide to updating your code to use the new functions, please see\n",
            "https://gist.github.com/mwaskom/de44147ed2974457ad6372750bbe5751\n",
            "\n",
            "  sns.distplot(df['LoanAmount'], kde = False)\n",
            "<ipython-input-12-43f2472d884b>:14: UserWarning: \n",
            "\n",
            "`distplot` is a deprecated function and will be removed in seaborn v0.14.0.\n",
            "\n",
            "Please adapt your code to use either `displot` (a figure-level function with\n",
            "similar flexibility) or `histplot` (an axes-level function for histograms).\n",
            "\n",
            "For a guide to updating your code to use the new functions, please see\n",
            "https://gist.github.com/mwaskom/de44147ed2974457ad6372750bbe5751\n",
            "\n",
            "  sns.distplot(df['Loan_Amount_Term'], kde = False)\n"
          ]
        },
        {
          "output_type": "execute_result",
          "data": {
            "text/plain": [
              "<Axes: xlabel='Loan_Amount_Term'>"
            ]
          },
          "metadata": {},
          "execution_count": 12
        },
        {
          "output_type": "display_data",
          "data": {
            "text/plain": [
              "<Figure size 2000x1500 with 4 Axes>"
            ],
            "image/png": "[encoded data removed]"
          },
          "metadata": {}
        }
      ],
      "source": [
        "plt.figure(figsize = (20,15))\n",
        "sns.set(color_codes = True)\n",
        "\n",
        "plt.subplot(3,2,1)\n",
        "sns.distplot(df['ApplicantIncome'], kde = False)\n",
        "\n",
        "plt.subplot(3,2,2)\n",
        "sns.distplot(df['CoapplicantIncome'], kde = False)\n",
        "\n",
        "plt.subplot(3,2,3)\n",
        "sns.distplot(df['LoanAmount'], kde = False)\n",
        "\n",
        "plt.subplot(3,2,4)\n",
        "sns.distplot(df['Loan_Amount_Term'], kde = False)"
      ]
    },
    {
      "cell_type": "code",
      "execution_count": null,
      "metadata": {
        "execution": {
          "iopub.execute_input": "2022-11-30T22:13:38.426549Z",
          "iopub.status.busy": "2022-11-30T22:13:38.426127Z",
          "iopub.status.idle": "2022-11-30T22:13:38.698192Z",
          "shell.execute_reply": "2022-11-30T22:13:38.696746Z",
          "shell.execute_reply.started": "2022-11-30T22:13:38.426510Z"
        },
        "colab": {
          "base_uri": "https://localhost:8080/",
          "height": 534
        },
        "id": "xIebyVD9KmHX",
        "outputId": "3d1aa552-6e0f-417b-df69-fb014a55ebec"
      },
      "outputs": [
        {
          "output_type": "execute_result",
          "data": {
            "text/plain": [
              "<Axes: xlabel='ApplicantIncome'>"
            ]
          },
          "metadata": {},
          "execution_count": 13
        },
        {
          "output_type": "display_data",
          "data": {
            "text/plain": [
              "<Figure size 800x550 with 1 Axes>"
            ],
            "image/png": "[encoded data removed]"
          },
          "metadata": {}
        }
      ],
      "source": [
        "sns.boxplot(x=df[\"ApplicantIncome\"])"
      ]
    },
    {
      "cell_type": "code",
      "execution_count": null,
      "metadata": {
        "execution": {
          "iopub.execute_input": "2022-11-30T22:13:39.396883Z",
          "iopub.status.busy": "2022-11-30T22:13:39.395720Z",
          "iopub.status.idle": "2022-11-30T22:13:39.622356Z",
          "shell.execute_reply": "2022-11-30T22:13:39.620946Z",
          "shell.execute_reply.started": "2022-11-30T22:13:39.396829Z"
        },
        "colab": {
          "base_uri": "https://localhost:8080/",
          "height": 534
        },
        "id": "55cZ8tV8KmHY",
        "outputId": "adc1b1ba-7b3e-4d9d-d7df-f66f2176b0ac"
      },
      "outputs": [
        {
          "output_type": "execute_result",
          "data": {
            "text/plain": [
              "<Axes: xlabel='CoapplicantIncome'>"
            ]
          },
          "metadata": {},
          "execution_count": 14
        },
        {
          "output_type": "display_data",
          "data": {
            "text/plain": [
              "<Figure size 800x550 with 1 Axes>"
            ],
            "image/png": "[encoded data removed]"
          },
          "metadata": {}
        }
      ],
      "source": [
        "sns.boxplot(x=df[\"CoapplicantIncome\"])"
      ]
    },
    {
      "cell_type": "code",
      "execution_count": null,
      "metadata": {
        "execution": {
          "iopub.execute_input": "2022-11-30T22:13:40.016344Z",
          "iopub.status.busy": "2022-11-30T22:13:40.015265Z",
          "iopub.status.idle": "2022-11-30T22:13:40.261323Z",
          "shell.execute_reply": "2022-11-30T22:13:40.260125Z",
          "shell.execute_reply.started": "2022-11-30T22:13:40.016299Z"
        },
        "colab": {
          "base_uri": "https://localhost:8080/",
          "height": 534
        },
        "id": "NzhUoh0MKmHa",
        "outputId": "11c748f5-cc33-4cac-c6c8-79738d020da1"
      },
      "outputs": [
        {
          "output_type": "execute_result",
          "data": {
            "text/plain": [
              "<Axes: xlabel='LoanAmount'>"
            ]
          },
          "metadata": {},
          "execution_count": 15
        },
        {
          "output_type": "display_data",
          "data": {
            "text/plain": [
              "<Figure size 800x550 with 1 Axes>"
            ],
            "image/png": "[encoded data removed]"
          },
          "metadata": {}
        }
      ],
      "source": [
        "sns.boxplot(x=df[\"LoanAmount\"])"
      ]
    },
    {
      "cell_type": "code",
      "execution_count": null,
      "metadata": {
        "execution": {
          "iopub.execute_input": "2022-11-30T22:14:28.264928Z",
          "iopub.status.busy": "2022-11-30T22:14:28.264179Z",
          "iopub.status.idle": "2022-11-30T22:14:29.482755Z",
          "shell.execute_reply": "2022-11-30T22:14:29.481512Z",
          "shell.execute_reply.started": "2022-11-30T22:14:28.264888Z"
        },
        "colab": {
          "base_uri": "https://localhost:8080/",
          "height": 1000
        },
        "id": "P6ype8EeKmHa",
        "outputId": "e80a49be-2831-4839-c8c4-abcceb374262"
      },
      "outputs": [
        {
          "output_type": "execute_result",
          "data": {
            "text/plain": [
              "<Axes: xlabel='Credit_History', ylabel='count'>"
            ]
          },
          "metadata": {},
          "execution_count": 16
        },
        {
          "output_type": "display_data",
          "data": {
            "text/plain": [
              "<Figure size 2500x2000 with 7 Axes>"
            ],
            "image/png": "[encoded data removed]"
          },
          "metadata": {}
        }
      ],
      "source": [
        "plt.figure(figsize = (25,20))\n",
        "\n",
        "plt.subplot(4,2,1)\n",
        "sns.countplot(x = 'Gender', hue = 'Loan_Status', palette = 'Set2', data = df)\n",
        "\n",
        "plt.subplot(4,2,2)\n",
        "sns.countplot(x = 'Married', hue = 'Loan_Status',palette = 'Set2', data = df)\n",
        "\n",
        "plt.subplot(4,2,3)\n",
        "sns.countplot(x = 'Dependents', hue = 'Loan_Status', palette = 'Set2', data = df)\n",
        "\n",
        "plt.subplot(4,2,4)\n",
        "sns.countplot(x = 'Education', hue = 'Loan_Status', palette = 'Set2', data = df)\n",
        "\n",
        "plt.subplot(4,2,5)\n",
        "sns.countplot(x = 'Self_Employed', hue = 'Loan_Status', palette = 'Set2', data = df)\n",
        "\n",
        "plt.subplot(4,2,6)\n",
        "sns.countplot(x = 'Property_Area', hue = 'Loan_Status', palette = 'Set2', data = df)\n",
        "\n",
        "plt.subplot(4,2,7)\n",
        "sns.countplot(x = 'Credit_History', hue = 'Loan_Status', palette = 'Set2', data = df)"
      ]
    },
    {
      "cell_type": "code",
      "execution_count": null,
      "metadata": {
        "execution": {
          "iopub.execute_input": "2022-11-30T22:14:30.036134Z",
          "iopub.status.busy": "2022-11-30T22:14:30.035248Z",
          "iopub.status.idle": "2022-11-30T22:14:30.362809Z",
          "shell.execute_reply": "2022-11-30T22:14:30.361360Z",
          "shell.execute_reply.started": "2022-11-30T22:14:30.036062Z"
        },
        "colab": {
          "base_uri": "https://localhost:8080/",
          "height": 518
        },
        "id": "hP6KqRX6KmHc",
        "outputId": "c280b5ce-7c04-48df-f3e3-c05621241de5"
      },
      "outputs": [
        {
          "output_type": "execute_result",
          "data": {
            "text/plain": [
              "<seaborn.axisgrid.FacetGrid at 0x7f66db8b4d60>"
            ]
          },
          "metadata": {},
          "execution_count": 17
        },
        {
          "output_type": "display_data",
          "data": {
            "text/plain": [
              "<Figure size 500x500 with 1 Axes>"
            ],
            "image/png": "[encoded data removed]"
          },
          "metadata": {}
        }
      ],
      "source": [
        "sns.catplot(x = 'Loan_Status', y=\"ApplicantIncome\", kind=\"box\", data = df)"
      ]
    },
    {
      "cell_type": "code",
      "execution_count": null,
      "metadata": {
        "execution": {
          "iopub.execute_input": "2022-11-30T22:14:30.718833Z",
          "iopub.status.busy": "2022-11-30T22:14:30.718444Z",
          "iopub.status.idle": "2022-11-30T22:14:31.016796Z",
          "shell.execute_reply": "2022-11-30T22:14:31.015752Z",
          "shell.execute_reply.started": "2022-11-30T22:14:30.718800Z"
        },
        "colab": {
          "base_uri": "https://localhost:8080/",
          "height": 517
        },
        "id": "yYVTCmDlKmHd",
        "outputId": "09e40608-effd-4932-a390-a1e08b40d63b"
      },
      "outputs": [
        {
          "output_type": "execute_result",
          "data": {
            "text/plain": [
              "<seaborn.axisgrid.FacetGrid at 0x7f66db6e8100>"
            ]
          },
          "metadata": {},
          "execution_count": 18
        },
        {
          "output_type": "display_data",
          "data": {
            "text/plain": [
              "<Figure size 500x500 with 1 Axes>"
            ],
            "image/png": "[encoded data removed]"
          },
          "metadata": {}
        }
      ],
      "source": [
        "sns.catplot(x = 'Loan_Status', y=\"CoapplicantIncome\", kind=\"box\", data = df)"
      ]
    },
    {
      "cell_type": "code",
      "execution_count": null,
      "metadata": {
        "execution": {
          "iopub.execute_input": "2022-11-30T22:14:31.585830Z",
          "iopub.status.busy": "2022-11-30T22:14:31.585389Z",
          "iopub.status.idle": "2022-11-30T22:14:31.907122Z",
          "shell.execute_reply": "2022-11-30T22:14:31.906238Z",
          "shell.execute_reply.started": "2022-11-30T22:14:31.585791Z"
        },
        "colab": {
          "base_uri": "https://localhost:8080/",
          "height": 517
        },
        "id": "wGLxgnOxKmHf",
        "outputId": "0325b699-becf-4646-dc38-7627097b7abc"
      },
      "outputs": [
        {
          "output_type": "execute_result",
          "data": {
            "text/plain": [
              "<seaborn.axisgrid.FacetGrid at 0x7f66db870c10>"
            ]
          },
          "metadata": {},
          "execution_count": 19
        },
        {
          "output_type": "display_data",
          "data": {
            "text/plain": [
              "<Figure size 500x500 with 1 Axes>"
            ],
            "image/png": "[encoded data removed]"
          },
          "metadata": {}
        }
      ],
      "source": [
        "sns.catplot(x = 'Loan_Status', y=\"LoanAmount\", kind=\"box\", data = df)"
      ]
    },
    {
      "cell_type": "code",
      "execution_count": null,
      "metadata": {
        "execution": {
          "iopub.execute_input": "2022-11-30T21:58:54.257182Z",
          "iopub.status.busy": "2022-11-30T21:58:54.255968Z",
          "iopub.status.idle": "2022-11-30T21:58:54.269965Z",
          "shell.execute_reply": "2022-11-30T21:58:54.268445Z",
          "shell.execute_reply.started": "2022-11-30T21:58:54.257129Z"
        },
        "colab": {
          "base_uri": "https://localhost:8080/"
        },
        "id": "oOwZzj6pKmHg",
        "outputId": "54c5ff36-6150-426b-c36d-a2f77b54cc68"
      },
      "outputs": [
        {
          "output_type": "execute_result",
          "data": {
            "text/plain": [
              "Loan_ID              0.000000\n",
              "Gender               2.117264\n",
              "Married              0.488599\n",
              "Dependents           2.442997\n",
              "Education            0.000000\n",
              "Self_Employed        5.211726\n",
              "ApplicantIncome      0.000000\n",
              "CoapplicantIncome    0.000000\n",
              "LoanAmount           3.583062\n",
              "Loan_Amount_Term     2.280130\n",
              "Credit_History       8.143322\n",
              "Property_Area        0.000000\n",
              "Loan_Status          0.000000\n",
              "dtype: float64"
            ]
          },
          "metadata": {},
          "execution_count": 20
        }
      ],
      "source": [
        "(df.isnull().sum()/len(df)) * 100"
      ]
    },
    {
      "cell_type": "code",
      "execution_count": null,
      "metadata": {
        "execution": {
          "iopub.execute_input": "2022-11-30T22:24:30.517080Z",
          "iopub.status.busy": "2022-11-30T22:24:30.516679Z",
          "iopub.status.idle": "2022-11-30T22:24:30.523314Z",
          "shell.execute_reply": "2022-11-30T22:24:30.522421Z",
          "shell.execute_reply.started": "2022-11-30T22:24:30.517046Z"
        },
        "id": "IVmB5_HRKmHi"
      },
      "outputs": [],
      "source": [
        "df = df[df['Credit_History'].notnull()]"
      ]
    },
    {
      "cell_type": "code",
      "execution_count": null,
      "metadata": {
        "execution": {
          "iopub.execute_input": "2022-11-30T22:24:30.916279Z",
          "iopub.status.busy": "2022-11-30T22:24:30.915233Z",
          "iopub.status.idle": "2022-11-30T22:24:30.927037Z",
          "shell.execute_reply": "2022-11-30T22:24:30.925710Z",
          "shell.execute_reply.started": "2022-11-30T22:24:30.916228Z"
        },
        "colab": {
          "base_uri": "https://localhost:8080/"
        },
        "id": "HdkIhYJ5KmHj",
        "outputId": "a1aee558-5499-439d-abb3-22b8e5107fde"
      },
      "outputs": [
        {
          "output_type": "stream",
          "name": "stderr",
          "text": [
            "<ipython-input-22-a442f8cca35c>:1: SettingWithCopyWarning: \n",
            "A value is trying to be set on a copy of a slice from a DataFrame.\n",
            "Try using .loc[row_indexer,col_indexer] = value instead\n",
            "\n",
            "See the caveats in the documentation: https://pandas.pydata.org/pandas-docs/stable/user_guide/indexing.html#returning-a-view-versus-a-copy\n",
            "  df['Gender']=df['Gender'].fillna(df['Gender'].mode()[0])\n",
            "<ipython-input-22-a442f8cca35c>:2: SettingWithCopyWarning: \n",
            "A value is trying to be set on a copy of a slice from a DataFrame.\n",
            "Try using .loc[row_indexer,col_indexer] = value instead\n",
            "\n",
            "See the caveats in the documentation: https://pandas.pydata.org/pandas-docs/stable/user_guide/indexing.html#returning-a-view-versus-a-copy\n",
            "  df['Married']=df['Married'].fillna(df['Married'].mode()[0])\n",
            "<ipython-input-22-a442f8cca35c>:3: SettingWithCopyWarning: \n",
            "A value is trying to be set on a copy of a slice from a DataFrame.\n",
            "Try using .loc[row_indexer,col_indexer] = value instead\n",
            "\n",
            "See the caveats in the documentation: https://pandas.pydata.org/pandas-docs/stable/user_guide/indexing.html#returning-a-view-versus-a-copy\n",
            "  df['Dependents']=df['Dependents'].fillna(df['Dependents'].mode()[0])\n",
            "<ipython-input-22-a442f8cca35c>:4: SettingWithCopyWarning: \n",
            "A value is trying to be set on a copy of a slice from a DataFrame.\n",
            "Try using .loc[row_indexer,col_indexer] = value instead\n",
            "\n",
            "See the caveats in the documentation: https://pandas.pydata.org/pandas-docs/stable/user_guide/indexing.html#returning-a-view-versus-a-copy\n",
            "  df['Self_Employed']=df['Self_Employed'].fillna(df['Self_Employed'].mode()[0])\n"
          ]
        }
      ],
      "source": [
        "df['Gender']=df['Gender'].fillna(df['Gender'].mode()[0])\n",
        "df['Married']=df['Married'].fillna(df['Married'].mode()[0])\n",
        "df['Dependents']=df['Dependents'].fillna(df['Dependents'].mode()[0])\n",
        "df['Self_Employed']=df['Self_Employed'].fillna(df['Self_Employed'].mode()[0])"
      ]
    },
    {
      "cell_type": "code",
      "execution_count": null,
      "metadata": {
        "execution": {
          "iopub.execute_input": "2022-11-30T22:24:31.535754Z",
          "iopub.status.busy": "2022-11-30T22:24:31.535372Z",
          "iopub.status.idle": "2022-11-30T22:24:31.543182Z",
          "shell.execute_reply": "2022-11-30T22:24:31.541716Z",
          "shell.execute_reply.started": "2022-11-30T22:24:31.535721Z"
        },
        "colab": {
          "base_uri": "https://localhost:8080/"
        },
        "id": "wZJhqCBAKmHk",
        "outputId": "3dd8bbba-089c-44d6-b18d-3916c8bd7989"
      },
      "outputs": [
        {
          "output_type": "stream",
          "name": "stderr",
          "text": [
            "<ipython-input-23-64259bce2631>:1: SettingWithCopyWarning: \n",
            "A value is trying to be set on a copy of a slice from a DataFrame.\n",
            "Try using .loc[row_indexer,col_indexer] = value instead\n",
            "\n",
            "See the caveats in the documentation: https://pandas.pydata.org/pandas-docs/stable/user_guide/indexing.html#returning-a-view-versus-a-copy\n",
            "  df['LoanAmount']=df['LoanAmount'].fillna(df['LoanAmount'].mean())\n",
            "<ipython-input-23-64259bce2631>:2: SettingWithCopyWarning: \n",
            "A value is trying to be set on a copy of a slice from a DataFrame.\n",
            "Try using .loc[row_indexer,col_indexer] = value instead\n",
            "\n",
            "See the caveats in the documentation: https://pandas.pydata.org/pandas-docs/stable/user_guide/indexing.html#returning-a-view-versus-a-copy\n",
            "  df['Loan_Amount_Term']=df['Loan_Amount_Term'].fillna(df['Loan_Amount_Term'].mean())\n"
          ]
        }
      ],
      "source": [
        "df['LoanAmount']=df['LoanAmount'].fillna(df['LoanAmount'].mean())\n",
        "df['Loan_Amount_Term']=df['Loan_Amount_Term'].fillna(df['Loan_Amount_Term'].mean())"
      ]
    },
    {
      "cell_type": "code",
      "execution_count": null,
      "metadata": {
        "execution": {
          "iopub.execute_input": "2022-11-30T22:24:32.478681Z",
          "iopub.status.busy": "2022-11-30T22:24:32.478271Z",
          "iopub.status.idle": "2022-11-30T22:24:32.491544Z",
          "shell.execute_reply": "2022-11-30T22:24:32.490175Z",
          "shell.execute_reply.started": "2022-11-30T22:24:32.478647Z"
        },
        "colab": {
          "base_uri": "https://localhost:8080/"
        },
        "id": "dLDA95JpKmHl",
        "outputId": "3eb85543-0dab-4eff-a534-15f0f7743c95"
      },
      "outputs": [
        {
          "output_type": "execute_result",
          "data": {
            "text/plain": [
              "Loan_ID              0.0\n",
              "Gender               0.0\n",
              "Married              0.0\n",
              "Dependents           0.0\n",
              "Education            0.0\n",
              "Self_Employed        0.0\n",
              "ApplicantIncome      0.0\n",
              "CoapplicantIncome    0.0\n",
              "LoanAmount           0.0\n",
              "Loan_Amount_Term     0.0\n",
              "Credit_History       0.0\n",
              "Property_Area        0.0\n",
              "Loan_Status          0.0\n",
              "dtype: float64"
            ]
          },
          "metadata": {},
          "execution_count": 24
        }
      ],
      "source": [
        "(df.isnull().sum()/len(df)) * 100"
      ]
    },
    {
      "cell_type": "code",
      "execution_count": null,
      "metadata": {
        "execution": {
          "iopub.execute_input": "2022-11-30T22:24:33.795876Z",
          "iopub.status.busy": "2022-11-30T22:24:33.795456Z",
          "iopub.status.idle": "2022-11-30T22:24:33.802579Z",
          "shell.execute_reply": "2022-11-30T22:24:33.801293Z",
          "shell.execute_reply.started": "2022-11-30T22:24:33.795838Z"
        },
        "id": "5ne6PQa8KmHm"
      },
      "outputs": [],
      "source": [
        "df = df.drop('Loan_ID', axis = 1)"
      ]
    },
    {
      "cell_type": "code",
      "execution_count": null,
      "metadata": {
        "execution": {
          "iopub.execute_input": "2022-11-30T22:24:34.955932Z",
          "iopub.status.busy": "2022-11-30T22:24:34.955528Z",
          "iopub.status.idle": "2022-11-30T22:24:34.962862Z",
          "shell.execute_reply": "2022-11-30T22:24:34.961194Z",
          "shell.execute_reply.started": "2022-11-30T22:24:34.955899Z"
        },
        "id": "EHd0AwZRKmHn"
      },
      "outputs": [],
      "source": [
        "X = df.drop('Loan_Status', axis = 1)"
      ]
    },
    {
      "cell_type": "code",
      "execution_count": null,
      "metadata": {
        "execution": {
          "iopub.execute_input": "2022-11-30T22:24:35.195697Z",
          "iopub.status.busy": "2022-11-30T22:24:35.195277Z",
          "iopub.status.idle": "2022-11-30T22:24:35.200643Z",
          "shell.execute_reply": "2022-11-30T22:24:35.199696Z",
          "shell.execute_reply.started": "2022-11-30T22:24:35.195658Z"
        },
        "id": "V0Din8niKmHo"
      },
      "outputs": [],
      "source": [
        "X = X.values"
      ]
    },
    {
      "cell_type": "code",
      "execution_count": null,
      "metadata": {
        "execution": {
          "iopub.execute_input": "2022-11-30T22:24:35.535680Z",
          "iopub.status.busy": "2022-11-30T22:24:35.535292Z",
          "iopub.status.idle": "2022-11-30T22:24:35.541446Z",
          "shell.execute_reply": "2022-11-30T22:24:35.540021Z",
          "shell.execute_reply.started": "2022-11-30T22:24:35.535647Z"
        },
        "id": "bEJnq_kuKmHo"
      },
      "outputs": [],
      "source": [
        "y = df['Loan_Status']"
      ]
    },
    {
      "cell_type": "code",
      "execution_count": null,
      "metadata": {
        "execution": {
          "iopub.execute_input": "2022-11-30T22:24:36.476458Z",
          "iopub.status.busy": "2022-11-30T22:24:36.475514Z",
          "iopub.status.idle": "2022-11-30T22:24:36.481520Z",
          "shell.execute_reply": "2022-11-30T22:24:36.480370Z",
          "shell.execute_reply.started": "2022-11-30T22:24:36.476410Z"
        },
        "id": "ea2VN72pKmHp"
      },
      "outputs": [],
      "source": [
        "from imblearn.over_sampling import RandomOverSampler"
      ]
    },
    {
      "cell_type": "code",
      "execution_count": null,
      "metadata": {
        "execution": {
          "iopub.execute_input": "2022-11-30T22:24:36.677168Z",
          "iopub.status.busy": "2022-11-30T22:24:36.676763Z",
          "iopub.status.idle": "2022-11-30T22:24:36.681937Z",
          "shell.execute_reply": "2022-11-30T22:24:36.680854Z",
          "shell.execute_reply.started": "2022-11-30T22:24:36.677134Z"
        },
        "id": "UoRMiMAUKmHq"
      },
      "outputs": [],
      "source": [
        "ros = RandomOverSampler(random_state=0)"
      ]
    },
    {
      "cell_type": "code",
      "execution_count": null,
      "metadata": {
        "execution": {
          "iopub.execute_input": "2022-11-30T22:24:36.968712Z",
          "iopub.status.busy": "2022-11-30T22:24:36.968259Z",
          "iopub.status.idle": "2022-11-30T22:24:36.977862Z",
          "shell.execute_reply": "2022-11-30T22:24:36.976658Z",
          "shell.execute_reply.started": "2022-11-30T22:24:36.968669Z"
        },
        "id": "aW1iaMi-KmHq"
      },
      "outputs": [],
      "source": [
        "X, y = ros.fit_resample(X, y)"
      ]
    },
    {
      "cell_type": "code",
      "execution_count": null,
      "metadata": {
        "execution": {
          "iopub.execute_input": "2022-11-30T22:24:37.235637Z",
          "iopub.status.busy": "2022-11-30T22:24:37.235227Z",
          "iopub.status.idle": "2022-11-30T22:24:37.448219Z",
          "shell.execute_reply": "2022-11-30T22:24:37.447060Z",
          "shell.execute_reply.started": "2022-11-30T22:24:37.235604Z"
        },
        "colab": {
          "base_uri": "https://localhost:8080/",
          "height": 518
        },
        "id": "pjZAzBv7KmHs",
        "outputId": "217fc7c0-03df-49e7-93e9-3dfee4ae023f"
      },
      "outputs": [
        {
          "output_type": "display_data",
          "data": {
            "text/plain": [
              "<Figure size 800x550 with 1 Axes>"
            ],
            "image/png": "[encoded data removed]"
          },
          "metadata": {}
        }
      ],
      "source": [
        "ax = sns.countplot(x=y)"
      ]
    },
    {
      "cell_type": "code",
      "execution_count": null,
      "metadata": {
        "execution": {
          "iopub.execute_input": "2022-11-30T22:24:38.637368Z",
          "iopub.status.busy": "2022-11-30T22:24:38.635764Z",
          "iopub.status.idle": "2022-11-30T22:24:38.643450Z",
          "shell.execute_reply": "2022-11-30T22:24:38.642071Z",
          "shell.execute_reply.started": "2022-11-30T22:24:38.637305Z"
        },
        "id": "JfxhPHpUKmHs"
      },
      "outputs": [],
      "source": [
        "from sklearn.preprocessing import LabelEncoder"
      ]
    },
    {
      "cell_type": "code",
      "execution_count": null,
      "metadata": {
        "execution": {
          "iopub.execute_input": "2022-11-30T22:24:38.855816Z",
          "iopub.status.busy": "2022-11-30T22:24:38.855409Z",
          "iopub.status.idle": "2022-11-30T22:24:38.861955Z",
          "shell.execute_reply": "2022-11-30T22:24:38.860773Z",
          "shell.execute_reply.started": "2022-11-30T22:24:38.855780Z"
        },
        "id": "uy2N9W9HKmHt"
      },
      "outputs": [],
      "source": [
        "label_encoder_Gender = LabelEncoder()\n",
        "label_encoder_Married = LabelEncoder()\n",
        "label_encoder_Dependents = LabelEncoder()\n",
        "label_encoder_Education = LabelEncoder()\n",
        "label_encoder_Self_Employed = LabelEncoder()\n",
        "label_encoder_Property_Area = LabelEncoder()\n",
        "label_encoder_Loan_Status = LabelEncoder()"
      ]
    },
    {
      "cell_type": "code",
      "execution_count": null,
      "metadata": {
        "execution": {
          "iopub.execute_input": "2022-11-30T22:24:39.386044Z",
          "iopub.status.busy": "2022-11-30T22:24:39.385636Z",
          "iopub.status.idle": "2022-11-30T22:24:39.396416Z",
          "shell.execute_reply": "2022-11-30T22:24:39.394839Z",
          "shell.execute_reply.started": "2022-11-30T22:24:39.386012Z"
        },
        "id": "XDn6Z84LKmHu"
      },
      "outputs": [],
      "source": [
        "X[:,0] = label_encoder_Gender.fit_transform(X[:,0])\n",
        "X[:,1] = label_encoder_Married.fit_transform(X[:,1])\n",
        "X[:,2] = label_encoder_Dependents.fit_transform(X[:,2])\n",
        "X[:,3] = label_encoder_Education.fit_transform(X[:,3])\n",
        "X[:,4] = label_encoder_Self_Employed.fit_transform(X[:,4])\n",
        "X[:,10] = label_encoder_Property_Area.fit_transform(X[:,10])\n",
        "y = label_encoder_Loan_Status.fit_transform(y)"
      ]
    },
    {
      "cell_type": "code",
      "execution_count": null,
      "metadata": {
        "execution": {
          "iopub.execute_input": "2022-11-30T22:48:04.073942Z",
          "iopub.status.busy": "2022-11-30T22:48:04.073528Z",
          "iopub.status.idle": "2022-11-30T22:48:04.081287Z",
          "shell.execute_reply": "2022-11-30T22:48:04.080467Z",
          "shell.execute_reply.started": "2022-11-30T22:48:04.073907Z"
        },
        "id": "B8Ukyw6mKmHv"
      },
      "outputs": [],
      "source": [
        "from sklearn.preprocessing import StandardScaler\n",
        "scaler = StandardScaler()\n",
        "X_standard = scaler.fit_transform(X)"
      ]
    },
    {
      "cell_type": "code",
      "execution_count": null,
      "metadata": {
        "execution": {
          "iopub.execute_input": "2022-11-30T22:24:42.385837Z",
          "iopub.status.busy": "2022-11-30T22:24:42.385436Z",
          "iopub.status.idle": "2022-11-30T22:24:42.392269Z",
          "shell.execute_reply": "2022-11-30T22:24:42.390887Z",
          "shell.execute_reply.started": "2022-11-30T22:24:42.385803Z"
        },
        "id": "l9N940goKmHw"
      },
      "outputs": [],
      "source": [
        "from sklearn.model_selection import train_test_split"
      ]
    },
    {
      "cell_type": "code",
      "execution_count": null,
      "metadata": {
        "execution": {
          "iopub.execute_input": "2022-11-30T22:48:09.914674Z",
          "iopub.status.busy": "2022-11-30T22:48:09.914279Z",
          "iopub.status.idle": "2022-11-30T22:48:09.921692Z",
          "shell.execute_reply": "2022-11-30T22:48:09.920549Z",
          "shell.execute_reply.started": "2022-11-30T22:48:09.914640Z"
        },
        "id": "hUh1hLMLKmHx"
      },
      "outputs": [],
      "source": [
        "X_train, X_test, y_train, y_test = train_test_split(X_standard, y, test_size = 0.3, random_state = 0)"
      ]
    },
    {
      "cell_type": "code",
      "execution_count": null,
      "metadata": {
        "execution": {
          "iopub.execute_input": "2022-11-30T22:48:10.136345Z",
          "iopub.status.busy": "2022-11-30T22:48:10.135421Z",
          "iopub.status.idle": "2022-11-30T22:48:10.144473Z",
          "shell.execute_reply": "2022-11-30T22:48:10.143328Z",
          "shell.execute_reply.started": "2022-11-30T22:48:10.136291Z"
        },
        "colab": {
          "base_uri": "https://localhost:8080/"
        },
        "id": "IhCguwMIKmHy",
        "outputId": "0d7ce866-1725-4fa7-efa4-eed38b5bf8be"
      },
      "outputs": [
        {
          "output_type": "execute_result",
          "data": {
            "text/plain": [
              "((539, 11), (539,))"
            ]
          },
          "metadata": {},
          "execution_count": 39
        }
      ],
      "source": [
        "X_train.shape, y_train.shape"
      ]
    },
    {
      "cell_type": "code",
      "execution_count": null,
      "metadata": {
        "execution": {
          "iopub.execute_input": "2022-11-30T22:48:10.962148Z",
          "iopub.status.busy": "2022-11-30T22:48:10.961246Z",
          "iopub.status.idle": "2022-11-30T22:48:10.969430Z",
          "shell.execute_reply": "2022-11-30T22:48:10.968379Z",
          "shell.execute_reply.started": "2022-11-30T22:48:10.962103Z"
        },
        "colab": {
          "base_uri": "https://localhost:8080/"
        },
        "id": "Vdaa7kdaKmHy",
        "outputId": "b1383490-a267-4779-83ce-d2d175974234"
      },
      "outputs": [
        {
          "output_type": "execute_result",
          "data": {
            "text/plain": [
              "((231, 11), (231,))"
            ]
          },
          "metadata": {},
          "execution_count": 40
        }
      ],
      "source": [
        "X_test.shape, y_test.shape"
      ]
    },
    {
      "cell_type": "code",
      "execution_count": null,
      "metadata": {
        "execution": {
          "iopub.execute_input": "2022-11-30T22:24:45.315913Z",
          "iopub.status.busy": "2022-11-30T22:24:45.315482Z",
          "iopub.status.idle": "2022-11-30T22:24:45.320647Z",
          "shell.execute_reply": "2022-11-30T22:24:45.319452Z",
          "shell.execute_reply.started": "2022-11-30T22:24:45.315875Z"
        },
        "id": "xTGzIu5EKmHz"
      },
      "outputs": [],
      "source": [
        "from sklearn.naive_bayes import GaussianNB"
      ]
    },
    {
      "cell_type": "code",
      "execution_count": null,
      "metadata": {
        "execution": {
          "iopub.execute_input": "2022-11-30T22:24:45.628769Z",
          "iopub.status.busy": "2022-11-30T22:24:45.628335Z",
          "iopub.status.idle": "2022-11-30T22:24:45.637594Z",
          "shell.execute_reply": "2022-11-30T22:24:45.636502Z",
          "shell.execute_reply.started": "2022-11-30T22:24:45.628706Z"
        },
        "colab": {
          "base_uri": "https://localhost:8080/",
          "height": 74
        },
        "id": "YO-V4mP1KmHz",
        "outputId": "1258bbd1-0e36-4278-a87a-fd04e1de84be"
      },
      "outputs": [
        {
          "output_type": "execute_result",
          "data": {
            "text/plain": [
              "GaussianNB()"
            ],
            "text/html": [
              "<style>#sk-container-id-1 {color: black;background-color: white;}#sk-container-id-1 pre{padding: 0;}#sk-container-id-1 div.sk-toggleable {background-color: white;}#sk-container-id-1 label.sk-toggleable__label {cursor: pointer;display: block;width: 100%;margin-bottom: 0;padding: 0.3em;box-sizing: border-box;text-align: center;}#sk-container-id-1 label.sk-toggleable__label-arrow:before {content: \"▸\";float: left;margin-right: 0.25em;color: #696969;}#sk-container-id-1 label.sk-toggleable__label-arrow:hover:before {color: black;}#sk-container-id-1 div.sk-estimator:hover label.sk-toggleable__label-arrow:before {color: black;}#sk-container-id-1 div.sk-toggleable__content {max-height: 0;max-width: 0;overflow: hidden;text-align: left;background-color: #f0f8ff;}#sk-container-id-1 div.sk-toggleable__content pre {margin: 0.2em;color: black;border-radius: 0.25em;background-color: #f0f8ff;}#sk-container-id-1 input.sk-toggleable__control:checked~div.sk-toggleable__content {max-height: 200px;max-width: 100%;overflow: auto;}#sk-container-id-1 input.sk-toggleable__control:checked~label.sk-toggleable__label-arrow:before {content: \"▾\";}#sk-container-id-1 div.sk-estimator input.sk-toggleable__control:checked~label.sk-toggleable__label {background-color: #d4ebff;}#sk-container-id-1 div.sk-label input.sk-toggleable__control:checked~label.sk-toggleable__label {background-color: #d4ebff;}#sk-container-id-1 input.sk-hidden--visually {border: 0;clip: rect(1px 1px 1px 1px);clip: rect(1px, 1px, 1px, 1px);height: 1px;margin: -1px;overflow: hidden;padding: 0;position: absolute;width: 1px;}#sk-container-id-1 div.sk-estimator {font-family: monospace;background-color: #f0f8ff;border: 1px dotted black;border-radius: 0.25em;box-sizing: border-box;margin-bottom: 0.5em;}#sk-container-id-1 div.sk-estimator:hover {background-color: #d4ebff;}#sk-container-id-1 div.sk-parallel-item::after {content: \"\";width: 100%;border-bottom: 1px solid gray;flex-grow: 1;}#sk-container-id-1 div.sk-label:hover label.sk-toggleable__label {background-color: #d4ebff;}#sk-container-id-1 div.sk-serial::before {content: \"\";position: absolute;border-left: 1px solid gray;box-sizing: border-box;top: 0;bottom: 0;left: 50%;z-index: 0;}#sk-container-id-1 div.sk-serial {display: flex;flex-direction: column;align-items: center;background-color: white;padding-right: 0.2em;padding-left: 0.2em;position: relative;}#sk-container-id-1 div.sk-item {position: relative;z-index: 1;}#sk-container-id-1 div.sk-parallel {display: flex;align-items: stretch;justify-content: center;background-color: white;position: relative;}#sk-container-id-1 div.sk-item::before, #sk-container-id-1 div.sk-parallel-item::before {content: \"\";position: absolute;border-left: 1px solid gray;box-sizing: border-box;top: 0;bottom: 0;left: 50%;z-index: -1;}#sk-container-id-1 div.sk-parallel-item {display: flex;flex-direction: column;z-index: 1;position: relative;background-color: white;}#sk-container-id-1 div.sk-parallel-item:first-child::after {align-self: flex-end;width: 50%;}#sk-container-id-1 div.sk-parallel-item:last-child::after {align-self: flex-start;width: 50%;}#sk-container-id-1 div.sk-parallel-item:only-child::after {width: 0;}#sk-container-id-1 div.sk-dashed-wrapped {border: 1px dashed gray;margin: 0 0.4em 0.5em 0.4em;box-sizing: border-box;padding-bottom: 0.4em;background-color: white;}#sk-container-id-1 div.sk-label label {font-family: monospace;font-weight: bold;display: inline-block;line-height: 1.2em;}#sk-container-id-1 div.sk-label-container {text-align: center;}#sk-container-id-1 div.sk-container {/* jupyter's `normalize.less` sets `[hidden] { display: none; }` but bootstrap.min.css set `[hidden] { display: none !important; }` so we also need the `!important` here to be able to override the default hidden behavior on the sphinx rendered scikit-learn.org. See: https://github.com/scikit-learn/scikit-learn/issues/21755 */display: inline-block !important;position: relative;}#sk-container-id-1 div.sk-text-repr-fallback {display: none;}</style><div id=\"sk-container-id-1\" class=\"sk-top-container\"><div class=\"sk-text-repr-fallback\"><pre>GaussianNB()</pre><b>In a Jupyter environment, please rerun this cell to show the HTML representation or trust the notebook. <br />On GitHub, the HTML representation is unable to render, please try loading this page with nbviewer.org.</b></div><div class=\"sk-container\" hidden><div class=\"sk-item\"><div class=\"sk-estimator sk-toggleable\"><input class=\"sk-toggleable__control sk-hidden--visually\" id=\"sk-estimator-id-1\" type=\"checkbox\" checked><label for=\"sk-estimator-id-1\" class=\"sk-toggleable__label sk-toggleable__label-arrow\">GaussianNB</label><div class=\"sk-toggleable__content\"><pre>GaussianNB()</pre></div></div></div></div></div>"
            ]
          },
          "metadata": {},
          "execution_count": 42
        }
      ],
      "source": [
        "naive_bayes = GaussianNB()\n",
        "naive_bayes.fit(X_train, y_train)"
      ]
    },
    {
      "cell_type": "code",
      "execution_count": null,
      "metadata": {
        "execution": {
          "iopub.execute_input": "2022-11-30T22:24:46.164025Z",
          "iopub.status.busy": "2022-11-30T22:24:46.163449Z",
          "iopub.status.idle": "2022-11-30T22:24:46.168869Z",
          "shell.execute_reply": "2022-11-30T22:24:46.167920Z",
          "shell.execute_reply.started": "2022-11-30T22:24:46.163992Z"
        },
        "id": "jsIjpSaUKmH0"
      },
      "outputs": [],
      "source": [
        "previsoes = naive_bayes.predict(X_test)"
      ]
    },
    {
      "cell_type": "code",
      "execution_count": null,
      "metadata": {
        "execution": {
          "iopub.execute_input": "2022-11-30T22:24:47.525901Z",
          "iopub.status.busy": "2022-11-30T22:24:47.525324Z",
          "iopub.status.idle": "2022-11-30T22:24:47.643740Z",
          "shell.execute_reply": "2022-11-30T22:24:47.642321Z",
          "shell.execute_reply.started": "2022-11-30T22:24:47.525867Z"
        },
        "colab": {
          "base_uri": "https://localhost:8080/",
          "height": 506
        },
        "id": "1FnJ8KjCKmH1",
        "outputId": "406a74c4-5e7b-40dd-fc12-0b9041b9218e"
      },
      "outputs": [
        {
          "output_type": "execute_result",
          "data": {
            "text/plain": [
              "0.70995670995671"
            ]
          },
          "metadata": {},
          "execution_count": 44
        },
        {
          "output_type": "display_data",
          "data": {
            "text/plain": [
              "<Figure size 800x550 with 1 Axes>"
            ],
            "image/png": "[encoded data removed]"
          },
          "metadata": {}
        }
      ],
      "source": [
        "cm = ConfusionMatrix(naive_bayes)\n",
        "cm.fit(X_train, y_train)\n",
        "cm.score(X_test, y_test)"
      ]
    },
    {
      "cell_type": "code",
      "execution_count": null,
      "metadata": {
        "execution": {
          "iopub.execute_input": "2022-11-30T22:24:48.348892Z",
          "iopub.status.busy": "2022-11-30T22:24:48.348488Z",
          "iopub.status.idle": "2022-11-30T22:24:48.359525Z",
          "shell.execute_reply": "2022-11-30T22:24:48.358373Z",
          "shell.execute_reply.started": "2022-11-30T22:24:48.348858Z"
        },
        "id": "YD3_YiKxKmH2"
      },
      "outputs": [],
      "source": [
        "classification_naive_gaussian = (classification_report(y_test, previsoes))"
      ]
    },
    {
      "cell_type": "code",
      "execution_count": null,
      "metadata": {
        "execution": {
          "iopub.execute_input": "2022-11-30T22:24:49.785679Z",
          "iopub.status.busy": "2022-11-30T22:24:49.785307Z",
          "iopub.status.idle": "2022-11-30T22:24:49.791011Z",
          "shell.execute_reply": "2022-11-30T22:24:49.789893Z",
          "shell.execute_reply.started": "2022-11-30T22:24:49.785648Z"
        },
        "colab": {
          "base_uri": "https://localhost:8080/"
        },
        "id": "2A5f3shuKmH2",
        "outputId": "eaaf6b86-7c22-4ef0-bc57-5044cfb7a9af"
      },
      "outputs": [
        {
          "output_type": "stream",
          "name": "stdout",
          "text": [
            "              precision    recall  f1-score   support\n",
            "\n",
            "           0       0.89      0.45      0.60       111\n",
            "           1       0.65      0.95      0.77       120\n",
            "\n",
            "    accuracy                           0.71       231\n",
            "   macro avg       0.77      0.70      0.69       231\n",
            "weighted avg       0.77      0.71      0.69       231\n",
            "\n"
          ]
        }
      ],
      "source": [
        "print(classification_naive_gaussian)"
      ]
    },
    {
      "cell_type": "code",
      "execution_count": null,
      "metadata": {
        "execution": {
          "iopub.execute_input": "2022-11-30T22:25:40.006702Z",
          "iopub.status.busy": "2022-11-30T22:25:40.005770Z",
          "iopub.status.idle": "2022-11-30T22:25:40.011303Z",
          "shell.execute_reply": "2022-11-30T22:25:40.009868Z",
          "shell.execute_reply.started": "2022-11-30T22:25:40.006663Z"
        },
        "id": "enaJbOVaKmH3"
      },
      "outputs": [],
      "source": [
        "score_naive_gaussian = 0.70995670995671"
      ]
    },
    {
      "cell_type": "code",
      "execution_count": null,
      "metadata": {
        "execution": {
          "iopub.execute_input": "2022-11-30T22:25:50.887851Z",
          "iopub.status.busy": "2022-11-30T22:25:50.886651Z",
          "iopub.status.idle": "2022-11-30T22:25:50.894417Z",
          "shell.execute_reply": "2022-11-30T22:25:50.893237Z",
          "shell.execute_reply.started": "2022-11-30T22:25:50.887805Z"
        },
        "id": "QN4H7nm4KmH3"
      },
      "outputs": [],
      "source": [
        "min_split = np.array([2, 3, 4, 5, 6, 7])\n",
        "max_nvl = np.array([3, 4, 5, 6, 7, 9, 11])\n",
        "alg = ['entropy', 'gini']\n",
        "values_grid = {'min_samples_split': min_split, 'max_depth': max_nvl, 'criterion': alg}"
      ]
    },
    {
      "cell_type": "code",
      "execution_count": null,
      "metadata": {
        "execution": {
          "iopub.execute_input": "2022-11-30T22:25:51.568691Z",
          "iopub.status.busy": "2022-11-30T22:25:51.568295Z",
          "iopub.status.idle": "2022-11-30T22:25:51.573429Z",
          "shell.execute_reply": "2022-11-30T22:25:51.572251Z",
          "shell.execute_reply.started": "2022-11-30T22:25:51.568655Z"
        },
        "id": "2gDcAPh4KmH4"
      },
      "outputs": [],
      "source": [
        "model = DecisionTreeClassifier()"
      ]
    },
    {
      "cell_type": "code",
      "execution_count": null,
      "metadata": {
        "execution": {
          "iopub.execute_input": "2022-11-30T22:25:52.079336Z",
          "iopub.status.busy": "2022-11-30T22:25:52.078751Z",
          "iopub.status.idle": "2022-11-30T22:25:52.085357Z",
          "shell.execute_reply": "2022-11-30T22:25:52.084012Z",
          "shell.execute_reply.started": "2022-11-30T22:25:52.079286Z"
        },
        "id": "XBTDIn-CKmH5"
      },
      "outputs": [],
      "source": [
        "gridDecisionTree = GridSearchCV(estimator = model, param_grid = values_grid, cv = 5)"
      ]
    },
    {
      "cell_type": "code",
      "execution_count": null,
      "metadata": {
        "execution": {
          "iopub.execute_input": "2022-11-30T22:25:52.716800Z",
          "iopub.status.busy": "2022-11-30T22:25:52.715813Z",
          "iopub.status.idle": "2022-11-30T22:25:53.802848Z",
          "shell.execute_reply": "2022-11-30T22:25:53.801763Z",
          "shell.execute_reply.started": "2022-11-30T22:25:52.716760Z"
        },
        "colab": {
          "base_uri": "https://localhost:8080/",
          "height": 117
        },
        "id": "oBxa8FV2KmH5",
        "outputId": "0ae1c4f0-a6cb-4a57-dc33-b863f16de232"
      },
      "outputs": [
        {
          "output_type": "execute_result",
          "data": {
            "text/plain": [
              "GridSearchCV(cv=5, estimator=DecisionTreeClassifier(),\n",
              "             param_grid={'criterion': ['entropy', 'gini'],\n",
              "                         'max_depth': array([ 3,  4,  5,  6,  7,  9, 11]),\n",
              "                         'min_samples_split': array([2, 3, 4, 5, 6, 7])})"
            ],
            "text/html": [
              "<style>#sk-container-id-2 {color: black;background-color: white;}#sk-container-id-2 pre{padding: 0;}#sk-container-id-2 div.sk-toggleable {background-color: white;}#sk-container-id-2 label.sk-toggleable__label {cursor: pointer;display: block;width: 100%;margin-bottom: 0;padding: 0.3em;box-sizing: border-box;text-align: center;}#sk-container-id-2 label.sk-toggleable__label-arrow:before {content: \"▸\";float: left;margin-right: 0.25em;color: #696969;}#sk-container-id-2 label.sk-toggleable__label-arrow:hover:before {color: black;}#sk-container-id-2 div.sk-estimator:hover label.sk-toggleable__label-arrow:before {color: black;}#sk-container-id-2 div.sk-toggleable__content {max-height: 0;max-width: 0;overflow: hidden;text-align: left;background-color: #f0f8ff;}#sk-container-id-2 div.sk-toggleable__content pre {margin: 0.2em;color: black;border-radius: 0.25em;background-color: #f0f8ff;}#sk-container-id-2 input.sk-toggleable__control:checked~div.sk-toggleable__content {max-height: 200px;max-width: 100%;overflow: auto;}#sk-container-id-2 input.sk-toggleable__control:checked~label.sk-toggleable__label-arrow:before {content: \"▾\";}#sk-container-id-2 div.sk-estimator input.sk-toggleable__control:checked~label.sk-toggleable__label {background-color: #d4ebff;}#sk-container-id-2 div.sk-label input.sk-toggleable__control:checked~label.sk-toggleable__label {background-color: #d4ebff;}#sk-container-id-2 input.sk-hidden--visually {border: 0;clip: rect(1px 1px 1px 1px);clip: rect(1px, 1px, 1px, 1px);height: 1px;margin: -1px;overflow: hidden;padding: 0;position: absolute;width: 1px;}#sk-container-id-2 div.sk-estimator {font-family: monospace;background-color: #f0f8ff;border: 1px dotted black;border-radius: 0.25em;box-sizing: border-box;margin-bottom: 0.5em;}#sk-container-id-2 div.sk-estimator:hover {background-color: #d4ebff;}#sk-container-id-2 div.sk-parallel-item::after {content: \"\";width: 100%;border-bottom: 1px solid gray;flex-grow: 1;}#sk-container-id-2 div.sk-label:hover label.sk-toggleable__label {background-color: #d4ebff;}#sk-container-id-2 div.sk-serial::before {content: \"\";position: absolute;border-left: 1px solid gray;box-sizing: border-box;top: 0;bottom: 0;left: 50%;z-index: 0;}#sk-container-id-2 div.sk-serial {display: flex;flex-direction: column;align-items: center;background-color: white;padding-right: 0.2em;padding-left: 0.2em;position: relative;}#sk-container-id-2 div.sk-item {position: relative;z-index: 1;}#sk-container-id-2 div.sk-parallel {display: flex;align-items: stretch;justify-content: center;background-color: white;position: relative;}#sk-container-id-2 div.sk-item::before, #sk-container-id-2 div.sk-parallel-item::before {content: \"\";position: absolute;border-left: 1px solid gray;box-sizing: border-box;top: 0;bottom: 0;left: 50%;z-index: -1;}#sk-container-id-2 div.sk-parallel-item {display: flex;flex-direction: column;z-index: 1;position: relative;background-color: white;}#sk-container-id-2 div.sk-parallel-item:first-child::after {align-self: flex-end;width: 50%;}#sk-container-id-2 div.sk-parallel-item:last-child::after {align-self: flex-start;width: 50%;}#sk-container-id-2 div.sk-parallel-item:only-child::after {width: 0;}#sk-container-id-2 div.sk-dashed-wrapped {border: 1px dashed gray;margin: 0 0.4em 0.5em 0.4em;box-sizing: border-box;padding-bottom: 0.4em;background-color: white;}#sk-container-id-2 div.sk-label label {font-family: monospace;font-weight: bold;display: inline-block;line-height: 1.2em;}#sk-container-id-2 div.sk-label-container {text-align: center;}#sk-container-id-2 div.sk-container {/* jupyter's `normalize.less` sets `[hidden] { display: none; }` but bootstrap.min.css set `[hidden] { display: none !important; }` so we also need the `!important` here to be able to override the default hidden behavior on the sphinx rendered scikit-learn.org. See: https://github.com/scikit-learn/scikit-learn/issues/21755 */display: inline-block !important;position: relative;}#sk-container-id-2 div.sk-text-repr-fallback {display: none;}</style><div id=\"sk-container-id-2\" class=\"sk-top-container\"><div class=\"sk-text-repr-fallback\"><pre>GridSearchCV(cv=5, estimator=DecisionTreeClassifier(),\n",
              "             param_grid={&#x27;criterion&#x27;: [&#x27;entropy&#x27;, &#x27;gini&#x27;],\n",
              "                         &#x27;max_depth&#x27;: array([ 3,  4,  5,  6,  7,  9, 11]),\n",
              "                         &#x27;min_samples_split&#x27;: array([2, 3, 4, 5, 6, 7])})</pre><b>In a Jupyter environment, please rerun this cell to show the HTML representation or trust the notebook. <br />On GitHub, the HTML representation is unable to render, please try loading this page with nbviewer.org.</b></div><div class=\"sk-container\" hidden><div class=\"sk-item sk-dashed-wrapped\"><div class=\"sk-label-container\"><div class=\"sk-label sk-toggleable\"><input class=\"sk-toggleable__control sk-hidden--visually\" id=\"sk-estimator-id-2\" type=\"checkbox\" ><label for=\"sk-estimator-id-2\" class=\"sk-toggleable__label sk-toggleable__label-arrow\">GridSearchCV</label><div class=\"sk-toggleable__content\"><pre>GridSearchCV(cv=5, estimator=DecisionTreeClassifier(),\n",
              "             param_grid={&#x27;criterion&#x27;: [&#x27;entropy&#x27;, &#x27;gini&#x27;],\n",
              "                         &#x27;max_depth&#x27;: array([ 3,  4,  5,  6,  7,  9, 11]),\n",
              "                         &#x27;min_samples_split&#x27;: array([2, 3, 4, 5, 6, 7])})</pre></div></div></div><div class=\"sk-parallel\"><div class=\"sk-parallel-item\"><div class=\"sk-item\"><div class=\"sk-label-container\"><div class=\"sk-label sk-toggleable\"><input class=\"sk-toggleable__control sk-hidden--visually\" id=\"sk-estimator-id-3\" type=\"checkbox\" ><label for=\"sk-estimator-id-3\" class=\"sk-toggleable__label sk-toggleable__label-arrow\">estimator: DecisionTreeClassifier</label><div class=\"sk-toggleable__content\"><pre>DecisionTreeClassifier()</pre></div></div></div><div class=\"sk-serial\"><div class=\"sk-item\"><div class=\"sk-estimator sk-toggleable\"><input class=\"sk-toggleable__control sk-hidden--visually\" id=\"sk-estimator-id-4\" type=\"checkbox\" ><label for=\"sk-estimator-id-4\" class=\"sk-toggleable__label sk-toggleable__label-arrow\">DecisionTreeClassifier</label><div class=\"sk-toggleable__content\"><pre>DecisionTreeClassifier()</pre></div></div></div></div></div></div></div></div></div></div>"
            ]
          },
          "metadata": {},
          "execution_count": 51
        }
      ],
      "source": [
        "gridDecisionTree.fit(X_train, y_train)"
      ]
    },
    {
      "cell_type": "code",
      "execution_count": null,
      "metadata": {
        "execution": {
          "iopub.execute_input": "2022-11-30T22:25:53.805453Z",
          "iopub.status.busy": "2022-11-30T22:25:53.804823Z",
          "iopub.status.idle": "2022-11-30T22:25:53.811889Z",
          "shell.execute_reply": "2022-11-30T22:25:53.810620Z",
          "shell.execute_reply.started": "2022-11-30T22:25:53.805420Z"
        },
        "colab": {
          "base_uri": "https://localhost:8080/"
        },
        "id": "n8MYq93DKmH6",
        "outputId": "6fb7a161-4b99-4f75-cb3a-dbc4f1b09a60"
      },
      "outputs": [
        {
          "output_type": "stream",
          "name": "stdout",
          "text": [
            "Mín Split:  3\n",
            "Max Nvl:  11\n",
            "Algorithm:  gini\n",
            "Score:  0.784717895465559\n"
          ]
        }
      ],
      "source": [
        "print('Mín Split: ', gridDecisionTree.best_estimator_.min_samples_split)\n",
        "print('Max Nvl: ', gridDecisionTree.best_estimator_.max_depth)\n",
        "print('Algorithm: ', gridDecisionTree.best_estimator_.criterion)\n",
        "print('Score: ', gridDecisionTree.best_score_)"
      ]
    },
    {
      "cell_type": "code",
      "execution_count": null,
      "metadata": {
        "execution": {
          "iopub.execute_input": "2022-11-30T22:27:11.586592Z",
          "iopub.status.busy": "2022-11-30T22:27:11.586170Z",
          "iopub.status.idle": "2022-11-30T22:27:11.592645Z",
          "shell.execute_reply": "2022-11-30T22:27:11.591312Z",
          "shell.execute_reply.started": "2022-11-30T22:27:11.586553Z"
        },
        "id": "ohjYDjzEKmH6"
      },
      "outputs": [],
      "source": [
        "decision_tree = DecisionTreeClassifier(criterion = 'gini', min_samples_split = 4, max_depth= 11, random_state=0)"
      ]
    },
    {
      "cell_type": "code",
      "execution_count": null,
      "metadata": {
        "execution": {
          "iopub.execute_input": "2022-11-30T22:27:21.447140Z",
          "iopub.status.busy": "2022-11-30T22:27:21.446736Z",
          "iopub.status.idle": "2022-11-30T22:27:21.459252Z",
          "shell.execute_reply": "2022-11-30T22:27:21.458034Z",
          "shell.execute_reply.started": "2022-11-30T22:27:21.447089Z"
        },
        "colab": {
          "base_uri": "https://localhost:8080/",
          "height": 74
        },
        "id": "85nOSAmjKmIf",
        "outputId": "cee3dfcb-3e95-4d36-f7b9-8884721d1375"
      },
      "outputs": [
        {
          "output_type": "execute_result",
          "data": {
            "text/plain": [
              "DecisionTreeClassifier(max_depth=11, min_samples_split=4, random_state=0)"
            ],
            "text/html": [
              "<style>#sk-container-id-3 {color: black;background-color: white;}#sk-container-id-3 pre{padding: 0;}#sk-container-id-3 div.sk-toggleable {background-color: white;}#sk-container-id-3 label.sk-toggleable__label {cursor: pointer;display: block;width: 100%;margin-bottom: 0;padding: 0.3em;box-sizing: border-box;text-align: center;}#sk-container-id-3 label.sk-toggleable__label-arrow:before {content: \"▸\";float: left;margin-right: 0.25em;color: #696969;}#sk-container-id-3 label.sk-toggleable__label-arrow:hover:before {color: black;}#sk-container-id-3 div.sk-estimator:hover label.sk-toggleable__label-arrow:before {color: black;}#sk-container-id-3 div.sk-toggleable__content {max-height: 0;max-width: 0;overflow: hidden;text-align: left;background-color: #f0f8ff;}#sk-container-id-3 div.sk-toggleable__content pre {margin: 0.2em;color: black;border-radius: 0.25em;background-color: #f0f8ff;}#sk-container-id-3 input.sk-toggleable__control:checked~div.sk-toggleable__content {max-height: 200px;max-width: 100%;overflow: auto;}#sk-container-id-3 input.sk-toggleable__control:checked~label.sk-toggleable__label-arrow:before {content: \"▾\";}#sk-container-id-3 div.sk-estimator input.sk-toggleable__control:checked~label.sk-toggleable__label {background-color: #d4ebff;}#sk-container-id-3 div.sk-label input.sk-toggleable__control:checked~label.sk-toggleable__label {background-color: #d4ebff;}#sk-container-id-3 input.sk-hidden--visually {border: 0;clip: rect(1px 1px 1px 1px);clip: rect(1px, 1px, 1px, 1px);height: 1px;margin: -1px;overflow: hidden;padding: 0;position: absolute;width: 1px;}#sk-container-id-3 div.sk-estimator {font-family: monospace;background-color: #f0f8ff;border: 1px dotted black;border-radius: 0.25em;box-sizing: border-box;margin-bottom: 0.5em;}#sk-container-id-3 div.sk-estimator:hover {background-color: #d4ebff;}#sk-container-id-3 div.sk-parallel-item::after {content: \"\";width: 100%;border-bottom: 1px solid gray;flex-grow: 1;}#sk-container-id-3 div.sk-label:hover label.sk-toggleable__label {background-color: #d4ebff;}#sk-container-id-3 div.sk-serial::before {content: \"\";position: absolute;border-left: 1px solid gray;box-sizing: border-box;top: 0;bottom: 0;left: 50%;z-index: 0;}#sk-container-id-3 div.sk-serial {display: flex;flex-direction: column;align-items: center;background-color: white;padding-right: 0.2em;padding-left: 0.2em;position: relative;}#sk-container-id-3 div.sk-item {position: relative;z-index: 1;}#sk-container-id-3 div.sk-parallel {display: flex;align-items: stretch;justify-content: center;background-color: white;position: relative;}#sk-container-id-3 div.sk-item::before, #sk-container-id-3 div.sk-parallel-item::before {content: \"\";position: absolute;border-left: 1px solid gray;box-sizing: border-box;top: 0;bottom: 0;left: 50%;z-index: -1;}#sk-container-id-3 div.sk-parallel-item {display: flex;flex-direction: column;z-index: 1;position: relative;background-color: white;}#sk-container-id-3 div.sk-parallel-item:first-child::after {align-self: flex-end;width: 50%;}#sk-container-id-3 div.sk-parallel-item:last-child::after {align-self: flex-start;width: 50%;}#sk-container-id-3 div.sk-parallel-item:only-child::after {width: 0;}#sk-container-id-3 div.sk-dashed-wrapped {border: 1px dashed gray;margin: 0 0.4em 0.5em 0.4em;box-sizing: border-box;padding-bottom: 0.4em;background-color: white;}#sk-container-id-3 div.sk-label label {font-family: monospace;font-weight: bold;display: inline-block;line-height: 1.2em;}#sk-container-id-3 div.sk-label-container {text-align: center;}#sk-container-id-3 div.sk-container {/* jupyter's `normalize.less` sets `[hidden] { display: none; }` but bootstrap.min.css set `[hidden] { display: none !important; }` so we also need the `!important` here to be able to override the default hidden behavior on the sphinx rendered scikit-learn.org. See: https://github.com/scikit-learn/scikit-learn/issues/21755 */display: inline-block !important;position: relative;}#sk-container-id-3 div.sk-text-repr-fallback {display: none;}</style><div id=\"sk-container-id-3\" class=\"sk-top-container\"><div class=\"sk-text-repr-fallback\"><pre>DecisionTreeClassifier(max_depth=11, min_samples_split=4, random_state=0)</pre><b>In a Jupyter environment, please rerun this cell to show the HTML representation or trust the notebook. <br />On GitHub, the HTML representation is unable to render, please try loading this page with nbviewer.org.</b></div><div class=\"sk-container\" hidden><div class=\"sk-item\"><div class=\"sk-estimator sk-toggleable\"><input class=\"sk-toggleable__control sk-hidden--visually\" id=\"sk-estimator-id-5\" type=\"checkbox\" checked><label for=\"sk-estimator-id-5\" class=\"sk-toggleable__label sk-toggleable__label-arrow\">DecisionTreeClassifier</label><div class=\"sk-toggleable__content\"><pre>DecisionTreeClassifier(max_depth=11, min_samples_split=4, random_state=0)</pre></div></div></div></div></div>"
            ]
          },
          "metadata": {},
          "execution_count": 54
        }
      ],
      "source": [
        "decision_tree.fit(X_train, y_train)"
      ]
    },
    {
      "cell_type": "code",
      "execution_count": null,
      "metadata": {
        "execution": {
          "iopub.execute_input": "2022-11-30T22:27:27.389235Z",
          "iopub.status.busy": "2022-11-30T22:27:27.388830Z",
          "iopub.status.idle": "2022-11-30T22:27:27.394931Z",
          "shell.execute_reply": "2022-11-30T22:27:27.394008Z",
          "shell.execute_reply.started": "2022-11-30T22:27:27.389201Z"
        },
        "id": "4bY0r06RKmIh"
      },
      "outputs": [],
      "source": [
        "previsoes = decision_tree.predict(X_test)"
      ]
    },
    {
      "cell_type": "code",
      "execution_count": null,
      "metadata": {
        "execution": {
          "iopub.execute_input": "2022-11-30T22:27:40.347166Z",
          "iopub.status.busy": "2022-11-30T22:27:40.346715Z",
          "iopub.status.idle": "2022-11-30T22:27:40.479088Z",
          "shell.execute_reply": "2022-11-30T22:27:40.477447Z",
          "shell.execute_reply.started": "2022-11-30T22:27:40.347125Z"
        },
        "colab": {
          "base_uri": "https://localhost:8080/",
          "height": 506
        },
        "id": "JpxArfSbKmIj",
        "outputId": "4f9dc627-93ef-43c1-8904-07f3d9b46586"
      },
      "outputs": [
        {
          "output_type": "execute_result",
          "data": {
            "text/plain": [
              "0.7272727272727273"
            ]
          },
          "metadata": {},
          "execution_count": 56
        },
        {
          "output_type": "display_data",
          "data": {
            "text/plain": [
              "<Figure size 800x550 with 1 Axes>"
            ],
            "image/png": "[encoded data removed]"
          },
          "metadata": {}
        }
      ],
      "source": [
        "cm = ConfusionMatrix(decision_tree)\n",
        "cm.fit(X_train, y_train)\n",
        "cm.score(X_test, y_test)"
      ]
    },
    {
      "cell_type": "code",
      "execution_count": null,
      "metadata": {
        "execution": {
          "iopub.execute_input": "2022-11-30T22:28:02.975852Z",
          "iopub.status.busy": "2022-11-30T22:28:02.975465Z",
          "iopub.status.idle": "2022-11-30T22:28:02.986662Z",
          "shell.execute_reply": "2022-11-30T22:28:02.985346Z",
          "shell.execute_reply.started": "2022-11-30T22:28:02.975820Z"
        },
        "id": "kKwVJorHKmIu"
      },
      "outputs": [],
      "source": [
        "classification_decision = (classification_report(y_test, previsoes))"
      ]
    },
    {
      "cell_type": "code",
      "execution_count": null,
      "metadata": {
        "execution": {
          "iopub.execute_input": "2022-11-30T22:28:08.786259Z",
          "iopub.status.busy": "2022-11-30T22:28:08.785831Z",
          "iopub.status.idle": "2022-11-30T22:28:08.792704Z",
          "shell.execute_reply": "2022-11-30T22:28:08.791544Z",
          "shell.execute_reply.started": "2022-11-30T22:28:08.786222Z"
        },
        "colab": {
          "base_uri": "https://localhost:8080/"
        },
        "id": "Lct-3k-JKmIw",
        "outputId": "96fce5e7-ded5-4ba1-fd21-0bbcf0b807ea"
      },
      "outputs": [
        {
          "output_type": "stream",
          "name": "stdout",
          "text": [
            "              precision    recall  f1-score   support\n",
            "\n",
            "           0       0.70      0.75      0.72       111\n",
            "           1       0.75      0.71      0.73       120\n",
            "\n",
            "    accuracy                           0.73       231\n",
            "   macro avg       0.73      0.73      0.73       231\n",
            "weighted avg       0.73      0.73      0.73       231\n",
            "\n"
          ]
        }
      ],
      "source": [
        "print(classification_decision)"
      ]
    },
    {
      "cell_type": "code",
      "execution_count": null,
      "metadata": {
        "execution": {
          "iopub.execute_input": "2022-11-30T22:28:29.542535Z",
          "iopub.status.busy": "2022-11-30T22:28:29.542001Z",
          "iopub.status.idle": "2022-11-30T22:28:29.549419Z",
          "shell.execute_reply": "2022-11-30T22:28:29.547901Z",
          "shell.execute_reply.started": "2022-11-30T22:28:29.542486Z"
        },
        "id": "wSDgObe3KmIx"
      },
      "outputs": [],
      "source": [
        "score_tree = 0.7272727272727273"
      ]
    },
    {
      "cell_type": "code",
      "execution_count": null,
      "metadata": {
        "execution": {
          "iopub.execute_input": "2022-11-30T22:30:47.626226Z",
          "iopub.status.busy": "2022-11-30T22:30:47.625177Z",
          "iopub.status.idle": "2022-11-30T22:30:47.631935Z",
          "shell.execute_reply": "2022-11-30T22:30:47.630838Z",
          "shell.execute_reply.started": "2022-11-30T22:30:47.626179Z"
        },
        "id": "Q23gWUwGKmIx"
      },
      "outputs": [],
      "source": [
        "columns = df.drop('Loan_Status', axis = 1).columns"
      ]
    },
    {
      "cell_type": "code",
      "execution_count": null,
      "metadata": {
        "execution": {
          "iopub.execute_input": "2022-11-30T22:30:55.678470Z",
          "iopub.status.busy": "2022-11-30T22:30:55.678025Z",
          "iopub.status.idle": "2022-11-30T22:30:55.684686Z",
          "shell.execute_reply": "2022-11-30T22:30:55.683384Z",
          "shell.execute_reply.started": "2022-11-30T22:30:55.678433Z"
        },
        "id": "xX_CQZ4pKmIy"
      },
      "outputs": [],
      "source": [
        "feature_imp = pd.Series(decision_tree.feature_importances_, index = columns).sort_values(ascending = False)"
      ]
    },
    {
      "cell_type": "code",
      "execution_count": null,
      "metadata": {
        "execution": {
          "iopub.execute_input": "2022-11-30T22:31:03.415688Z",
          "iopub.status.busy": "2022-11-30T22:31:03.415291Z",
          "iopub.status.idle": "2022-11-30T22:31:03.424221Z",
          "shell.execute_reply": "2022-11-30T22:31:03.422895Z",
          "shell.execute_reply.started": "2022-11-30T22:31:03.415655Z"
        },
        "colab": {
          "base_uri": "https://localhost:8080/"
        },
        "id": "DQ4KAUbBKmIy",
        "outputId": "a1b6987a-6c4e-4de1-af99-18985e4eec8f"
      },
      "outputs": [
        {
          "output_type": "execute_result",
          "data": {
            "text/plain": [
              "Credit_History       0.337157\n",
              "LoanAmount           0.217581\n",
              "ApplicantIncome      0.162869\n",
              "CoapplicantIncome    0.092034\n",
              "Loan_Amount_Term     0.049764\n",
              "Property_Area        0.047454\n",
              "Dependents           0.031819\n",
              "Married              0.028511\n",
              "Gender               0.014773\n",
              "Education            0.014522\n",
              "Self_Employed        0.003516\n",
              "dtype: float64"
            ]
          },
          "metadata": {},
          "execution_count": 62
        }
      ],
      "source": [
        "feature_imp"
      ]
    },
    {
      "cell_type": "code",
      "execution_count": null,
      "metadata": {
        "execution": {
          "iopub.execute_input": "2022-11-30T22:31:28.338258Z",
          "iopub.status.busy": "2022-11-30T22:31:28.337867Z",
          "iopub.status.idle": "2022-11-30T22:31:28.343387Z",
          "shell.execute_reply": "2022-11-30T22:31:28.342109Z",
          "shell.execute_reply.started": "2022-11-30T22:31:28.338225Z"
        },
        "id": "Bnp_IrZXKmIz"
      },
      "outputs": [],
      "source": [
        "from sklearn.ensemble import RandomForestClassifier"
      ]
    },
    {
      "cell_type": "code",
      "execution_count": null,
      "metadata": {
        "execution": {
          "iopub.execute_input": "2022-11-30T22:31:34.486389Z",
          "iopub.status.busy": "2022-11-30T22:31:34.485347Z",
          "iopub.status.idle": "2022-11-30T22:31:34.491603Z",
          "shell.execute_reply": "2022-11-30T22:31:34.490429Z",
          "shell.execute_reply.started": "2022-11-30T22:31:34.486348Z"
        },
        "id": "MTRra720KmIz"
      },
      "outputs": [],
      "source": [
        "n_estimators = np.array([100])\n",
        "alg = ['entropy', 'gini']\n",
        "values_grid = {'n_estimators': n_estimators, 'criterion': alg}"
      ]
    },
    {
      "cell_type": "code",
      "execution_count": null,
      "metadata": {
        "execution": {
          "iopub.execute_input": "2022-11-30T22:31:34.679213Z",
          "iopub.status.busy": "2022-11-30T22:31:34.678138Z",
          "iopub.status.idle": "2022-11-30T22:31:34.684525Z",
          "shell.execute_reply": "2022-11-30T22:31:34.683177Z",
          "shell.execute_reply.started": "2022-11-30T22:31:34.679155Z"
        },
        "id": "iCcxyyzNKmIz"
      },
      "outputs": [],
      "source": [
        "model = RandomForestClassifier()"
      ]
    },
    {
      "cell_type": "code",
      "execution_count": null,
      "metadata": {
        "execution": {
          "iopub.execute_input": "2022-11-30T22:31:35.076709Z",
          "iopub.status.busy": "2022-11-30T22:31:35.075688Z",
          "iopub.status.idle": "2022-11-30T22:31:35.081838Z",
          "shell.execute_reply": "2022-11-30T22:31:35.080311Z",
          "shell.execute_reply.started": "2022-11-30T22:31:35.076655Z"
        },
        "id": "mMd2NHnwKmI0"
      },
      "outputs": [],
      "source": [
        "gridRandomForest = GridSearchCV(estimator = model, param_grid = values_grid, cv = 5)"
      ]
    },
    {
      "cell_type": "code",
      "execution_count": null,
      "metadata": {
        "execution": {
          "iopub.execute_input": "2022-11-30T22:31:35.495573Z",
          "iopub.status.busy": "2022-11-30T22:31:35.495191Z",
          "iopub.status.idle": "2022-11-30T22:31:37.567734Z",
          "shell.execute_reply": "2022-11-30T22:31:37.566409Z",
          "shell.execute_reply.started": "2022-11-30T22:31:35.495542Z"
        },
        "colab": {
          "base_uri": "https://localhost:8080/",
          "height": 117
        },
        "id": "JXyndlQZKmI1",
        "outputId": "6da2e010-5095-49e1-d33c-eb1ba6cb1fa9"
      },
      "outputs": [
        {
          "output_type": "execute_result",
          "data": {
            "text/plain": [
              "GridSearchCV(cv=5, estimator=RandomForestClassifier(),\n",
              "             param_grid={'criterion': ['entropy', 'gini'],\n",
              "                         'n_estimators': array([100])})"
            ],
            "text/html": [
              "<style>#sk-container-id-4 {color: black;background-color: white;}#sk-container-id-4 pre{padding: 0;}#sk-container-id-4 div.sk-toggleable {background-color: white;}#sk-container-id-4 label.sk-toggleable__label {cursor: pointer;display: block;width: 100%;margin-bottom: 0;padding: 0.3em;box-sizing: border-box;text-align: center;}#sk-container-id-4 label.sk-toggleable__label-arrow:before {content: \"▸\";float: left;margin-right: 0.25em;color: #696969;}#sk-container-id-4 label.sk-toggleable__label-arrow:hover:before {color: black;}#sk-container-id-4 div.sk-estimator:hover label.sk-toggleable__label-arrow:before {color: black;}#sk-container-id-4 div.sk-toggleable__content {max-height: 0;max-width: 0;overflow: hidden;text-align: left;background-color: #f0f8ff;}#sk-container-id-4 div.sk-toggleable__content pre {margin: 0.2em;color: black;border-radius: 0.25em;background-color: #f0f8ff;}#sk-container-id-4 input.sk-toggleable__control:checked~div.sk-toggleable__content {max-height: 200px;max-width: 100%;overflow: auto;}#sk-container-id-4 input.sk-toggleable__control:checked~label.sk-toggleable__label-arrow:before {content: \"▾\";}#sk-container-id-4 div.sk-estimator input.sk-toggleable__control:checked~label.sk-toggleable__label {background-color: #d4ebff;}#sk-container-id-4 div.sk-label input.sk-toggleable__control:checked~label.sk-toggleable__label {background-color: #d4ebff;}#sk-container-id-4 input.sk-hidden--visually {border: 0;clip: rect(1px 1px 1px 1px);clip: rect(1px, 1px, 1px, 1px);height: 1px;margin: -1px;overflow: hidden;padding: 0;position: absolute;width: 1px;}#sk-container-id-4 div.sk-estimator {font-family: monospace;background-color: #f0f8ff;border: 1px dotted black;border-radius: 0.25em;box-sizing: border-box;margin-bottom: 0.5em;}#sk-container-id-4 div.sk-estimator:hover {background-color: #d4ebff;}#sk-container-id-4 div.sk-parallel-item::after {content: \"\";width: 100%;border-bottom: 1px solid gray;flex-grow: 1;}#sk-container-id-4 div.sk-label:hover label.sk-toggleable__label {background-color: #d4ebff;}#sk-container-id-4 div.sk-serial::before {content: \"\";position: absolute;border-left: 1px solid gray;box-sizing: border-box;top: 0;bottom: 0;left: 50%;z-index: 0;}#sk-container-id-4 div.sk-serial {display: flex;flex-direction: column;align-items: center;background-color: white;padding-right: 0.2em;padding-left: 0.2em;position: relative;}#sk-container-id-4 div.sk-item {position: relative;z-index: 1;}#sk-container-id-4 div.sk-parallel {display: flex;align-items: stretch;justify-content: center;background-color: white;position: relative;}#sk-container-id-4 div.sk-item::before, #sk-container-id-4 div.sk-parallel-item::before {content: \"\";position: absolute;border-left: 1px solid gray;box-sizing: border-box;top: 0;bottom: 0;left: 50%;z-index: -1;}#sk-container-id-4 div.sk-parallel-item {display: flex;flex-direction: column;z-index: 1;position: relative;background-color: white;}#sk-container-id-4 div.sk-parallel-item:first-child::after {align-self: flex-end;width: 50%;}#sk-container-id-4 div.sk-parallel-item:last-child::after {align-self: flex-start;width: 50%;}#sk-container-id-4 div.sk-parallel-item:only-child::after {width: 0;}#sk-container-id-4 div.sk-dashed-wrapped {border: 1px dashed gray;margin: 0 0.4em 0.5em 0.4em;box-sizing: border-box;padding-bottom: 0.4em;background-color: white;}#sk-container-id-4 div.sk-label label {font-family: monospace;font-weight: bold;display: inline-block;line-height: 1.2em;}#sk-container-id-4 div.sk-label-container {text-align: center;}#sk-container-id-4 div.sk-container {/* jupyter's `normalize.less` sets `[hidden] { display: none; }` but bootstrap.min.css set `[hidden] { display: none !important; }` so we also need the `!important` here to be able to override the default hidden behavior on the sphinx rendered scikit-learn.org. See: https://github.com/scikit-learn/scikit-learn/issues/21755 */display: inline-block !important;position: relative;}#sk-container-id-4 div.sk-text-repr-fallback {display: none;}</style><div id=\"sk-container-id-4\" class=\"sk-top-container\"><div class=\"sk-text-repr-fallback\"><pre>GridSearchCV(cv=5, estimator=RandomForestClassifier(),\n",
              "             param_grid={&#x27;criterion&#x27;: [&#x27;entropy&#x27;, &#x27;gini&#x27;],\n",
              "                         &#x27;n_estimators&#x27;: array([100])})</pre><b>In a Jupyter environment, please rerun this cell to show the HTML representation or trust the notebook. <br />On GitHub, the HTML representation is unable to render, please try loading this page with nbviewer.org.</b></div><div class=\"sk-container\" hidden><div class=\"sk-item sk-dashed-wrapped\"><div class=\"sk-label-container\"><div class=\"sk-label sk-toggleable\"><input class=\"sk-toggleable__control sk-hidden--visually\" id=\"sk-estimator-id-6\" type=\"checkbox\" ><label for=\"sk-estimator-id-6\" class=\"sk-toggleable__label sk-toggleable__label-arrow\">GridSearchCV</label><div class=\"sk-toggleable__content\"><pre>GridSearchCV(cv=5, estimator=RandomForestClassifier(),\n",
              "             param_grid={&#x27;criterion&#x27;: [&#x27;entropy&#x27;, &#x27;gini&#x27;],\n",
              "                         &#x27;n_estimators&#x27;: array([100])})</pre></div></div></div><div class=\"sk-parallel\"><div class=\"sk-parallel-item\"><div class=\"sk-item\"><div class=\"sk-label-container\"><div class=\"sk-label sk-toggleable\"><input class=\"sk-toggleable__control sk-hidden--visually\" id=\"sk-estimator-id-7\" type=\"checkbox\" ><label for=\"sk-estimator-id-7\" class=\"sk-toggleable__label sk-toggleable__label-arrow\">estimator: RandomForestClassifier</label><div class=\"sk-toggleable__content\"><pre>RandomForestClassifier()</pre></div></div></div><div class=\"sk-serial\"><div class=\"sk-item\"><div class=\"sk-estimator sk-toggleable\"><input class=\"sk-toggleable__control sk-hidden--visually\" id=\"sk-estimator-id-8\" type=\"checkbox\" ><label for=\"sk-estimator-id-8\" class=\"sk-toggleable__label sk-toggleable__label-arrow\">RandomForestClassifier</label><div class=\"sk-toggleable__content\"><pre>RandomForestClassifier()</pre></div></div></div></div></div></div></div></div></div></div>"
            ]
          },
          "metadata": {},
          "execution_count": 67
        }
      ],
      "source": [
        "gridRandomForest.fit(X_train, y_train)"
      ]
    },
    {
      "cell_type": "code",
      "execution_count": null,
      "metadata": {
        "execution": {
          "iopub.execute_input": "2022-11-30T22:31:37.570870Z",
          "iopub.status.busy": "2022-11-30T22:31:37.569956Z",
          "iopub.status.idle": "2022-11-30T22:31:37.577740Z",
          "shell.execute_reply": "2022-11-30T22:31:37.576331Z",
          "shell.execute_reply.started": "2022-11-30T22:31:37.570826Z"
        },
        "colab": {
          "base_uri": "https://localhost:8080/"
        },
        "id": "4L25tOOCKmI2",
        "outputId": "3758a26a-7701-49e7-a9b9-b65752d394b1"
      },
      "outputs": [
        {
          "output_type": "stream",
          "name": "stdout",
          "text": [
            "Algorithm:  entropy\n",
            "Score:  0.8755970924195223\n"
          ]
        }
      ],
      "source": [
        "print('Algorithm: ', gridRandomForest.best_estimator_.criterion)\n",
        "print('Score: ', gridRandomForest.best_score_)"
      ]
    },
    {
      "cell_type": "code",
      "execution_count": null,
      "metadata": {
        "execution": {
          "iopub.execute_input": "2022-11-30T22:31:56.537167Z",
          "iopub.status.busy": "2022-11-30T22:31:56.536007Z",
          "iopub.status.idle": "2022-11-30T22:31:56.542294Z",
          "shell.execute_reply": "2022-11-30T22:31:56.540956Z",
          "shell.execute_reply.started": "2022-11-30T22:31:56.537124Z"
        },
        "id": "6OSQWVP7KmI3"
      },
      "outputs": [],
      "source": [
        "random_forest = RandomForestClassifier(n_estimators = 100, criterion = 'gini', random_state = 0)"
      ]
    },
    {
      "cell_type": "code",
      "execution_count": null,
      "metadata": {
        "execution": {
          "iopub.execute_input": "2022-11-30T22:32:03.635325Z",
          "iopub.status.busy": "2022-11-30T22:32:03.634931Z",
          "iopub.status.idle": "2022-11-30T22:32:03.822461Z",
          "shell.execute_reply": "2022-11-30T22:32:03.821249Z",
          "shell.execute_reply.started": "2022-11-30T22:32:03.635292Z"
        },
        "colab": {
          "base_uri": "https://localhost:8080/",
          "height": 74
        },
        "id": "cjSAishkKmI4",
        "outputId": "0a99db4e-cc43-4dde-edde-ca118058f17f"
      },
      "outputs": [
        {
          "output_type": "execute_result",
          "data": {
            "text/plain": [
              "RandomForestClassifier(random_state=0)"
            ],
            "text/html": [
              "<style>#sk-container-id-5 {color: black;background-color: white;}#sk-container-id-5 pre{padding: 0;}#sk-container-id-5 div.sk-toggleable {background-color: white;}#sk-container-id-5 label.sk-toggleable__label {cursor: pointer;display: block;width: 100%;margin-bottom: 0;padding: 0.3em;box-sizing: border-box;text-align: center;}#sk-container-id-5 label.sk-toggleable__label-arrow:before {content: \"▸\";float: left;margin-right: 0.25em;color: #696969;}#sk-container-id-5 label.sk-toggleable__label-arrow:hover:before {color: black;}#sk-container-id-5 div.sk-estimator:hover label.sk-toggleable__label-arrow:before {color: black;}#sk-container-id-5 div.sk-toggleable__content {max-height: 0;max-width: 0;overflow: hidden;text-align: left;background-color: #f0f8ff;}#sk-container-id-5 div.sk-toggleable__content pre {margin: 0.2em;color: black;border-radius: 0.25em;background-color: #f0f8ff;}#sk-container-id-5 input.sk-toggleable__control:checked~div.sk-toggleable__content {max-height: 200px;max-width: 100%;overflow: auto;}#sk-container-id-5 input.sk-toggleable__control:checked~label.sk-toggleable__label-arrow:before {content: \"▾\";}#sk-container-id-5 div.sk-estimator input.sk-toggleable__control:checked~label.sk-toggleable__label {background-color: #d4ebff;}#sk-container-id-5 div.sk-label input.sk-toggleable__control:checked~label.sk-toggleable__label {background-color: #d4ebff;}#sk-container-id-5 input.sk-hidden--visually {border: 0;clip: rect(1px 1px 1px 1px);clip: rect(1px, 1px, 1px, 1px);height: 1px;margin: -1px;overflow: hidden;padding: 0;position: absolute;width: 1px;}#sk-container-id-5 div.sk-estimator {font-family: monospace;background-color: #f0f8ff;border: 1px dotted black;border-radius: 0.25em;box-sizing: border-box;margin-bottom: 0.5em;}#sk-container-id-5 div.sk-estimator:hover {background-color: #d4ebff;}#sk-container-id-5 div.sk-parallel-item::after {content: \"\";width: 100%;border-bottom: 1px solid gray;flex-grow: 1;}#sk-container-id-5 div.sk-label:hover label.sk-toggleable__label {background-color: #d4ebff;}#sk-container-id-5 div.sk-serial::before {content: \"\";position: absolute;border-left: 1px solid gray;box-sizing: border-box;top: 0;bottom: 0;left: 50%;z-index: 0;}#sk-container-id-5 div.sk-serial {display: flex;flex-direction: column;align-items: center;background-color: white;padding-right: 0.2em;padding-left: 0.2em;position: relative;}#sk-container-id-5 div.sk-item {position: relative;z-index: 1;}#sk-container-id-5 div.sk-parallel {display: flex;align-items: stretch;justify-content: center;background-color: white;position: relative;}#sk-container-id-5 div.sk-item::before, #sk-container-id-5 div.sk-parallel-item::before {content: \"\";position: absolute;border-left: 1px solid gray;box-sizing: border-box;top: 0;bottom: 0;left: 50%;z-index: -1;}#sk-container-id-5 div.sk-parallel-item {display: flex;flex-direction: column;z-index: 1;position: relative;background-color: white;}#sk-container-id-5 div.sk-parallel-item:first-child::after {align-self: flex-end;width: 50%;}#sk-container-id-5 div.sk-parallel-item:last-child::after {align-self: flex-start;width: 50%;}#sk-container-id-5 div.sk-parallel-item:only-child::after {width: 0;}#sk-container-id-5 div.sk-dashed-wrapped {border: 1px dashed gray;margin: 0 0.4em 0.5em 0.4em;box-sizing: border-box;padding-bottom: 0.4em;background-color: white;}#sk-container-id-5 div.sk-label label {font-family: monospace;font-weight: bold;display: inline-block;line-height: 1.2em;}#sk-container-id-5 div.sk-label-container {text-align: center;}#sk-container-id-5 div.sk-container {/* jupyter's `normalize.less` sets `[hidden] { display: none; }` but bootstrap.min.css set `[hidden] { display: none !important; }` so we also need the `!important` here to be able to override the default hidden behavior on the sphinx rendered scikit-learn.org. See: https://github.com/scikit-learn/scikit-learn/issues/21755 */display: inline-block !important;position: relative;}#sk-container-id-5 div.sk-text-repr-fallback {display: none;}</style><div id=\"sk-container-id-5\" class=\"sk-top-container\"><div class=\"sk-text-repr-fallback\"><pre>RandomForestClassifier(random_state=0)</pre><b>In a Jupyter environment, please rerun this cell to show the HTML representation or trust the notebook. <br />On GitHub, the HTML representation is unable to render, please try loading this page with nbviewer.org.</b></div><div class=\"sk-container\" hidden><div class=\"sk-item\"><div class=\"sk-estimator sk-toggleable\"><input class=\"sk-toggleable__control sk-hidden--visually\" id=\"sk-estimator-id-9\" type=\"checkbox\" checked><label for=\"sk-estimator-id-9\" class=\"sk-toggleable__label sk-toggleable__label-arrow\">RandomForestClassifier</label><div class=\"sk-toggleable__content\"><pre>RandomForestClassifier(random_state=0)</pre></div></div></div></div></div>"
            ]
          },
          "metadata": {},
          "execution_count": 70
        }
      ],
      "source": [
        "random_forest.fit(X_train, y_train)"
      ]
    },
    {
      "cell_type": "code",
      "execution_count": null,
      "metadata": {
        "execution": {
          "iopub.execute_input": "2022-11-30T22:32:10.637473Z",
          "iopub.status.busy": "2022-11-30T22:32:10.636358Z",
          "iopub.status.idle": "2022-11-30T22:32:10.660432Z",
          "shell.execute_reply": "2022-11-30T22:32:10.659200Z",
          "shell.execute_reply.started": "2022-11-30T22:32:10.637425Z"
        },
        "id": "M3GwYZrsKmI5"
      },
      "outputs": [],
      "source": [
        "previsoes = random_forest.predict(X_test)"
      ]
    },
    {
      "cell_type": "code",
      "execution_count": null,
      "metadata": {
        "execution": {
          "iopub.execute_input": "2022-11-30T22:32:35.625613Z",
          "iopub.status.busy": "2022-11-30T22:32:35.625202Z",
          "iopub.status.idle": "2022-11-30T22:32:35.779249Z",
          "shell.execute_reply": "2022-11-30T22:32:35.777994Z",
          "shell.execute_reply.started": "2022-11-30T22:32:35.625579Z"
        },
        "colab": {
          "base_uri": "https://localhost:8080/",
          "height": 506
        },
        "id": "4T-jQVCIKmI6",
        "outputId": "fee8d3b5-2c8b-4b78-f48d-3acd4b11e89c"
      },
      "outputs": [
        {
          "output_type": "execute_result",
          "data": {
            "text/plain": [
              "0.8571428571428571"
            ]
          },
          "metadata": {},
          "execution_count": 72
        },
        {
          "output_type": "display_data",
          "data": {
            "text/plain": [
              "<Figure size 800x550 with 1 Axes>"
            ],
            "image/png": "[encoded data removed]"
          },
          "metadata": {}
        }
      ],
      "source": [
        "cm = ConfusionMatrix(random_forest)\n",
        "cm.fit(X_train, y_train)\n",
        "cm.score(X_test, y_test)"
      ]
    },
    {
      "cell_type": "code",
      "execution_count": null,
      "metadata": {
        "execution": {
          "iopub.execute_input": "2022-11-30T22:32:47.473341Z",
          "iopub.status.busy": "2022-11-30T22:32:47.472917Z",
          "iopub.status.idle": "2022-11-30T22:32:47.484133Z",
          "shell.execute_reply": "2022-11-30T22:32:47.482843Z",
          "shell.execute_reply.started": "2022-11-30T22:32:47.473300Z"
        },
        "id": "udkuxnjkKmI8"
      },
      "outputs": [],
      "source": [
        "classification_random = (classification_report(y_test, previsoes))"
      ]
    },
    {
      "cell_type": "code",
      "execution_count": null,
      "metadata": {
        "execution": {
          "iopub.execute_input": "2022-11-30T22:32:53.166779Z",
          "iopub.status.busy": "2022-11-30T22:32:53.166355Z",
          "iopub.status.idle": "2022-11-30T22:32:53.172379Z",
          "shell.execute_reply": "2022-11-30T22:32:53.171075Z",
          "shell.execute_reply.started": "2022-11-30T22:32:53.166741Z"
        },
        "colab": {
          "base_uri": "https://localhost:8080/"
        },
        "id": "p9TV5-_jKmI8",
        "outputId": "f583d550-d12e-4156-9b3b-8d71dbcbead9"
      },
      "outputs": [
        {
          "output_type": "stream",
          "name": "stdout",
          "text": [
            "              precision    recall  f1-score   support\n",
            "\n",
            "           0       0.83      0.88      0.86       111\n",
            "           1       0.88      0.83      0.86       120\n",
            "\n",
            "    accuracy                           0.86       231\n",
            "   macro avg       0.86      0.86      0.86       231\n",
            "weighted avg       0.86      0.86      0.86       231\n",
            "\n"
          ]
        }
      ],
      "source": [
        "print(classification_random)"
      ]
    },
    {
      "cell_type": "code",
      "execution_count": null,
      "metadata": {
        "execution": {
          "iopub.execute_input": "2022-11-30T22:33:16.677578Z",
          "iopub.status.busy": "2022-11-30T22:33:16.677153Z",
          "iopub.status.idle": "2022-11-30T22:33:16.682130Z",
          "shell.execute_reply": "2022-11-30T22:33:16.681331Z",
          "shell.execute_reply.started": "2022-11-30T22:33:16.677543Z"
        },
        "id": "9n_wAA2xKmI9"
      },
      "outputs": [],
      "source": [
        "score_random = 0.8528138528138528"
      ]
    },
    {
      "cell_type": "code",
      "execution_count": null,
      "metadata": {
        "execution": {
          "iopub.execute_input": "2022-11-30T22:34:22.605909Z",
          "iopub.status.busy": "2022-11-30T22:34:22.605467Z",
          "iopub.status.idle": "2022-11-30T22:34:22.625959Z",
          "shell.execute_reply": "2022-11-30T22:34:22.624945Z",
          "shell.execute_reply.started": "2022-11-30T22:34:22.605870Z"
        },
        "id": "xz_1fK_rKmI9"
      },
      "outputs": [],
      "source": [
        "feature_imp_random = pd.Series(random_forest.feature_importances_, index = columns).sort_values(ascending = False)"
      ]
    },
    {
      "cell_type": "code",
      "execution_count": null,
      "metadata": {
        "execution": {
          "iopub.execute_input": "2022-11-30T22:34:29.475907Z",
          "iopub.status.busy": "2022-11-30T22:34:29.475523Z",
          "iopub.status.idle": "2022-11-30T22:34:29.485632Z",
          "shell.execute_reply": "2022-11-30T22:34:29.484159Z",
          "shell.execute_reply.started": "2022-11-30T22:34:29.475875Z"
        },
        "colab": {
          "base_uri": "https://localhost:8080/"
        },
        "id": "WgWiv7KmKmI9",
        "outputId": "7f642021-b8a9-448d-b217-8ff8ccf1e149"
      },
      "outputs": [
        {
          "output_type": "execute_result",
          "data": {
            "text/plain": [
              "Credit_History       0.240207\n",
              "ApplicantIncome      0.214730\n",
              "LoanAmount           0.182214\n",
              "CoapplicantIncome    0.116487\n",
              "Property_Area        0.055278\n",
              "Dependents           0.047730\n",
              "Loan_Amount_Term     0.047602\n",
              "Married              0.028446\n",
              "Education            0.025616\n",
              "Gender               0.022284\n",
              "Self_Employed        0.019406\n",
              "dtype: float64"
            ]
          },
          "metadata": {},
          "execution_count": 77
        }
      ],
      "source": [
        "feature_imp_random"
      ]
    },
    {
      "cell_type": "code",
      "execution_count": null,
      "metadata": {
        "execution": {
          "iopub.execute_input": "2022-11-30T22:34:42.748466Z",
          "iopub.status.busy": "2022-11-30T22:34:42.748035Z",
          "iopub.status.idle": "2022-11-30T22:34:42.753773Z",
          "shell.execute_reply": "2022-11-30T22:34:42.752256Z",
          "shell.execute_reply.started": "2022-11-30T22:34:42.748431Z"
        },
        "id": "LG7VCLLDKmI9"
      },
      "outputs": [],
      "source": [
        "from sklearn.ensemble import ExtraTreesClassifier"
      ]
    },
    {
      "cell_type": "code",
      "execution_count": null,
      "metadata": {
        "execution": {
          "iopub.execute_input": "2022-11-30T22:34:43.886244Z",
          "iopub.status.busy": "2022-11-30T22:34:43.885258Z",
          "iopub.status.idle": "2022-11-30T22:34:43.891250Z",
          "shell.execute_reply": "2022-11-30T22:34:43.890214Z",
          "shell.execute_reply.started": "2022-11-30T22:34:43.886206Z"
        },
        "id": "TIDYuuV-KmI-"
      },
      "outputs": [],
      "source": [
        "n_estimators = np.array([100])\n",
        "alg = ['entropy', 'gini']\n",
        "values_grid = {'n_estimators': n_estimators, 'criterion': alg}"
      ]
    },
    {
      "cell_type": "code",
      "execution_count": null,
      "metadata": {
        "execution": {
          "iopub.execute_input": "2022-11-30T22:34:44.375898Z",
          "iopub.status.busy": "2022-11-30T22:34:44.375508Z",
          "iopub.status.idle": "2022-11-30T22:34:44.380860Z",
          "shell.execute_reply": "2022-11-30T22:34:44.379717Z",
          "shell.execute_reply.started": "2022-11-30T22:34:44.375866Z"
        },
        "id": "YABGidf3KmI-"
      },
      "outputs": [],
      "source": [
        "model = ExtraTreesClassifier()"
      ]
    },
    {
      "cell_type": "code",
      "execution_count": null,
      "metadata": {
        "execution": {
          "iopub.execute_input": "2022-11-30T22:34:45.465919Z",
          "iopub.status.busy": "2022-11-30T22:34:45.465494Z",
          "iopub.status.idle": "2022-11-30T22:34:45.471809Z",
          "shell.execute_reply": "2022-11-30T22:34:45.470555Z",
          "shell.execute_reply.started": "2022-11-30T22:34:45.465882Z"
        },
        "id": "ytgss-JSKmI-"
      },
      "outputs": [],
      "source": [
        "gridExtraTrees = GridSearchCV(estimator = model, param_grid = values_grid, cv = 5)"
      ]
    },
    {
      "cell_type": "code",
      "execution_count": null,
      "metadata": {
        "execution": {
          "iopub.execute_input": "2022-11-30T22:34:45.736008Z",
          "iopub.status.busy": "2022-11-30T22:34:45.735629Z",
          "iopub.status.idle": "2022-11-30T22:34:47.366464Z",
          "shell.execute_reply": "2022-11-30T22:34:47.365315Z",
          "shell.execute_reply.started": "2022-11-30T22:34:45.735977Z"
        },
        "colab": {
          "base_uri": "https://localhost:8080/",
          "height": 117
        },
        "id": "cXUyABQUKmI-",
        "outputId": "51466757-ac01-4834-ed39-17f246536091"
      },
      "outputs": [
        {
          "output_type": "execute_result",
          "data": {
            "text/plain": [
              "GridSearchCV(cv=5, estimator=ExtraTreesClassifier(),\n",
              "             param_grid={'criterion': ['entropy', 'gini'],\n",
              "                         'n_estimators': array([100])})"
            ],
            "text/html": [
              "<style>#sk-container-id-6 {color: black;background-color: white;}#sk-container-id-6 pre{padding: 0;}#sk-container-id-6 div.sk-toggleable {background-color: white;}#sk-container-id-6 label.sk-toggleable__label {cursor: pointer;display: block;width: 100%;margin-bottom: 0;padding: 0.3em;box-sizing: border-box;text-align: center;}#sk-container-id-6 label.sk-toggleable__label-arrow:before {content: \"▸\";float: left;margin-right: 0.25em;color: #696969;}#sk-container-id-6 label.sk-toggleable__label-arrow:hover:before {color: black;}#sk-container-id-6 div.sk-estimator:hover label.sk-toggleable__label-arrow:before {color: black;}#sk-container-id-6 div.sk-toggleable__content {max-height: 0;max-width: 0;overflow: hidden;text-align: left;background-color: #f0f8ff;}#sk-container-id-6 div.sk-toggleable__content pre {margin: 0.2em;color: black;border-radius: 0.25em;background-color: #f0f8ff;}#sk-container-id-6 input.sk-toggleable__control:checked~div.sk-toggleable__content {max-height: 200px;max-width: 100%;overflow: auto;}#sk-container-id-6 input.sk-toggleable__control:checked~label.sk-toggleable__label-arrow:before {content: \"▾\";}#sk-container-id-6 div.sk-estimator input.sk-toggleable__control:checked~label.sk-toggleable__label {background-color: #d4ebff;}#sk-container-id-6 div.sk-label input.sk-toggleable__control:checked~label.sk-toggleable__label {background-color: #d4ebff;}#sk-container-id-6 input.sk-hidden--visually {border: 0;clip: rect(1px 1px 1px 1px);clip: rect(1px, 1px, 1px, 1px);height: 1px;margin: -1px;overflow: hidden;padding: 0;position: absolute;width: 1px;}#sk-container-id-6 div.sk-estimator {font-family: monospace;background-color: #f0f8ff;border: 1px dotted black;border-radius: 0.25em;box-sizing: border-box;margin-bottom: 0.5em;}#sk-container-id-6 div.sk-estimator:hover {background-color: #d4ebff;}#sk-container-id-6 div.sk-parallel-item::after {content: \"\";width: 100%;border-bottom: 1px solid gray;flex-grow: 1;}#sk-container-id-6 div.sk-label:hover label.sk-toggleable__label {background-color: #d4ebff;}#sk-container-id-6 div.sk-serial::before {content: \"\";position: absolute;border-left: 1px solid gray;box-sizing: border-box;top: 0;bottom: 0;left: 50%;z-index: 0;}#sk-container-id-6 div.sk-serial {display: flex;flex-direction: column;align-items: center;background-color: white;padding-right: 0.2em;padding-left: 0.2em;position: relative;}#sk-container-id-6 div.sk-item {position: relative;z-index: 1;}#sk-container-id-6 div.sk-parallel {display: flex;align-items: stretch;justify-content: center;background-color: white;position: relative;}#sk-container-id-6 div.sk-item::before, #sk-container-id-6 div.sk-parallel-item::before {content: \"\";position: absolute;border-left: 1px solid gray;box-sizing: border-box;top: 0;bottom: 0;left: 50%;z-index: -1;}#sk-container-id-6 div.sk-parallel-item {display: flex;flex-direction: column;z-index: 1;position: relative;background-color: white;}#sk-container-id-6 div.sk-parallel-item:first-child::after {align-self: flex-end;width: 50%;}#sk-container-id-6 div.sk-parallel-item:last-child::after {align-self: flex-start;width: 50%;}#sk-container-id-6 div.sk-parallel-item:only-child::after {width: 0;}#sk-container-id-6 div.sk-dashed-wrapped {border: 1px dashed gray;margin: 0 0.4em 0.5em 0.4em;box-sizing: border-box;padding-bottom: 0.4em;background-color: white;}#sk-container-id-6 div.sk-label label {font-family: monospace;font-weight: bold;display: inline-block;line-height: 1.2em;}#sk-container-id-6 div.sk-label-container {text-align: center;}#sk-container-id-6 div.sk-container {/* jupyter's `normalize.less` sets `[hidden] { display: none; }` but bootstrap.min.css set `[hidden] { display: none !important; }` so we also need the `!important` here to be able to override the default hidden behavior on the sphinx rendered scikit-learn.org. See: https://github.com/scikit-learn/scikit-learn/issues/21755 */display: inline-block !important;position: relative;}#sk-container-id-6 div.sk-text-repr-fallback {display: none;}</style><div id=\"sk-container-id-6\" class=\"sk-top-container\"><div class=\"sk-text-repr-fallback\"><pre>GridSearchCV(cv=5, estimator=ExtraTreesClassifier(),\n",
              "             param_grid={&#x27;criterion&#x27;: [&#x27;entropy&#x27;, &#x27;gini&#x27;],\n",
              "                         &#x27;n_estimators&#x27;: array([100])})</pre><b>In a Jupyter environment, please rerun this cell to show the HTML representation or trust the notebook. <br />On GitHub, the HTML representation is unable to render, please try loading this page with nbviewer.org.</b></div><div class=\"sk-container\" hidden><div class=\"sk-item sk-dashed-wrapped\"><div class=\"sk-label-container\"><div class=\"sk-label sk-toggleable\"><input class=\"sk-toggleable__control sk-hidden--visually\" id=\"sk-estimator-id-10\" type=\"checkbox\" ><label for=\"sk-estimator-id-10\" class=\"sk-toggleable__label sk-toggleable__label-arrow\">GridSearchCV</label><div class=\"sk-toggleable__content\"><pre>GridSearchCV(cv=5, estimator=ExtraTreesClassifier(),\n",
              "             param_grid={&#x27;criterion&#x27;: [&#x27;entropy&#x27;, &#x27;gini&#x27;],\n",
              "                         &#x27;n_estimators&#x27;: array([100])})</pre></div></div></div><div class=\"sk-parallel\"><div class=\"sk-parallel-item\"><div class=\"sk-item\"><div class=\"sk-label-container\"><div class=\"sk-label sk-toggleable\"><input class=\"sk-toggleable__control sk-hidden--visually\" id=\"sk-estimator-id-11\" type=\"checkbox\" ><label for=\"sk-estimator-id-11\" class=\"sk-toggleable__label sk-toggleable__label-arrow\">estimator: ExtraTreesClassifier</label><div class=\"sk-toggleable__content\"><pre>ExtraTreesClassifier()</pre></div></div></div><div class=\"sk-serial\"><div class=\"sk-item\"><div class=\"sk-estimator sk-toggleable\"><input class=\"sk-toggleable__control sk-hidden--visually\" id=\"sk-estimator-id-12\" type=\"checkbox\" ><label for=\"sk-estimator-id-12\" class=\"sk-toggleable__label sk-toggleable__label-arrow\">ExtraTreesClassifier</label><div class=\"sk-toggleable__content\"><pre>ExtraTreesClassifier()</pre></div></div></div></div></div></div></div></div></div></div>"
            ]
          },
          "metadata": {},
          "execution_count": 82
        }
      ],
      "source": [
        "gridExtraTrees.fit(X_train, y_train)"
      ]
    },
    {
      "cell_type": "code",
      "execution_count": null,
      "metadata": {
        "execution": {
          "iopub.execute_input": "2022-11-30T22:34:47.369206Z",
          "iopub.status.busy": "2022-11-30T22:34:47.368263Z",
          "iopub.status.idle": "2022-11-30T22:34:47.375176Z",
          "shell.execute_reply": "2022-11-30T22:34:47.374076Z",
          "shell.execute_reply.started": "2022-11-30T22:34:47.369170Z"
        },
        "colab": {
          "base_uri": "https://localhost:8080/"
        },
        "id": "_LtNTDcaKmI_",
        "outputId": "12979a40-7843-4f61-9863-fe137603aa82"
      },
      "outputs": [
        {
          "output_type": "stream",
          "name": "stdout",
          "text": [
            "Algorithm:  gini\n",
            "Score:  0.8533056420906888\n"
          ]
        }
      ],
      "source": [
        "print('Algorithm: ', gridExtraTrees.best_estimator_.criterion)\n",
        "print('Score: ', gridExtraTrees.best_score_)"
      ]
    },
    {
      "cell_type": "code",
      "execution_count": null,
      "metadata": {
        "execution": {
          "iopub.execute_input": "2022-11-30T22:35:10.141304Z",
          "iopub.status.busy": "2022-11-30T22:35:10.140884Z",
          "iopub.status.idle": "2022-11-30T22:35:10.147032Z",
          "shell.execute_reply": "2022-11-30T22:35:10.145521Z",
          "shell.execute_reply.started": "2022-11-30T22:35:10.141269Z"
        },
        "id": "F5ElqPK-KmI_"
      },
      "outputs": [],
      "source": [
        "extra_trees = ExtraTreesClassifier(n_estimators = 100, criterion = 'entropy', random_state = 0)"
      ]
    },
    {
      "cell_type": "code",
      "execution_count": null,
      "metadata": {
        "execution": {
          "iopub.execute_input": "2022-11-30T22:35:18.547252Z",
          "iopub.status.busy": "2022-11-30T22:35:18.546134Z",
          "iopub.status.idle": "2022-11-30T22:35:18.703994Z",
          "shell.execute_reply": "2022-11-30T22:35:18.702876Z",
          "shell.execute_reply.started": "2022-11-30T22:35:18.547208Z"
        },
        "colab": {
          "base_uri": "https://localhost:8080/",
          "height": 74
        },
        "id": "aHqleLd2KmI_",
        "outputId": "f93240db-5dff-4eae-ddfa-0c5836783862"
      },
      "outputs": [
        {
          "output_type": "execute_result",
          "data": {
            "text/plain": [
              "ExtraTreesClassifier(criterion='entropy', random_state=0)"
            ],
            "text/html": [
              "<style>#sk-container-id-7 {color: black;background-color: white;}#sk-container-id-7 pre{padding: 0;}#sk-container-id-7 div.sk-toggleable {background-color: white;}#sk-container-id-7 label.sk-toggleable__label {cursor: pointer;display: block;width: 100%;margin-bottom: 0;padding: 0.3em;box-sizing: border-box;text-align: center;}#sk-container-id-7 label.sk-toggleable__label-arrow:before {content: \"▸\";float: left;margin-right: 0.25em;color: #696969;}#sk-container-id-7 label.sk-toggleable__label-arrow:hover:before {color: black;}#sk-container-id-7 div.sk-estimator:hover label.sk-toggleable__label-arrow:before {color: black;}#sk-container-id-7 div.sk-toggleable__content {max-height: 0;max-width: 0;overflow: hidden;text-align: left;background-color: #f0f8ff;}#sk-container-id-7 div.sk-toggleable__content pre {margin: 0.2em;color: black;border-radius: 0.25em;background-color: #f0f8ff;}#sk-container-id-7 input.sk-toggleable__control:checked~div.sk-toggleable__content {max-height: 200px;max-width: 100%;overflow: auto;}#sk-container-id-7 input.sk-toggleable__control:checked~label.sk-toggleable__label-arrow:before {content: \"▾\";}#sk-container-id-7 div.sk-estimator input.sk-toggleable__control:checked~label.sk-toggleable__label {background-color: #d4ebff;}#sk-container-id-7 div.sk-label input.sk-toggleable__control:checked~label.sk-toggleable__label {background-color: #d4ebff;}#sk-container-id-7 input.sk-hidden--visually {border: 0;clip: rect(1px 1px 1px 1px);clip: rect(1px, 1px, 1px, 1px);height: 1px;margin: -1px;overflow: hidden;padding: 0;position: absolute;width: 1px;}#sk-container-id-7 div.sk-estimator {font-family: monospace;background-color: #f0f8ff;border: 1px dotted black;border-radius: 0.25em;box-sizing: border-box;margin-bottom: 0.5em;}#sk-container-id-7 div.sk-estimator:hover {background-color: #d4ebff;}#sk-container-id-7 div.sk-parallel-item::after {content: \"\";width: 100%;border-bottom: 1px solid gray;flex-grow: 1;}#sk-container-id-7 div.sk-label:hover label.sk-toggleable__label {background-color: #d4ebff;}#sk-container-id-7 div.sk-serial::before {content: \"\";position: absolute;border-left: 1px solid gray;box-sizing: border-box;top: 0;bottom: 0;left: 50%;z-index: 0;}#sk-container-id-7 div.sk-serial {display: flex;flex-direction: column;align-items: center;background-color: white;padding-right: 0.2em;padding-left: 0.2em;position: relative;}#sk-container-id-7 div.sk-item {position: relative;z-index: 1;}#sk-container-id-7 div.sk-parallel {display: flex;align-items: stretch;justify-content: center;background-color: white;position: relative;}#sk-container-id-7 div.sk-item::before, #sk-container-id-7 div.sk-parallel-item::before {content: \"\";position: absolute;border-left: 1px solid gray;box-sizing: border-box;top: 0;bottom: 0;left: 50%;z-index: -1;}#sk-container-id-7 div.sk-parallel-item {display: flex;flex-direction: column;z-index: 1;position: relative;background-color: white;}#sk-container-id-7 div.sk-parallel-item:first-child::after {align-self: flex-end;width: 50%;}#sk-container-id-7 div.sk-parallel-item:last-child::after {align-self: flex-start;width: 50%;}#sk-container-id-7 div.sk-parallel-item:only-child::after {width: 0;}#sk-container-id-7 div.sk-dashed-wrapped {border: 1px dashed gray;margin: 0 0.4em 0.5em 0.4em;box-sizing: border-box;padding-bottom: 0.4em;background-color: white;}#sk-container-id-7 div.sk-label label {font-family: monospace;font-weight: bold;display: inline-block;line-height: 1.2em;}#sk-container-id-7 div.sk-label-container {text-align: center;}#sk-container-id-7 div.sk-container {/* jupyter's `normalize.less` sets `[hidden] { display: none; }` but bootstrap.min.css set `[hidden] { display: none !important; }` so we also need the `!important` here to be able to override the default hidden behavior on the sphinx rendered scikit-learn.org. See: https://github.com/scikit-learn/scikit-learn/issues/21755 */display: inline-block !important;position: relative;}#sk-container-id-7 div.sk-text-repr-fallback {display: none;}</style><div id=\"sk-container-id-7\" class=\"sk-top-container\"><div class=\"sk-text-repr-fallback\"><pre>ExtraTreesClassifier(criterion=&#x27;entropy&#x27;, random_state=0)</pre><b>In a Jupyter environment, please rerun this cell to show the HTML representation or trust the notebook. <br />On GitHub, the HTML representation is unable to render, please try loading this page with nbviewer.org.</b></div><div class=\"sk-container\" hidden><div class=\"sk-item\"><div class=\"sk-estimator sk-toggleable\"><input class=\"sk-toggleable__control sk-hidden--visually\" id=\"sk-estimator-id-13\" type=\"checkbox\" checked><label for=\"sk-estimator-id-13\" class=\"sk-toggleable__label sk-toggleable__label-arrow\">ExtraTreesClassifier</label><div class=\"sk-toggleable__content\"><pre>ExtraTreesClassifier(criterion=&#x27;entropy&#x27;, random_state=0)</pre></div></div></div></div></div>"
            ]
          },
          "metadata": {},
          "execution_count": 85
        }
      ],
      "source": [
        "extra_trees.fit(X_train, y_train)"
      ]
    },
    {
      "cell_type": "code",
      "execution_count": null,
      "metadata": {
        "execution": {
          "iopub.execute_input": "2022-11-30T22:35:25.809157Z",
          "iopub.status.busy": "2022-11-30T22:35:25.808746Z",
          "iopub.status.idle": "2022-11-30T22:35:25.832544Z",
          "shell.execute_reply": "2022-11-30T22:35:25.831416Z",
          "shell.execute_reply.started": "2022-11-30T22:35:25.809118Z"
        },
        "id": "9d4DCDhKKmJA"
      },
      "outputs": [],
      "source": [
        "previsoes = extra_trees.predict(X_test)"
      ]
    },
    {
      "cell_type": "code",
      "execution_count": null,
      "metadata": {
        "execution": {
          "iopub.execute_input": "2022-11-30T22:35:41.476971Z",
          "iopub.status.busy": "2022-11-30T22:35:41.476536Z",
          "iopub.status.idle": "2022-11-30T22:35:41.637043Z",
          "shell.execute_reply": "2022-11-30T22:35:41.635758Z",
          "shell.execute_reply.started": "2022-11-30T22:35:41.476935Z"
        },
        "colab": {
          "base_uri": "https://localhost:8080/",
          "height": 506
        },
        "id": "TzrAwGaWKmJA",
        "outputId": "63c10a6a-beaa-4a23-f105-f46473705129"
      },
      "outputs": [
        {
          "output_type": "execute_result",
          "data": {
            "text/plain": [
              "0.8484848484848485"
            ]
          },
          "metadata": {},
          "execution_count": 87
        },
        {
          "output_type": "display_data",
          "data": {
            "text/plain": [
              "<Figure size 800x550 with 1 Axes>"
            ],
            "image/png": "[encoded data removed]"
          },
          "metadata": {}
        }
      ],
      "source": [
        "cm = ConfusionMatrix(extra_trees)\n",
        "cm.fit(X_train, y_train)\n",
        "cm.score(X_test, y_test)"
      ]
    },
    {
      "cell_type": "code",
      "execution_count": null,
      "metadata": {
        "execution": {
          "iopub.execute_input": "2022-11-30T22:36:04.658893Z",
          "iopub.status.busy": "2022-11-30T22:36:04.658472Z",
          "iopub.status.idle": "2022-11-30T22:36:04.670349Z",
          "shell.execute_reply": "2022-11-30T22:36:04.669175Z",
          "shell.execute_reply.started": "2022-11-30T22:36:04.658856Z"
        },
        "id": "7W5Yk4nlKmJA"
      },
      "outputs": [],
      "source": [
        "classification_extra = (classification_report(y_test, previsoes))"
      ]
    },
    {
      "cell_type": "code",
      "execution_count": null,
      "metadata": {
        "execution": {
          "iopub.execute_input": "2022-11-30T22:36:08.305541Z",
          "iopub.status.busy": "2022-11-30T22:36:08.305113Z",
          "iopub.status.idle": "2022-11-30T22:36:08.311061Z",
          "shell.execute_reply": "2022-11-30T22:36:08.310148Z",
          "shell.execute_reply.started": "2022-11-30T22:36:08.305504Z"
        },
        "colab": {
          "base_uri": "https://localhost:8080/"
        },
        "id": "LNQWwfllKmJB",
        "outputId": "5504f701-ce68-4952-e42f-2e64681dac2f"
      },
      "outputs": [
        {
          "output_type": "stream",
          "name": "stdout",
          "text": [
            "              precision    recall  f1-score   support\n",
            "\n",
            "           0       0.82      0.87      0.85       111\n",
            "           1       0.88      0.82      0.85       120\n",
            "\n",
            "    accuracy                           0.85       231\n",
            "   macro avg       0.85      0.85      0.85       231\n",
            "weighted avg       0.85      0.85      0.85       231\n",
            "\n"
          ]
        }
      ],
      "source": [
        "print(classification_extra)"
      ]
    },
    {
      "cell_type": "code",
      "execution_count": null,
      "metadata": {
        "execution": {
          "iopub.execute_input": "2022-11-30T22:36:28.369211Z",
          "iopub.status.busy": "2022-11-30T22:36:28.368777Z",
          "iopub.status.idle": "2022-11-30T22:36:28.374481Z",
          "shell.execute_reply": "2022-11-30T22:36:28.373284Z",
          "shell.execute_reply.started": "2022-11-30T22:36:28.369173Z"
        },
        "id": "HY7WBxnhKmJB"
      },
      "outputs": [],
      "source": [
        "score_extra = 0.8484848484848485"
      ]
    },
    {
      "cell_type": "code",
      "execution_count": null,
      "metadata": {
        "execution": {
          "iopub.execute_input": "2022-11-30T23:03:11.567358Z",
          "iopub.status.busy": "2022-11-30T23:03:11.566405Z",
          "iopub.status.idle": "2022-11-30T23:03:11.585770Z",
          "shell.execute_reply": "2022-11-30T23:03:11.584398Z",
          "shell.execute_reply.started": "2022-11-30T23:03:11.567316Z"
        },
        "id": "DrtQBZacKmJB"
      },
      "outputs": [],
      "source": [
        "feature_extra = pd.Series(extra_trees.feature_importances_, index = columns).sort_values(ascending = False)"
      ]
    },
    {
      "cell_type": "code",
      "execution_count": null,
      "metadata": {
        "execution": {
          "iopub.execute_input": "2022-11-30T23:03:17.465457Z",
          "iopub.status.busy": "2022-11-30T23:03:17.465063Z",
          "iopub.status.idle": "2022-11-30T23:03:17.473751Z",
          "shell.execute_reply": "2022-11-30T23:03:17.472596Z",
          "shell.execute_reply.started": "2022-11-30T23:03:17.465426Z"
        },
        "colab": {
          "base_uri": "https://localhost:8080/"
        },
        "id": "OycLZitUKmJB",
        "outputId": "0ff72076-6582-47a9-c540-313115975297"
      },
      "outputs": [
        {
          "output_type": "execute_result",
          "data": {
            "text/plain": [
              "Credit_History       0.230239\n",
              "LoanAmount           0.182046\n",
              "ApplicantIncome      0.173030\n",
              "CoapplicantIncome    0.121668\n",
              "Property_Area        0.066301\n",
              "Dependents           0.065108\n",
              "Loan_Amount_Term     0.052531\n",
              "Self_Employed        0.027997\n",
              "Education            0.027367\n",
              "Gender               0.027218\n",
              "Married              0.026494\n",
              "dtype: float64"
            ]
          },
          "metadata": {},
          "execution_count": 92
        }
      ],
      "source": [
        "feature_extra"
      ]
    },
    {
      "cell_type": "code",
      "execution_count": null,
      "metadata": {
        "execution": {
          "iopub.execute_input": "2022-11-30T22:48:28.356173Z",
          "iopub.status.busy": "2022-11-30T22:48:28.355767Z",
          "iopub.status.idle": "2022-11-30T22:48:28.361110Z",
          "shell.execute_reply": "2022-11-30T22:48:28.359799Z",
          "shell.execute_reply.started": "2022-11-30T22:48:28.356134Z"
        },
        "id": "XaHJWgcoKmJC"
      },
      "outputs": [],
      "source": [
        "from sklearn.cluster import KMeans"
      ]
    },
    {
      "cell_type": "code",
      "execution_count": null,
      "metadata": {
        "execution": {
          "iopub.execute_input": "2022-11-30T22:48:28.566402Z",
          "iopub.status.busy": "2022-11-30T22:48:28.565683Z",
          "iopub.status.idle": "2022-11-30T22:48:28.572708Z",
          "shell.execute_reply": "2022-11-30T22:48:28.571064Z",
          "shell.execute_reply.started": "2022-11-30T22:48:28.566361Z"
        },
        "id": "JK2NcGgTKmJC"
      },
      "outputs": [],
      "source": [
        "model = KMeans(n_clusters = 2, random_state=16)"
      ]
    },
    {
      "cell_type": "code",
      "execution_count": null,
      "metadata": {
        "execution": {
          "iopub.execute_input": "2022-11-30T22:48:29.209719Z",
          "iopub.status.busy": "2022-11-30T22:48:29.209315Z",
          "iopub.status.idle": "2022-11-30T22:48:29.257125Z",
          "shell.execute_reply": "2022-11-30T22:48:29.256166Z",
          "shell.execute_reply.started": "2022-11-30T22:48:29.209683Z"
        },
        "colab": {
          "base_uri": "https://localhost:8080/",
          "height": 129
        },
        "id": "VONswSpQKmJC",
        "outputId": "ce4d2da9-33d4-405a-dd0b-3f74c10d47e9"
      },
      "outputs": [
        {
          "output_type": "stream",
          "name": "stderr",
          "text": [
            "/usr/local/lib/python3.9/dist-packages/sklearn/cluster/_kmeans.py:870: FutureWarning: The default value of `n_init` will change from 10 to 'auto' in 1.4. Set the value of `n_init` explicitly to suppress the warning\n",
            "  warnings.warn(\n"
          ]
        },
        {
          "output_type": "execute_result",
          "data": {
            "text/plain": [
              "KMeans(n_clusters=2, random_state=16)"
            ],
            "text/html": [
              "<style>#sk-container-id-8 {color: black;background-color: white;}#sk-container-id-8 pre{padding: 0;}#sk-container-id-8 div.sk-toggleable {background-color: white;}#sk-container-id-8 label.sk-toggleable__label {cursor: pointer;display: block;width: 100%;margin-bottom: 0;padding: 0.3em;box-sizing: border-box;text-align: center;}#sk-container-id-8 label.sk-toggleable__label-arrow:before {content: \"▸\";float: left;margin-right: 0.25em;color: #696969;}#sk-container-id-8 label.sk-toggleable__label-arrow:hover:before {color: black;}#sk-container-id-8 div.sk-estimator:hover label.sk-toggleable__label-arrow:before {color: black;}#sk-container-id-8 div.sk-toggleable__content {max-height: 0;max-width: 0;overflow: hidden;text-align: left;background-color: #f0f8ff;}#sk-container-id-8 div.sk-toggleable__content pre {margin: 0.2em;color: black;border-radius: 0.25em;background-color: #f0f8ff;}#sk-container-id-8 input.sk-toggleable__control:checked~div.sk-toggleable__content {max-height: 200px;max-width: 100%;overflow: auto;}#sk-container-id-8 input.sk-toggleable__control:checked~label.sk-toggleable__label-arrow:before {content: \"▾\";}#sk-container-id-8 div.sk-estimator input.sk-toggleable__control:checked~label.sk-toggleable__label {background-color: #d4ebff;}#sk-container-id-8 div.sk-label input.sk-toggleable__control:checked~label.sk-toggleable__label {background-color: #d4ebff;}#sk-container-id-8 input.sk-hidden--visually {border: 0;clip: rect(1px 1px 1px 1px);clip: rect(1px, 1px, 1px, 1px);height: 1px;margin: -1px;overflow: hidden;padding: 0;position: absolute;width: 1px;}#sk-container-id-8 div.sk-estimator {font-family: monospace;background-color: #f0f8ff;border: 1px dotted black;border-radius: 0.25em;box-sizing: border-box;margin-bottom: 0.5em;}#sk-container-id-8 div.sk-estimator:hover {background-color: #d4ebff;}#sk-container-id-8 div.sk-parallel-item::after {content: \"\";width: 100%;border-bottom: 1px solid gray;flex-grow: 1;}#sk-container-id-8 div.sk-label:hover label.sk-toggleable__label {background-color: #d4ebff;}#sk-container-id-8 div.sk-serial::before {content: \"\";position: absolute;border-left: 1px solid gray;box-sizing: border-box;top: 0;bottom: 0;left: 50%;z-index: 0;}#sk-container-id-8 div.sk-serial {display: flex;flex-direction: column;align-items: center;background-color: white;padding-right: 0.2em;padding-left: 0.2em;position: relative;}#sk-container-id-8 div.sk-item {position: relative;z-index: 1;}#sk-container-id-8 div.sk-parallel {display: flex;align-items: stretch;justify-content: center;background-color: white;position: relative;}#sk-container-id-8 div.sk-item::before, #sk-container-id-8 div.sk-parallel-item::before {content: \"\";position: absolute;border-left: 1px solid gray;box-sizing: border-box;top: 0;bottom: 0;left: 50%;z-index: -1;}#sk-container-id-8 div.sk-parallel-item {display: flex;flex-direction: column;z-index: 1;position: relative;background-color: white;}#sk-container-id-8 div.sk-parallel-item:first-child::after {align-self: flex-end;width: 50%;}#sk-container-id-8 div.sk-parallel-item:last-child::after {align-self: flex-start;width: 50%;}#sk-container-id-8 div.sk-parallel-item:only-child::after {width: 0;}#sk-container-id-8 div.sk-dashed-wrapped {border: 1px dashed gray;margin: 0 0.4em 0.5em 0.4em;box-sizing: border-box;padding-bottom: 0.4em;background-color: white;}#sk-container-id-8 div.sk-label label {font-family: monospace;font-weight: bold;display: inline-block;line-height: 1.2em;}#sk-container-id-8 div.sk-label-container {text-align: center;}#sk-container-id-8 div.sk-container {/* jupyter's `normalize.less` sets `[hidden] { display: none; }` but bootstrap.min.css set `[hidden] { display: none !important; }` so we also need the `!important` here to be able to override the default hidden behavior on the sphinx rendered scikit-learn.org. See: https://github.com/scikit-learn/scikit-learn/issues/21755 */display: inline-block !important;position: relative;}#sk-container-id-8 div.sk-text-repr-fallback {display: none;}</style><div id=\"sk-container-id-8\" class=\"sk-top-container\"><div class=\"sk-text-repr-fallback\"><pre>KMeans(n_clusters=2, random_state=16)</pre><b>In a Jupyter environment, please rerun this cell to show the HTML representation or trust the notebook. <br />On GitHub, the HTML representation is unable to render, please try loading this page with nbviewer.org.</b></div><div class=\"sk-container\" hidden><div class=\"sk-item\"><div class=\"sk-estimator sk-toggleable\"><input class=\"sk-toggleable__control sk-hidden--visually\" id=\"sk-estimator-id-14\" type=\"checkbox\" checked><label for=\"sk-estimator-id-14\" class=\"sk-toggleable__label sk-toggleable__label-arrow\">KMeans</label><div class=\"sk-toggleable__content\"><pre>KMeans(n_clusters=2, random_state=16)</pre></div></div></div></div></div>"
            ]
          },
          "metadata": {},
          "execution_count": 95
        }
      ],
      "source": [
        "model.fit(X_train)"
      ]
    },
    {
      "cell_type": "code",
      "execution_count": null,
      "metadata": {
        "execution": {
          "iopub.execute_input": "2022-11-30T22:48:29.646189Z",
          "iopub.status.busy": "2022-11-30T22:48:29.645547Z",
          "iopub.status.idle": "2022-11-30T22:48:29.681991Z",
          "shell.execute_reply": "2022-11-30T22:48:29.680786Z",
          "shell.execute_reply.started": "2022-11-30T22:48:29.646151Z"
        },
        "id": "TPQEocnwKmJC"
      },
      "outputs": [],
      "source": [
        "previsoes = model.predict(X_test)"
      ]
    },
    {
      "cell_type": "code",
      "execution_count": null,
      "metadata": {
        "execution": {
          "iopub.execute_input": "2022-11-30T22:39:37.147622Z",
          "iopub.status.busy": "2022-11-30T22:39:37.147030Z",
          "iopub.status.idle": "2022-11-30T22:39:37.155286Z",
          "shell.execute_reply": "2022-11-30T22:39:37.154343Z",
          "shell.execute_reply.started": "2022-11-30T22:39:37.147561Z"
        },
        "id": "W--CsBZmKmJC"
      },
      "outputs": [],
      "source": [
        "classification_kmeans_normal = (accuracy_score(y_test, previsoes))"
      ]
    },
    {
      "cell_type": "code",
      "execution_count": null,
      "metadata": {
        "execution": {
          "iopub.execute_input": "2022-11-30T22:39:39.565965Z",
          "iopub.status.busy": "2022-11-30T22:39:39.565491Z",
          "iopub.status.idle": "2022-11-30T22:39:39.573432Z",
          "shell.execute_reply": "2022-11-30T22:39:39.572377Z",
          "shell.execute_reply.started": "2022-11-30T22:39:39.565921Z"
        },
        "colab": {
          "base_uri": "https://localhost:8080/"
        },
        "id": "QYdAsmUEKmJD",
        "outputId": "19f4fccc-170d-4ff0-8ee2-4907c8b21a09"
      },
      "outputs": [
        {
          "output_type": "execute_result",
          "data": {
            "text/plain": [
              "0.5064935064935064"
            ]
          },
          "metadata": {},
          "execution_count": 98
        }
      ],
      "source": [
        "classification_kmeans_normal"
      ]
    },
    {
      "cell_type": "code",
      "execution_count": null,
      "metadata": {
        "execution": {
          "iopub.execute_input": "2022-11-30T22:49:25.080470Z",
          "iopub.status.busy": "2022-11-30T22:49:25.080005Z",
          "iopub.status.idle": "2022-11-30T22:49:25.086846Z",
          "shell.execute_reply": "2022-11-30T22:49:25.085614Z",
          "shell.execute_reply.started": "2022-11-30T22:49:25.080433Z"
        },
        "id": "OTA_xeaaKmJD"
      },
      "outputs": [],
      "source": [
        "classification_kmeans_standard = (accuracy_score(y_test, previsoes))"
      ]
    },
    {
      "cell_type": "code",
      "execution_count": null,
      "metadata": {
        "execution": {
          "iopub.execute_input": "2022-11-30T22:49:35.635537Z",
          "iopub.status.busy": "2022-11-30T22:49:35.635138Z",
          "iopub.status.idle": "2022-11-30T22:49:35.642887Z",
          "shell.execute_reply": "2022-11-30T22:49:35.641687Z",
          "shell.execute_reply.started": "2022-11-30T22:49:35.635503Z"
        },
        "colab": {
          "base_uri": "https://localhost:8080/"
        },
        "id": "lIB7nfSDKmJD",
        "outputId": "891d088a-48bc-4550-f2a8-09737998ba94"
      },
      "outputs": [
        {
          "output_type": "execute_result",
          "data": {
            "text/plain": [
              "0.5064935064935064"
            ]
          },
          "metadata": {},
          "execution_count": 100
        }
      ],
      "source": [
        "classification_kmeans_standard"
      ]
    },
    {
      "cell_type": "code",
      "execution_count": null,
      "metadata": {
        "execution": {
          "iopub.execute_input": "2022-11-30T22:50:17.577009Z",
          "iopub.status.busy": "2022-11-30T22:50:17.576563Z",
          "iopub.status.idle": "2022-11-30T22:50:17.582195Z",
          "shell.execute_reply": "2022-11-30T22:50:17.581270Z",
          "shell.execute_reply.started": "2022-11-30T22:50:17.576971Z"
        },
        "id": "zD88_4F-KmJD"
      },
      "outputs": [],
      "source": [
        "from sklearn.neighbors import KNeighborsClassifier"
      ]
    },
    {
      "cell_type": "code",
      "execution_count": null,
      "metadata": {
        "execution": {
          "iopub.execute_input": "2022-11-30T22:50:17.879255Z",
          "iopub.status.busy": "2022-11-30T22:50:17.878277Z",
          "iopub.status.idle": "2022-11-30T22:50:17.884191Z",
          "shell.execute_reply": "2022-11-30T22:50:17.882838Z",
          "shell.execute_reply.started": "2022-11-30T22:50:17.879217Z"
        },
        "id": "v32iL8F7KmJE"
      },
      "outputs": [],
      "source": [
        "knn = KNeighborsClassifier()"
      ]
    },
    {
      "cell_type": "code",
      "execution_count": null,
      "metadata": {
        "execution": {
          "iopub.execute_input": "2022-11-30T22:50:18.813683Z",
          "iopub.status.busy": "2022-11-30T22:50:18.813286Z",
          "iopub.status.idle": "2022-11-30T22:50:18.818023Z",
          "shell.execute_reply": "2022-11-30T22:50:18.817177Z",
          "shell.execute_reply.started": "2022-11-30T22:50:18.813648Z"
        },
        "id": "Ksp-qbgvKmJE"
      },
      "outputs": [],
      "source": [
        "k_list = list(range(1,10))"
      ]
    },
    {
      "cell_type": "code",
      "execution_count": null,
      "metadata": {
        "execution": {
          "iopub.execute_input": "2022-11-30T22:50:19.519488Z",
          "iopub.status.busy": "2022-11-30T22:50:19.518281Z",
          "iopub.status.idle": "2022-11-30T22:50:19.524683Z",
          "shell.execute_reply": "2022-11-30T22:50:19.523860Z",
          "shell.execute_reply.started": "2022-11-30T22:50:19.519436Z"
        },
        "id": "0x-jx-iJKmJE"
      },
      "outputs": [],
      "source": [
        "k_values = dict(n_neighbors = k_list)"
      ]
    },
    {
      "cell_type": "code",
      "execution_count": null,
      "metadata": {
        "execution": {
          "iopub.execute_input": "2022-11-30T22:50:20.353899Z",
          "iopub.status.busy": "2022-11-30T22:50:20.353153Z",
          "iopub.status.idle": "2022-11-30T22:50:20.359179Z",
          "shell.execute_reply": "2022-11-30T22:50:20.358304Z",
          "shell.execute_reply.started": "2022-11-30T22:50:20.353863Z"
        },
        "id": "-HcVBUMzKmJF"
      },
      "outputs": [],
      "source": [
        "grid = GridSearchCV(knn, k_values, cv = 5, scoring = 'accuracy')"
      ]
    },
    {
      "cell_type": "code",
      "execution_count": null,
      "metadata": {
        "execution": {
          "iopub.execute_input": "2022-11-30T22:50:21.865041Z",
          "iopub.status.busy": "2022-11-30T22:50:21.864235Z",
          "iopub.status.idle": "2022-11-30T22:50:22.144432Z",
          "shell.execute_reply": "2022-11-30T22:50:22.143339Z",
          "shell.execute_reply.started": "2022-11-30T22:50:21.865004Z"
        },
        "colab": {
          "base_uri": "https://localhost:8080/",
          "height": 117
        },
        "id": "C8_GUFI-KmJF",
        "outputId": "4a591128-3676-445c-9145-14cc4ac29752"
      },
      "outputs": [
        {
          "output_type": "execute_result",
          "data": {
            "text/plain": [
              "GridSearchCV(cv=5, estimator=KNeighborsClassifier(),\n",
              "             param_grid={'n_neighbors': [1, 2, 3, 4, 5, 6, 7, 8, 9]},\n",
              "             scoring='accuracy')"
            ],
            "text/html": [
              "<style>#sk-container-id-9 {color: black;background-color: white;}#sk-container-id-9 pre{padding: 0;}#sk-container-id-9 div.sk-toggleable {background-color: white;}#sk-container-id-9 label.sk-toggleable__label {cursor: pointer;display: block;width: 100%;margin-bottom: 0;padding: 0.3em;box-sizing: border-box;text-align: center;}#sk-container-id-9 label.sk-toggleable__label-arrow:before {content: \"▸\";float: left;margin-right: 0.25em;color: #696969;}#sk-container-id-9 label.sk-toggleable__label-arrow:hover:before {color: black;}#sk-container-id-9 div.sk-estimator:hover label.sk-toggleable__label-arrow:before {color: black;}#sk-container-id-9 div.sk-toggleable__content {max-height: 0;max-width: 0;overflow: hidden;text-align: left;background-color: #f0f8ff;}#sk-container-id-9 div.sk-toggleable__content pre {margin: 0.2em;color: black;border-radius: 0.25em;background-color: #f0f8ff;}#sk-container-id-9 input.sk-toggleable__control:checked~div.sk-toggleable__content {max-height: 200px;max-width: 100%;overflow: auto;}#sk-container-id-9 input.sk-toggleable__control:checked~label.sk-toggleable__label-arrow:before {content: \"▾\";}#sk-container-id-9 div.sk-estimator input.sk-toggleable__control:checked~label.sk-toggleable__label {background-color: #d4ebff;}#sk-container-id-9 div.sk-label input.sk-toggleable__control:checked~label.sk-toggleable__label {background-color: #d4ebff;}#sk-container-id-9 input.sk-hidden--visually {border: 0;clip: rect(1px 1px 1px 1px);clip: rect(1px, 1px, 1px, 1px);height: 1px;margin: -1px;overflow: hidden;padding: 0;position: absolute;width: 1px;}#sk-container-id-9 div.sk-estimator {font-family: monospace;background-color: #f0f8ff;border: 1px dotted black;border-radius: 0.25em;box-sizing: border-box;margin-bottom: 0.5em;}#sk-container-id-9 div.sk-estimator:hover {background-color: #d4ebff;}#sk-container-id-9 div.sk-parallel-item::after {content: \"\";width: 100%;border-bottom: 1px solid gray;flex-grow: 1;}#sk-container-id-9 div.sk-label:hover label.sk-toggleable__label {background-color: #d4ebff;}#sk-container-id-9 div.sk-serial::before {content: \"\";position: absolute;border-left: 1px solid gray;box-sizing: border-box;top: 0;bottom: 0;left: 50%;z-index: 0;}#sk-container-id-9 div.sk-serial {display: flex;flex-direction: column;align-items: center;background-color: white;padding-right: 0.2em;padding-left: 0.2em;position: relative;}#sk-container-id-9 div.sk-item {position: relative;z-index: 1;}#sk-container-id-9 div.sk-parallel {display: flex;align-items: stretch;justify-content: center;background-color: white;position: relative;}#sk-container-id-9 div.sk-item::before, #sk-container-id-9 div.sk-parallel-item::before {content: \"\";position: absolute;border-left: 1px solid gray;box-sizing: border-box;top: 0;bottom: 0;left: 50%;z-index: -1;}#sk-container-id-9 div.sk-parallel-item {display: flex;flex-direction: column;z-index: 1;position: relative;background-color: white;}#sk-container-id-9 div.sk-parallel-item:first-child::after {align-self: flex-end;width: 50%;}#sk-container-id-9 div.sk-parallel-item:last-child::after {align-self: flex-start;width: 50%;}#sk-container-id-9 div.sk-parallel-item:only-child::after {width: 0;}#sk-container-id-9 div.sk-dashed-wrapped {border: 1px dashed gray;margin: 0 0.4em 0.5em 0.4em;box-sizing: border-box;padding-bottom: 0.4em;background-color: white;}#sk-container-id-9 div.sk-label label {font-family: monospace;font-weight: bold;display: inline-block;line-height: 1.2em;}#sk-container-id-9 div.sk-label-container {text-align: center;}#sk-container-id-9 div.sk-container {/* jupyter's `normalize.less` sets `[hidden] { display: none; }` but bootstrap.min.css set `[hidden] { display: none !important; }` so we also need the `!important` here to be able to override the default hidden behavior on the sphinx rendered scikit-learn.org. See: https://github.com/scikit-learn/scikit-learn/issues/21755 */display: inline-block !important;position: relative;}#sk-container-id-9 div.sk-text-repr-fallback {display: none;}</style><div id=\"sk-container-id-9\" class=\"sk-top-container\"><div class=\"sk-text-repr-fallback\"><pre>GridSearchCV(cv=5, estimator=KNeighborsClassifier(),\n",
              "             param_grid={&#x27;n_neighbors&#x27;: [1, 2, 3, 4, 5, 6, 7, 8, 9]},\n",
              "             scoring=&#x27;accuracy&#x27;)</pre><b>In a Jupyter environment, please rerun this cell to show the HTML representation or trust the notebook. <br />On GitHub, the HTML representation is unable to render, please try loading this page with nbviewer.org.</b></div><div class=\"sk-container\" hidden><div class=\"sk-item sk-dashed-wrapped\"><div class=\"sk-label-container\"><div class=\"sk-label sk-toggleable\"><input class=\"sk-toggleable__control sk-hidden--visually\" id=\"sk-estimator-id-15\" type=\"checkbox\" ><label for=\"sk-estimator-id-15\" class=\"sk-toggleable__label sk-toggleable__label-arrow\">GridSearchCV</label><div class=\"sk-toggleable__content\"><pre>GridSearchCV(cv=5, estimator=KNeighborsClassifier(),\n",
              "             param_grid={&#x27;n_neighbors&#x27;: [1, 2, 3, 4, 5, 6, 7, 8, 9]},\n",
              "             scoring=&#x27;accuracy&#x27;)</pre></div></div></div><div class=\"sk-parallel\"><div class=\"sk-parallel-item\"><div class=\"sk-item\"><div class=\"sk-label-container\"><div class=\"sk-label sk-toggleable\"><input class=\"sk-toggleable__control sk-hidden--visually\" id=\"sk-estimator-id-16\" type=\"checkbox\" ><label for=\"sk-estimator-id-16\" class=\"sk-toggleable__label sk-toggleable__label-arrow\">estimator: KNeighborsClassifier</label><div class=\"sk-toggleable__content\"><pre>KNeighborsClassifier()</pre></div></div></div><div class=\"sk-serial\"><div class=\"sk-item\"><div class=\"sk-estimator sk-toggleable\"><input class=\"sk-toggleable__control sk-hidden--visually\" id=\"sk-estimator-id-17\" type=\"checkbox\" ><label for=\"sk-estimator-id-17\" class=\"sk-toggleable__label sk-toggleable__label-arrow\">KNeighborsClassifier</label><div class=\"sk-toggleable__content\"><pre>KNeighborsClassifier()</pre></div></div></div></div></div></div></div></div></div></div>"
            ]
          },
          "metadata": {},
          "execution_count": 106
        }
      ],
      "source": [
        "grid.fit(X_train, y_train)"
      ]
    },
    {
      "cell_type": "code",
      "execution_count": null,
      "metadata": {
        "execution": {
          "iopub.execute_input": "2022-11-30T22:41:16.347329Z",
          "iopub.status.busy": "2022-11-30T22:41:16.346874Z",
          "iopub.status.idle": "2022-11-30T22:41:16.354868Z",
          "shell.execute_reply": "2022-11-30T22:41:16.353480Z",
          "shell.execute_reply.started": "2022-11-30T22:41:16.347291Z"
        },
        "colab": {
          "base_uri": "https://localhost:8080/"
        },
        "id": "b8vxcg1SKmJF",
        "outputId": "0acd3f34-0aca-41f3-cfd5-c441484a00ad"
      },
      "outputs": [
        {
          "output_type": "execute_result",
          "data": {
            "text/plain": [
              "({'n_neighbors': 1}, 0.7976981654551748)"
            ]
          },
          "metadata": {},
          "execution_count": 107
        }
      ],
      "source": [
        "grid.best_params_, grid.best_score_"
      ]
    },
    {
      "cell_type": "code",
      "execution_count": null,
      "metadata": {
        "execution": {
          "iopub.execute_input": "2022-11-30T22:50:37.506221Z",
          "iopub.status.busy": "2022-11-30T22:50:37.505019Z",
          "iopub.status.idle": "2022-11-30T22:50:37.513767Z",
          "shell.execute_reply": "2022-11-30T22:50:37.512302Z",
          "shell.execute_reply.started": "2022-11-30T22:50:37.506171Z"
        },
        "colab": {
          "base_uri": "https://localhost:8080/"
        },
        "id": "5_sFdSgMKmJF",
        "outputId": "ff73e1ba-9ee9-4ce6-8223-bdfb362998ab"
      },
      "outputs": [
        {
          "output_type": "execute_result",
          "data": {
            "text/plain": [
              "({'n_neighbors': 1}, 0.7976981654551748)"
            ]
          },
          "metadata": {},
          "execution_count": 108
        }
      ],
      "source": [
        "grid.best_params_, grid.best_score_"
      ]
    },
    {
      "cell_type": "code",
      "execution_count": null,
      "metadata": {
        "execution": {
          "iopub.execute_input": "2022-11-30T22:50:47.494444Z",
          "iopub.status.busy": "2022-11-30T22:50:47.494048Z",
          "iopub.status.idle": "2022-11-30T22:50:47.499936Z",
          "shell.execute_reply": "2022-11-30T22:50:47.498574Z",
          "shell.execute_reply.started": "2022-11-30T22:50:47.494412Z"
        },
        "id": "f0s5ICumKmJG"
      },
      "outputs": [],
      "source": [
        "knn = KNeighborsClassifier(n_neighbors = 1, metric = 'minkowski', p = 2)"
      ]
    },
    {
      "cell_type": "code",
      "execution_count": null,
      "metadata": {
        "execution": {
          "iopub.execute_input": "2022-11-30T22:50:47.720627Z",
          "iopub.status.busy": "2022-11-30T22:50:47.720216Z",
          "iopub.status.idle": "2022-11-30T22:50:47.729178Z",
          "shell.execute_reply": "2022-11-30T22:50:47.728357Z",
          "shell.execute_reply.started": "2022-11-30T22:50:47.720596Z"
        },
        "colab": {
          "base_uri": "https://localhost:8080/",
          "height": 74
        },
        "id": "sFCwRVtvKmJG",
        "outputId": "3f286cde-8421-4c3f-b04b-ba702c6b994c"
      },
      "outputs": [
        {
          "output_type": "execute_result",
          "data": {
            "text/plain": [
              "KNeighborsClassifier(n_neighbors=1)"
            ],
            "text/html": [
              "<style>#sk-container-id-10 {color: black;background-color: white;}#sk-container-id-10 pre{padding: 0;}#sk-container-id-10 div.sk-toggleable {background-color: white;}#sk-container-id-10 label.sk-toggleable__label {cursor: pointer;display: block;width: 100%;margin-bottom: 0;padding: 0.3em;box-sizing: border-box;text-align: center;}#sk-container-id-10 label.sk-toggleable__label-arrow:before {content: \"▸\";float: left;margin-right: 0.25em;color: #696969;}#sk-container-id-10 label.sk-toggleable__label-arrow:hover:before {color: black;}#sk-container-id-10 div.sk-estimator:hover label.sk-toggleable__label-arrow:before {color: black;}#sk-container-id-10 div.sk-toggleable__content {max-height: 0;max-width: 0;overflow: hidden;text-align: left;background-color: #f0f8ff;}#sk-container-id-10 div.sk-toggleable__content pre {margin: 0.2em;color: black;border-radius: 0.25em;background-color: #f0f8ff;}#sk-container-id-10 input.sk-toggleable__control:checked~div.sk-toggleable__content {max-height: 200px;max-width: 100%;overflow: auto;}#sk-container-id-10 input.sk-toggleable__control:checked~label.sk-toggleable__label-arrow:before {content: \"▾\";}#sk-container-id-10 div.sk-estimator input.sk-toggleable__control:checked~label.sk-toggleable__label {background-color: #d4ebff;}#sk-container-id-10 div.sk-label input.sk-toggleable__control:checked~label.sk-toggleable__label {background-color: #d4ebff;}#sk-container-id-10 input.sk-hidden--visually {border: 0;clip: rect(1px 1px 1px 1px);clip: rect(1px, 1px, 1px, 1px);height: 1px;margin: -1px;overflow: hidden;padding: 0;position: absolute;width: 1px;}#sk-container-id-10 div.sk-estimator {font-family: monospace;background-color: #f0f8ff;border: 1px dotted black;border-radius: 0.25em;box-sizing: border-box;margin-bottom: 0.5em;}#sk-container-id-10 div.sk-estimator:hover {background-color: #d4ebff;}#sk-container-id-10 div.sk-parallel-item::after {content: \"\";width: 100%;border-bottom: 1px solid gray;flex-grow: 1;}#sk-container-id-10 div.sk-label:hover label.sk-toggleable__label {background-color: #d4ebff;}#sk-container-id-10 div.sk-serial::before {content: \"\";position: absolute;border-left: 1px solid gray;box-sizing: border-box;top: 0;bottom: 0;left: 50%;z-index: 0;}#sk-container-id-10 div.sk-serial {display: flex;flex-direction: column;align-items: center;background-color: white;padding-right: 0.2em;padding-left: 0.2em;position: relative;}#sk-container-id-10 div.sk-item {position: relative;z-index: 1;}#sk-container-id-10 div.sk-parallel {display: flex;align-items: stretch;justify-content: center;background-color: white;position: relative;}#sk-container-id-10 div.sk-item::before, #sk-container-id-10 div.sk-parallel-item::before {content: \"\";position: absolute;border-left: 1px solid gray;box-sizing: border-box;top: 0;bottom: 0;left: 50%;z-index: -1;}#sk-container-id-10 div.sk-parallel-item {display: flex;flex-direction: column;z-index: 1;position: relative;background-color: white;}#sk-container-id-10 div.sk-parallel-item:first-child::after {align-self: flex-end;width: 50%;}#sk-container-id-10 div.sk-parallel-item:last-child::after {align-self: flex-start;width: 50%;}#sk-container-id-10 div.sk-parallel-item:only-child::after {width: 0;}#sk-container-id-10 div.sk-dashed-wrapped {border: 1px dashed gray;margin: 0 0.4em 0.5em 0.4em;box-sizing: border-box;padding-bottom: 0.4em;background-color: white;}#sk-container-id-10 div.sk-label label {font-family: monospace;font-weight: bold;display: inline-block;line-height: 1.2em;}#sk-container-id-10 div.sk-label-container {text-align: center;}#sk-container-id-10 div.sk-container {/* jupyter's `normalize.less` sets `[hidden] { display: none; }` but bootstrap.min.css set `[hidden] { display: none !important; }` so we also need the `!important` here to be able to override the default hidden behavior on the sphinx rendered scikit-learn.org. See: https://github.com/scikit-learn/scikit-learn/issues/21755 */display: inline-block !important;position: relative;}#sk-container-id-10 div.sk-text-repr-fallback {display: none;}</style><div id=\"sk-container-id-10\" class=\"sk-top-container\"><div class=\"sk-text-repr-fallback\"><pre>KNeighborsClassifier(n_neighbors=1)</pre><b>In a Jupyter environment, please rerun this cell to show the HTML representation or trust the notebook. <br />On GitHub, the HTML representation is unable to render, please try loading this page with nbviewer.org.</b></div><div class=\"sk-container\" hidden><div class=\"sk-item\"><div class=\"sk-estimator sk-toggleable\"><input class=\"sk-toggleable__control sk-hidden--visually\" id=\"sk-estimator-id-18\" type=\"checkbox\" checked><label for=\"sk-estimator-id-18\" class=\"sk-toggleable__label sk-toggleable__label-arrow\">KNeighborsClassifier</label><div class=\"sk-toggleable__content\"><pre>KNeighborsClassifier(n_neighbors=1)</pre></div></div></div></div></div>"
            ]
          },
          "metadata": {},
          "execution_count": 110
        }
      ],
      "source": [
        "knn.fit(X_train, y_train)"
      ]
    },
    {
      "cell_type": "code",
      "execution_count": null,
      "metadata": {
        "execution": {
          "iopub.execute_input": "2022-11-30T22:50:48.019273Z",
          "iopub.status.busy": "2022-11-30T22:50:48.018207Z",
          "iopub.status.idle": "2022-11-30T22:50:48.032516Z",
          "shell.execute_reply": "2022-11-30T22:50:48.031334Z",
          "shell.execute_reply.started": "2022-11-30T22:50:48.019232Z"
        },
        "id": "2WhdR2ISKmJG"
      },
      "outputs": [],
      "source": [
        "previsoes = knn.predict(X_test)"
      ]
    },
    {
      "cell_type": "code",
      "execution_count": null,
      "metadata": {
        "execution": {
          "iopub.execute_input": "2022-11-30T22:43:00.424280Z",
          "iopub.status.busy": "2022-11-30T22:43:00.423845Z",
          "iopub.status.idle": "2022-11-30T22:43:00.579851Z",
          "shell.execute_reply": "2022-11-30T22:43:00.578597Z",
          "shell.execute_reply.started": "2022-11-30T22:43:00.424242Z"
        },
        "colab": {
          "base_uri": "https://localhost:8080/",
          "height": 506
        },
        "id": "Q83rHuWTKmJG",
        "outputId": "e0a1bc5f-545f-4e98-b46b-ea045ec0b4e4"
      },
      "outputs": [
        {
          "output_type": "execute_result",
          "data": {
            "text/plain": [
              "0.8008658008658008"
            ]
          },
          "metadata": {},
          "execution_count": 112
        },
        {
          "output_type": "display_data",
          "data": {
            "text/plain": [
              "<Figure size 800x550 with 1 Axes>"
            ],
            "image/png": "[encoded data removed]"
          },
          "metadata": {}
        }
      ],
      "source": [
        "cm = ConfusionMatrix(knn)\n",
        "cm.fit(X_train, y_train)\n",
        "cm.score(X_test, y_test)"
      ]
    },
    {
      "cell_type": "code",
      "execution_count": null,
      "metadata": {
        "execution": {
          "iopub.execute_input": "2022-11-30T22:43:12.094323Z",
          "iopub.status.busy": "2022-11-30T22:43:12.093915Z",
          "iopub.status.idle": "2022-11-30T22:43:12.104836Z",
          "shell.execute_reply": "2022-11-30T22:43:12.103681Z",
          "shell.execute_reply.started": "2022-11-30T22:43:12.094287Z"
        },
        "id": "tHFezwk2KmJH"
      },
      "outputs": [],
      "source": [
        "classification_knn = (classification_report(y_test, previsoes))"
      ]
    },
    {
      "cell_type": "code",
      "execution_count": null,
      "metadata": {
        "execution": {
          "iopub.execute_input": "2022-11-30T22:43:18.685991Z",
          "iopub.status.busy": "2022-11-30T22:43:18.685591Z",
          "iopub.status.idle": "2022-11-30T22:43:18.691601Z",
          "shell.execute_reply": "2022-11-30T22:43:18.690321Z",
          "shell.execute_reply.started": "2022-11-30T22:43:18.685959Z"
        },
        "colab": {
          "base_uri": "https://localhost:8080/"
        },
        "id": "FiFwAZtbKmJH",
        "outputId": "51991f95-8cbf-4a35-b3c2-d002ab912310"
      },
      "outputs": [
        {
          "output_type": "stream",
          "name": "stdout",
          "text": [
            "              precision    recall  f1-score   support\n",
            "\n",
            "           0       0.75      0.87      0.81       111\n",
            "           1       0.86      0.73      0.79       120\n",
            "\n",
            "    accuracy                           0.80       231\n",
            "   macro avg       0.81      0.80      0.80       231\n",
            "weighted avg       0.81      0.80      0.80       231\n",
            "\n"
          ]
        }
      ],
      "source": [
        "print(classification_knn)"
      ]
    },
    {
      "cell_type": "code",
      "execution_count": null,
      "metadata": {
        "execution": {
          "iopub.execute_input": "2022-11-30T22:43:36.173869Z",
          "iopub.status.busy": "2022-11-30T22:43:36.173441Z",
          "iopub.status.idle": "2022-11-30T22:43:36.179476Z",
          "shell.execute_reply": "2022-11-30T22:43:36.178067Z",
          "shell.execute_reply.started": "2022-11-30T22:43:36.173829Z"
        },
        "id": "2vu_R6dVKmJH"
      },
      "outputs": [],
      "source": [
        "score_knn = 0.70995670995671"
      ]
    },
    {
      "cell_type": "code",
      "execution_count": null,
      "metadata": {
        "execution": {
          "iopub.execute_input": "2022-11-30T22:51:18.269299Z",
          "iopub.status.busy": "2022-11-30T22:51:18.268883Z",
          "iopub.status.idle": "2022-11-30T22:51:18.414965Z",
          "shell.execute_reply": "2022-11-30T22:51:18.413424Z",
          "shell.execute_reply.started": "2022-11-30T22:51:18.269264Z"
        },
        "colab": {
          "base_uri": "https://localhost:8080/",
          "height": 506
        },
        "id": "i7lWZ07-KmJH",
        "outputId": "c504966a-b355-41fd-948e-73f84bf3c3ae"
      },
      "outputs": [
        {
          "output_type": "execute_result",
          "data": {
            "text/plain": [
              "0.8008658008658008"
            ]
          },
          "metadata": {},
          "execution_count": 116
        },
        {
          "output_type": "display_data",
          "data": {
            "text/plain": [
              "<Figure size 800x550 with 1 Axes>"
            ],
            "image/png": "[encoded data removed]"
          },
          "metadata": {}
        }
      ],
      "source": [
        "cm = ConfusionMatrix(knn)\n",
        "cm.fit(X_train, y_train)\n",
        "cm.score(X_test, y_test)"
      ]
    },
    {
      "cell_type": "code",
      "execution_count": null,
      "metadata": {
        "execution": {
          "iopub.execute_input": "2022-11-30T22:51:27.176233Z",
          "iopub.status.busy": "2022-11-30T22:51:27.175823Z",
          "iopub.status.idle": "2022-11-30T22:51:27.186464Z",
          "shell.execute_reply": "2022-11-30T22:51:27.185502Z",
          "shell.execute_reply.started": "2022-11-30T22:51:27.176199Z"
        },
        "id": "p4u113AvKmJI"
      },
      "outputs": [],
      "source": [
        "classification_knn_scaler = (classification_report(y_test, previsoes))"
      ]
    },
    {
      "cell_type": "code",
      "execution_count": null,
      "metadata": {
        "execution": {
          "iopub.execute_input": "2022-11-30T22:51:30.662723Z",
          "iopub.status.busy": "2022-11-30T22:51:30.662292Z",
          "iopub.status.idle": "2022-11-30T22:51:30.668846Z",
          "shell.execute_reply": "2022-11-30T22:51:30.667627Z",
          "shell.execute_reply.started": "2022-11-30T22:51:30.662682Z"
        },
        "colab": {
          "base_uri": "https://localhost:8080/"
        },
        "id": "fXk2mU3WKmJI",
        "outputId": "2a6d4e6a-60c3-4aac-fd89-1fa9515c8166"
      },
      "outputs": [
        {
          "output_type": "stream",
          "name": "stdout",
          "text": [
            "              precision    recall  f1-score   support\n",
            "\n",
            "           0       0.75      0.87      0.81       111\n",
            "           1       0.86      0.73      0.79       120\n",
            "\n",
            "    accuracy                           0.80       231\n",
            "   macro avg       0.81      0.80      0.80       231\n",
            "weighted avg       0.81      0.80      0.80       231\n",
            "\n"
          ]
        }
      ],
      "source": [
        "print(classification_knn_scaler)"
      ]
    },
    {
      "cell_type": "code",
      "execution_count": null,
      "metadata": {
        "execution": {
          "iopub.execute_input": "2022-11-30T22:52:01.575706Z",
          "iopub.status.busy": "2022-11-30T22:52:01.575285Z",
          "iopub.status.idle": "2022-11-30T22:52:01.581008Z",
          "shell.execute_reply": "2022-11-30T22:52:01.579782Z",
          "shell.execute_reply.started": "2022-11-30T22:52:01.575669Z"
        },
        "id": "afcRs82JKmJI"
      },
      "outputs": [],
      "source": [
        "score_knn_scaler = 0.8008658008658008"
      ]
    },
    {
      "cell_type": "code",
      "execution_count": null,
      "metadata": {
        "execution": {
          "iopub.execute_input": "2022-11-30T22:52:33.029279Z",
          "iopub.status.busy": "2022-11-30T22:52:33.028399Z",
          "iopub.status.idle": "2022-11-30T22:52:33.035036Z",
          "shell.execute_reply": "2022-11-30T22:52:33.033554Z",
          "shell.execute_reply.started": "2022-11-30T22:52:33.029166Z"
        },
        "id": "lL4F3DyBKmJI"
      },
      "outputs": [],
      "source": [
        "from sklearn.linear_model import LogisticRegression"
      ]
    },
    {
      "cell_type": "code",
      "execution_count": null,
      "metadata": {
        "execution": {
          "iopub.execute_input": "2022-11-30T22:52:33.268913Z",
          "iopub.status.busy": "2022-11-30T22:52:33.268113Z",
          "iopub.status.idle": "2022-11-30T22:52:33.273836Z",
          "shell.execute_reply": "2022-11-30T22:52:33.272588Z",
          "shell.execute_reply.started": "2022-11-30T22:52:33.268877Z"
        },
        "id": "xieZWOe5KmJJ"
      },
      "outputs": [],
      "source": [
        "logistic = LogisticRegression(random_state = 1, max_iter=1000)"
      ]
    },
    {
      "cell_type": "code",
      "execution_count": null,
      "metadata": {
        "execution": {
          "iopub.execute_input": "2022-11-30T22:52:33.443869Z",
          "iopub.status.busy": "2022-11-30T22:52:33.443465Z",
          "iopub.status.idle": "2022-11-30T22:52:33.457154Z",
          "shell.execute_reply": "2022-11-30T22:52:33.455979Z",
          "shell.execute_reply.started": "2022-11-30T22:52:33.443833Z"
        },
        "colab": {
          "base_uri": "https://localhost:8080/",
          "height": 74
        },
        "id": "pcAok9lXKmJJ",
        "outputId": "d7092d54-e831-4ad2-9f09-f34aa72d8d77"
      },
      "outputs": [
        {
          "output_type": "execute_result",
          "data": {
            "text/plain": [
              "LogisticRegression(max_iter=1000, random_state=1)"
            ],
            "text/html": [
              "<style>#sk-container-id-11 {color: black;background-color: white;}#sk-container-id-11 pre{padding: 0;}#sk-container-id-11 div.sk-toggleable {background-color: white;}#sk-container-id-11 label.sk-toggleable__label {cursor: pointer;display: block;width: 100%;margin-bottom: 0;padding: 0.3em;box-sizing: border-box;text-align: center;}#sk-container-id-11 label.sk-toggleable__label-arrow:before {content: \"▸\";float: left;margin-right: 0.25em;color: #696969;}#sk-container-id-11 label.sk-toggleable__label-arrow:hover:before {color: black;}#sk-container-id-11 div.sk-estimator:hover label.sk-toggleable__label-arrow:before {color: black;}#sk-container-id-11 div.sk-toggleable__content {max-height: 0;max-width: 0;overflow: hidden;text-align: left;background-color: #f0f8ff;}#sk-container-id-11 div.sk-toggleable__content pre {margin: 0.2em;color: black;border-radius: 0.25em;background-color: #f0f8ff;}#sk-container-id-11 input.sk-toggleable__control:checked~div.sk-toggleable__content {max-height: 200px;max-width: 100%;overflow: auto;}#sk-container-id-11 input.sk-toggleable__control:checked~label.sk-toggleable__label-arrow:before {content: \"▾\";}#sk-container-id-11 div.sk-estimator input.sk-toggleable__control:checked~label.sk-toggleable__label {background-color: #d4ebff;}#sk-container-id-11 div.sk-label input.sk-toggleable__control:checked~label.sk-toggleable__label {background-color: #d4ebff;}#sk-container-id-11 input.sk-hidden--visually {border: 0;clip: rect(1px 1px 1px 1px);clip: rect(1px, 1px, 1px, 1px);height: 1px;margin: -1px;overflow: hidden;padding: 0;position: absolute;width: 1px;}#sk-container-id-11 div.sk-estimator {font-family: monospace;background-color: #f0f8ff;border: 1px dotted black;border-radius: 0.25em;box-sizing: border-box;margin-bottom: 0.5em;}#sk-container-id-11 div.sk-estimator:hover {background-color: #d4ebff;}#sk-container-id-11 div.sk-parallel-item::after {content: \"\";width: 100%;border-bottom: 1px solid gray;flex-grow: 1;}#sk-container-id-11 div.sk-label:hover label.sk-toggleable__label {background-color: #d4ebff;}#sk-container-id-11 div.sk-serial::before {content: \"\";position: absolute;border-left: 1px solid gray;box-sizing: border-box;top: 0;bottom: 0;left: 50%;z-index: 0;}#sk-container-id-11 div.sk-serial {display: flex;flex-direction: column;align-items: center;background-color: white;padding-right: 0.2em;padding-left: 0.2em;position: relative;}#sk-container-id-11 div.sk-item {position: relative;z-index: 1;}#sk-container-id-11 div.sk-parallel {display: flex;align-items: stretch;justify-content: center;background-color: white;position: relative;}#sk-container-id-11 div.sk-item::before, #sk-container-id-11 div.sk-parallel-item::before {content: \"\";position: absolute;border-left: 1px solid gray;box-sizing: border-box;top: 0;bottom: 0;left: 50%;z-index: -1;}#sk-container-id-11 div.sk-parallel-item {display: flex;flex-direction: column;z-index: 1;position: relative;background-color: white;}#sk-container-id-11 div.sk-parallel-item:first-child::after {align-self: flex-end;width: 50%;}#sk-container-id-11 div.sk-parallel-item:last-child::after {align-self: flex-start;width: 50%;}#sk-container-id-11 div.sk-parallel-item:only-child::after {width: 0;}#sk-container-id-11 div.sk-dashed-wrapped {border: 1px dashed gray;margin: 0 0.4em 0.5em 0.4em;box-sizing: border-box;padding-bottom: 0.4em;background-color: white;}#sk-container-id-11 div.sk-label label {font-family: monospace;font-weight: bold;display: inline-block;line-height: 1.2em;}#sk-container-id-11 div.sk-label-container {text-align: center;}#sk-container-id-11 div.sk-container {/* jupyter's `normalize.less` sets `[hidden] { display: none; }` but bootstrap.min.css set `[hidden] { display: none !important; }` so we also need the `!important` here to be able to override the default hidden behavior on the sphinx rendered scikit-learn.org. See: https://github.com/scikit-learn/scikit-learn/issues/21755 */display: inline-block !important;position: relative;}#sk-container-id-11 div.sk-text-repr-fallback {display: none;}</style><div id=\"sk-container-id-11\" class=\"sk-top-container\"><div class=\"sk-text-repr-fallback\"><pre>LogisticRegression(max_iter=1000, random_state=1)</pre><b>In a Jupyter environment, please rerun this cell to show the HTML representation or trust the notebook. <br />On GitHub, the HTML representation is unable to render, please try loading this page with nbviewer.org.</b></div><div class=\"sk-container\" hidden><div class=\"sk-item\"><div class=\"sk-estimator sk-toggleable\"><input class=\"sk-toggleable__control sk-hidden--visually\" id=\"sk-estimator-id-19\" type=\"checkbox\" checked><label for=\"sk-estimator-id-19\" class=\"sk-toggleable__label sk-toggleable__label-arrow\">LogisticRegression</label><div class=\"sk-toggleable__content\"><pre>LogisticRegression(max_iter=1000, random_state=1)</pre></div></div></div></div></div>"
            ]
          },
          "metadata": {},
          "execution_count": 122
        }
      ],
      "source": [
        "logistic.fit(X_train, y_train)"
      ]
    },
    {
      "cell_type": "code",
      "execution_count": null,
      "metadata": {
        "execution": {
          "iopub.execute_input": "2022-11-30T22:52:33.768662Z",
          "iopub.status.busy": "2022-11-30T22:52:33.768242Z",
          "iopub.status.idle": "2022-11-30T22:52:33.776179Z",
          "shell.execute_reply": "2022-11-30T22:52:33.775001Z",
          "shell.execute_reply.started": "2022-11-30T22:52:33.768625Z"
        },
        "id": "7pUVIk0jKmJJ"
      },
      "outputs": [],
      "source": [
        "previsoes = logistic.predict(X_test)"
      ]
    },
    {
      "cell_type": "code",
      "execution_count": null,
      "metadata": {
        "execution": {
          "iopub.execute_input": "2022-11-30T22:45:13.015645Z",
          "iopub.status.busy": "2022-11-30T22:45:13.015259Z",
          "iopub.status.idle": "2022-11-30T22:45:13.142882Z",
          "shell.execute_reply": "2022-11-30T22:45:13.141530Z",
          "shell.execute_reply.started": "2022-11-30T22:45:13.015613Z"
        },
        "colab": {
          "base_uri": "https://localhost:8080/",
          "height": 506
        },
        "id": "4cWJPbW8KmJJ",
        "outputId": "9e0b3888-d7f1-4cfc-e857-a4dff635842f"
      },
      "outputs": [
        {
          "output_type": "execute_result",
          "data": {
            "text/plain": [
              "0.7142857142857143"
            ]
          },
          "metadata": {},
          "execution_count": 124
        },
        {
          "output_type": "display_data",
          "data": {
            "text/plain": [
              "<Figure size 800x550 with 1 Axes>"
            ],
            "image/png": "[encoded data removed]"
          },
          "metadata": {}
        }
      ],
      "source": [
        "cm = ConfusionMatrix(logistic)\n",
        "cm.fit(X_train, y_train)\n",
        "cm.score(X_test, y_test)"
      ]
    },
    {
      "cell_type": "code",
      "execution_count": null,
      "metadata": {
        "execution": {
          "iopub.execute_input": "2022-11-30T22:45:24.797689Z",
          "iopub.status.busy": "2022-11-30T22:45:24.796614Z",
          "iopub.status.idle": "2022-11-30T22:45:24.806902Z",
          "shell.execute_reply": "2022-11-30T22:45:24.805399Z",
          "shell.execute_reply.started": "2022-11-30T22:45:24.797647Z"
        },
        "id": "GxhoBjNsKmJK"
      },
      "outputs": [],
      "source": [
        "logistic_normal = (classification_report(y_test, previsoes))"
      ]
    },
    {
      "cell_type": "code",
      "execution_count": null,
      "metadata": {
        "execution": {
          "iopub.execute_input": "2022-11-30T22:45:27.585704Z",
          "iopub.status.busy": "2022-11-30T22:45:27.585311Z",
          "iopub.status.idle": "2022-11-30T22:45:27.591279Z",
          "shell.execute_reply": "2022-11-30T22:45:27.590249Z",
          "shell.execute_reply.started": "2022-11-30T22:45:27.585664Z"
        },
        "colab": {
          "base_uri": "https://localhost:8080/"
        },
        "id": "2T1aPD9wKmJK",
        "outputId": "f6937fe7-4794-4cb8-9b19-e6e55f1285d5"
      },
      "outputs": [
        {
          "output_type": "stream",
          "name": "stdout",
          "text": [
            "              precision    recall  f1-score   support\n",
            "\n",
            "           0       0.78      0.56      0.65       111\n",
            "           1       0.68      0.86      0.76       120\n",
            "\n",
            "    accuracy                           0.71       231\n",
            "   macro avg       0.73      0.71      0.70       231\n",
            "weighted avg       0.73      0.71      0.71       231\n",
            "\n"
          ]
        }
      ],
      "source": [
        "print(logistic_normal)"
      ]
    },
    {
      "cell_type": "code",
      "execution_count": null,
      "metadata": {
        "execution": {
          "iopub.execute_input": "2022-11-30T22:45:47.384660Z",
          "iopub.status.busy": "2022-11-30T22:45:47.384210Z",
          "iopub.status.idle": "2022-11-30T22:45:47.390516Z",
          "shell.execute_reply": "2022-11-30T22:45:47.389201Z",
          "shell.execute_reply.started": "2022-11-30T22:45:47.384622Z"
        },
        "id": "kgCDQRS-KmJK"
      },
      "outputs": [],
      "source": [
        "logistic_normal = 0.7142857142857143"
      ]
    },
    {
      "cell_type": "code",
      "execution_count": null,
      "metadata": {
        "execution": {
          "iopub.execute_input": "2022-11-30T22:53:11.829739Z",
          "iopub.status.busy": "2022-11-30T22:53:11.829338Z",
          "iopub.status.idle": "2022-11-30T22:53:11.835443Z",
          "shell.execute_reply": "2022-11-30T22:53:11.834183Z",
          "shell.execute_reply.started": "2022-11-30T22:53:11.829707Z"
        },
        "id": "7oCMaajuKmJK"
      },
      "outputs": [],
      "source": [
        "from sklearn.svm import SVC"
      ]
    },
    {
      "cell_type": "code",
      "execution_count": null,
      "metadata": {
        "execution": {
          "iopub.execute_input": "2022-11-30T22:53:12.215877Z",
          "iopub.status.busy": "2022-11-30T22:53:12.215453Z",
          "iopub.status.idle": "2022-11-30T22:53:12.220567Z",
          "shell.execute_reply": "2022-11-30T22:53:12.219466Z",
          "shell.execute_reply.started": "2022-11-30T22:53:12.215839Z"
        },
        "id": "SqqrvZdZKmJL"
      },
      "outputs": [],
      "source": [
        "model = SVC()"
      ]
    },
    {
      "cell_type": "code",
      "execution_count": null,
      "metadata": {
        "execution": {
          "iopub.execute_input": "2022-11-30T22:53:13.066329Z",
          "iopub.status.busy": "2022-11-30T22:53:13.065279Z",
          "iopub.status.idle": "2022-11-30T22:53:13.072382Z",
          "shell.execute_reply": "2022-11-30T22:53:13.071232Z",
          "shell.execute_reply.started": "2022-11-30T22:53:13.066287Z"
        },
        "id": "0chRoLgJKmJL"
      },
      "outputs": [],
      "source": [
        "kernel = ['linear', 'rbf', 'poly', 'sigmoid']\n",
        "c = np.array([3, 4, 5])\n",
        "polinomio = np.array([2, 3, 4, 5])\n",
        "gamma = ['auto', 'scale']\n",
        "values_grid = {'C': c, 'kernel': kernel, 'degree': polinomio, 'gamma': gamma}"
      ]
    },
    {
      "cell_type": "code",
      "execution_count": null,
      "metadata": {
        "execution": {
          "iopub.execute_input": "2022-11-30T22:53:13.861779Z",
          "iopub.status.busy": "2022-11-30T22:53:13.861371Z",
          "iopub.status.idle": "2022-11-30T22:53:13.866586Z",
          "shell.execute_reply": "2022-11-30T22:53:13.865667Z",
          "shell.execute_reply.started": "2022-11-30T22:53:13.861735Z"
        },
        "id": "ZDZVGZNHKmJM"
      },
      "outputs": [],
      "source": [
        "gridSVM = GridSearchCV(estimator = model, param_grid = values_grid, cv = 2, n_jobs = -1)"
      ]
    },
    {
      "cell_type": "code",
      "execution_count": null,
      "metadata": {
        "execution": {
          "iopub.execute_input": "2022-11-30T22:53:14.186626Z",
          "iopub.status.busy": "2022-11-30T22:53:14.185479Z",
          "iopub.status.idle": "2022-11-30T22:53:16.219524Z",
          "shell.execute_reply": "2022-11-30T22:53:16.218395Z",
          "shell.execute_reply.started": "2022-11-30T22:53:14.186571Z"
        },
        "colab": {
          "base_uri": "https://localhost:8080/",
          "height": 117
        },
        "id": "I18qVRqJKmJM",
        "outputId": "c1e5fc6d-f606-42f1-fe20-c3409efd1dec"
      },
      "outputs": [
        {
          "output_type": "execute_result",
          "data": {
            "text/plain": [
              "GridSearchCV(cv=2, estimator=SVC(), n_jobs=-1,\n",
              "             param_grid={'C': array([3, 4, 5]), 'degree': array([2, 3, 4, 5]),\n",
              "                         'gamma': ['auto', 'scale'],\n",
              "                         'kernel': ['linear', 'rbf', 'poly', 'sigmoid']})"
            ],
            "text/html": [
              "<style>#sk-container-id-12 {color: black;background-color: white;}#sk-container-id-12 pre{padding: 0;}#sk-container-id-12 div.sk-toggleable {background-color: white;}#sk-container-id-12 label.sk-toggleable__label {cursor: pointer;display: block;width: 100%;margin-bottom: 0;padding: 0.3em;box-sizing: border-box;text-align: center;}#sk-container-id-12 label.sk-toggleable__label-arrow:before {content: \"▸\";float: left;margin-right: 0.25em;color: #696969;}#sk-container-id-12 label.sk-toggleable__label-arrow:hover:before {color: black;}#sk-container-id-12 div.sk-estimator:hover label.sk-toggleable__label-arrow:before {color: black;}#sk-container-id-12 div.sk-toggleable__content {max-height: 0;max-width: 0;overflow: hidden;text-align: left;background-color: #f0f8ff;}#sk-container-id-12 div.sk-toggleable__content pre {margin: 0.2em;color: black;border-radius: 0.25em;background-color: #f0f8ff;}#sk-container-id-12 input.sk-toggleable__control:checked~div.sk-toggleable__content {max-height: 200px;max-width: 100%;overflow: auto;}#sk-container-id-12 input.sk-toggleable__control:checked~label.sk-toggleable__label-arrow:before {content: \"▾\";}#sk-container-id-12 div.sk-estimator input.sk-toggleable__control:checked~label.sk-toggleable__label {background-color: #d4ebff;}#sk-container-id-12 div.sk-label input.sk-toggleable__control:checked~label.sk-toggleable__label {background-color: #d4ebff;}#sk-container-id-12 input.sk-hidden--visually {border: 0;clip: rect(1px 1px 1px 1px);clip: rect(1px, 1px, 1px, 1px);height: 1px;margin: -1px;overflow: hidden;padding: 0;position: absolute;width: 1px;}#sk-container-id-12 div.sk-estimator {font-family: monospace;background-color: #f0f8ff;border: 1px dotted black;border-radius: 0.25em;box-sizing: border-box;margin-bottom: 0.5em;}#sk-container-id-12 div.sk-estimator:hover {background-color: #d4ebff;}#sk-container-id-12 div.sk-parallel-item::after {content: \"\";width: 100%;border-bottom: 1px solid gray;flex-grow: 1;}#sk-container-id-12 div.sk-label:hover label.sk-toggleable__label {background-color: #d4ebff;}#sk-container-id-12 div.sk-serial::before {content: \"\";position: absolute;border-left: 1px solid gray;box-sizing: border-box;top: 0;bottom: 0;left: 50%;z-index: 0;}#sk-container-id-12 div.sk-serial {display: flex;flex-direction: column;align-items: center;background-color: white;padding-right: 0.2em;padding-left: 0.2em;position: relative;}#sk-container-id-12 div.sk-item {position: relative;z-index: 1;}#sk-container-id-12 div.sk-parallel {display: flex;align-items: stretch;justify-content: center;background-color: white;position: relative;}#sk-container-id-12 div.sk-item::before, #sk-container-id-12 div.sk-parallel-item::before {content: \"\";position: absolute;border-left: 1px solid gray;box-sizing: border-box;top: 0;bottom: 0;left: 50%;z-index: -1;}#sk-container-id-12 div.sk-parallel-item {display: flex;flex-direction: column;z-index: 1;position: relative;background-color: white;}#sk-container-id-12 div.sk-parallel-item:first-child::after {align-self: flex-end;width: 50%;}#sk-container-id-12 div.sk-parallel-item:last-child::after {align-self: flex-start;width: 50%;}#sk-container-id-12 div.sk-parallel-item:only-child::after {width: 0;}#sk-container-id-12 div.sk-dashed-wrapped {border: 1px dashed gray;margin: 0 0.4em 0.5em 0.4em;box-sizing: border-box;padding-bottom: 0.4em;background-color: white;}#sk-container-id-12 div.sk-label label {font-family: monospace;font-weight: bold;display: inline-block;line-height: 1.2em;}#sk-container-id-12 div.sk-label-container {text-align: center;}#sk-container-id-12 div.sk-container {/* jupyter's `normalize.less` sets `[hidden] { display: none; }` but bootstrap.min.css set `[hidden] { display: none !important; }` so we also need the `!important` here to be able to override the default hidden behavior on the sphinx rendered scikit-learn.org. See: https://github.com/scikit-learn/scikit-learn/issues/21755 */display: inline-block !important;position: relative;}#sk-container-id-12 div.sk-text-repr-fallback {display: none;}</style><div id=\"sk-container-id-12\" class=\"sk-top-container\"><div class=\"sk-text-repr-fallback\"><pre>GridSearchCV(cv=2, estimator=SVC(), n_jobs=-1,\n",
              "             param_grid={&#x27;C&#x27;: array([3, 4, 5]), &#x27;degree&#x27;: array([2, 3, 4, 5]),\n",
              "                         &#x27;gamma&#x27;: [&#x27;auto&#x27;, &#x27;scale&#x27;],\n",
              "                         &#x27;kernel&#x27;: [&#x27;linear&#x27;, &#x27;rbf&#x27;, &#x27;poly&#x27;, &#x27;sigmoid&#x27;]})</pre><b>In a Jupyter environment, please rerun this cell to show the HTML representation or trust the notebook. <br />On GitHub, the HTML representation is unable to render, please try loading this page with nbviewer.org.</b></div><div class=\"sk-container\" hidden><div class=\"sk-item sk-dashed-wrapped\"><div class=\"sk-label-container\"><div class=\"sk-label sk-toggleable\"><input class=\"sk-toggleable__control sk-hidden--visually\" id=\"sk-estimator-id-20\" type=\"checkbox\" ><label for=\"sk-estimator-id-20\" class=\"sk-toggleable__label sk-toggleable__label-arrow\">GridSearchCV</label><div class=\"sk-toggleable__content\"><pre>GridSearchCV(cv=2, estimator=SVC(), n_jobs=-1,\n",
              "             param_grid={&#x27;C&#x27;: array([3, 4, 5]), &#x27;degree&#x27;: array([2, 3, 4, 5]),\n",
              "                         &#x27;gamma&#x27;: [&#x27;auto&#x27;, &#x27;scale&#x27;],\n",
              "                         &#x27;kernel&#x27;: [&#x27;linear&#x27;, &#x27;rbf&#x27;, &#x27;poly&#x27;, &#x27;sigmoid&#x27;]})</pre></div></div></div><div class=\"sk-parallel\"><div class=\"sk-parallel-item\"><div class=\"sk-item\"><div class=\"sk-label-container\"><div class=\"sk-label sk-toggleable\"><input class=\"sk-toggleable__control sk-hidden--visually\" id=\"sk-estimator-id-21\" type=\"checkbox\" ><label for=\"sk-estimator-id-21\" class=\"sk-toggleable__label sk-toggleable__label-arrow\">estimator: SVC</label><div class=\"sk-toggleable__content\"><pre>SVC()</pre></div></div></div><div class=\"sk-serial\"><div class=\"sk-item\"><div class=\"sk-estimator sk-toggleable\"><input class=\"sk-toggleable__control sk-hidden--visually\" id=\"sk-estimator-id-22\" type=\"checkbox\" ><label for=\"sk-estimator-id-22\" class=\"sk-toggleable__label sk-toggleable__label-arrow\">SVC</label><div class=\"sk-toggleable__content\"><pre>SVC()</pre></div></div></div></div></div></div></div></div></div></div>"
            ]
          },
          "metadata": {},
          "execution_count": 132
        }
      ],
      "source": [
        "gridSVM.fit(X_train, y_train)"
      ]
    },
    {
      "cell_type": "code",
      "execution_count": null,
      "metadata": {
        "execution": {
          "iopub.execute_input": "2022-11-30T22:53:16.222839Z",
          "iopub.status.busy": "2022-11-30T22:53:16.221862Z",
          "iopub.status.idle": "2022-11-30T22:53:16.229548Z",
          "shell.execute_reply": "2022-11-30T22:53:16.228443Z",
          "shell.execute_reply.started": "2022-11-30T22:53:16.222773Z"
        },
        "colab": {
          "base_uri": "https://localhost:8080/"
        },
        "id": "qUGbstZtKmJN",
        "outputId": "18602625-5694-450f-f3af-58d72108a809"
      },
      "outputs": [
        {
          "output_type": "stream",
          "name": "stdout",
          "text": [
            "Kernel:  poly\n",
            "C:  4\n",
            "Polinomio 4\n",
            "Gamma auto\n",
            "Score:  0.751363073110285\n"
          ]
        }
      ],
      "source": [
        "print('Kernel: ', gridSVM.best_estimator_.kernel)\n",
        "print('C: ', gridSVM.best_estimator_.C)\n",
        "print('Polinomio', gridSVM.best_estimator_.degree)\n",
        "print('Gamma', gridSVM.best_estimator_.gamma)\n",
        "print('Score: ', gridSVM.best_score_)"
      ]
    },
    {
      "cell_type": "code",
      "execution_count": null,
      "metadata": {
        "execution": {
          "iopub.execute_input": "2022-11-30T22:54:16.855331Z",
          "iopub.status.busy": "2022-11-30T22:54:16.854169Z",
          "iopub.status.idle": "2022-11-30T22:54:16.860586Z",
          "shell.execute_reply": "2022-11-30T22:54:16.859392Z",
          "shell.execute_reply.started": "2022-11-30T22:54:16.855288Z"
        },
        "id": "OWgSiZHuKmJN"
      },
      "outputs": [],
      "source": [
        "svm = SVC(kernel = 'poly', gamma = 'auto', random_state = 1, C = 4.0)"
      ]
    },
    {
      "cell_type": "code",
      "execution_count": null,
      "metadata": {
        "execution": {
          "iopub.execute_input": "2022-11-30T22:54:21.985595Z",
          "iopub.status.busy": "2022-11-30T22:54:21.985169Z",
          "iopub.status.idle": "2022-11-30T22:54:22.009289Z",
          "shell.execute_reply": "2022-11-30T22:54:22.007814Z",
          "shell.execute_reply.started": "2022-11-30T22:54:21.985557Z"
        },
        "colab": {
          "base_uri": "https://localhost:8080/",
          "height": 74
        },
        "id": "zudQXES5KmJN",
        "outputId": "15542730-fb87-4913-eed2-68fc21c0b8f5"
      },
      "outputs": [
        {
          "output_type": "execute_result",
          "data": {
            "text/plain": [
              "SVC(C=4.0, gamma='auto', kernel='poly', random_state=1)"
            ],
            "text/html": [
              "<style>#sk-container-id-13 {color: black;background-color: white;}#sk-container-id-13 pre{padding: 0;}#sk-container-id-13 div.sk-toggleable {background-color: white;}#sk-container-id-13 label.sk-toggleable__label {cursor: pointer;display: block;width: 100%;margin-bottom: 0;padding: 0.3em;box-sizing: border-box;text-align: center;}#sk-container-id-13 label.sk-toggleable__label-arrow:before {content: \"▸\";float: left;margin-right: 0.25em;color: #696969;}#sk-container-id-13 label.sk-toggleable__label-arrow:hover:before {color: black;}#sk-container-id-13 div.sk-estimator:hover label.sk-toggleable__label-arrow:before {color: black;}#sk-container-id-13 div.sk-toggleable__content {max-height: 0;max-width: 0;overflow: hidden;text-align: left;background-color: #f0f8ff;}#sk-container-id-13 div.sk-toggleable__content pre {margin: 0.2em;color: black;border-radius: 0.25em;background-color: #f0f8ff;}#sk-container-id-13 input.sk-toggleable__control:checked~div.sk-toggleable__content {max-height: 200px;max-width: 100%;overflow: auto;}#sk-container-id-13 input.sk-toggleable__control:checked~label.sk-toggleable__label-arrow:before {content: \"▾\";}#sk-container-id-13 div.sk-estimator input.sk-toggleable__control:checked~label.sk-toggleable__label {background-color: #d4ebff;}#sk-container-id-13 div.sk-label input.sk-toggleable__control:checked~label.sk-toggleable__label {background-color: #d4ebff;}#sk-container-id-13 input.sk-hidden--visually {border: 0;clip: rect(1px 1px 1px 1px);clip: rect(1px, 1px, 1px, 1px);height: 1px;margin: -1px;overflow: hidden;padding: 0;position: absolute;width: 1px;}#sk-container-id-13 div.sk-estimator {font-family: monospace;background-color: #f0f8ff;border: 1px dotted black;border-radius: 0.25em;box-sizing: border-box;margin-bottom: 0.5em;}#sk-container-id-13 div.sk-estimator:hover {background-color: #d4ebff;}#sk-container-id-13 div.sk-parallel-item::after {content: \"\";width: 100%;border-bottom: 1px solid gray;flex-grow: 1;}#sk-container-id-13 div.sk-label:hover label.sk-toggleable__label {background-color: #d4ebff;}#sk-container-id-13 div.sk-serial::before {content: \"\";position: absolute;border-left: 1px solid gray;box-sizing: border-box;top: 0;bottom: 0;left: 50%;z-index: 0;}#sk-container-id-13 div.sk-serial {display: flex;flex-direction: column;align-items: center;background-color: white;padding-right: 0.2em;padding-left: 0.2em;position: relative;}#sk-container-id-13 div.sk-item {position: relative;z-index: 1;}#sk-container-id-13 div.sk-parallel {display: flex;align-items: stretch;justify-content: center;background-color: white;position: relative;}#sk-container-id-13 div.sk-item::before, #sk-container-id-13 div.sk-parallel-item::before {content: \"\";position: absolute;border-left: 1px solid gray;box-sizing: border-box;top: 0;bottom: 0;left: 50%;z-index: -1;}#sk-container-id-13 div.sk-parallel-item {display: flex;flex-direction: column;z-index: 1;position: relative;background-color: white;}#sk-container-id-13 div.sk-parallel-item:first-child::after {align-self: flex-end;width: 50%;}#sk-container-id-13 div.sk-parallel-item:last-child::after {align-self: flex-start;width: 50%;}#sk-container-id-13 div.sk-parallel-item:only-child::after {width: 0;}#sk-container-id-13 div.sk-dashed-wrapped {border: 1px dashed gray;margin: 0 0.4em 0.5em 0.4em;box-sizing: border-box;padding-bottom: 0.4em;background-color: white;}#sk-container-id-13 div.sk-label label {font-family: monospace;font-weight: bold;display: inline-block;line-height: 1.2em;}#sk-container-id-13 div.sk-label-container {text-align: center;}#sk-container-id-13 div.sk-container {/* jupyter's `normalize.less` sets `[hidden] { display: none; }` but bootstrap.min.css set `[hidden] { display: none !important; }` so we also need the `!important` here to be able to override the default hidden behavior on the sphinx rendered scikit-learn.org. See: https://github.com/scikit-learn/scikit-learn/issues/21755 */display: inline-block !important;position: relative;}#sk-container-id-13 div.sk-text-repr-fallback {display: none;}</style><div id=\"sk-container-id-13\" class=\"sk-top-container\"><div class=\"sk-text-repr-fallback\"><pre>SVC(C=4.0, gamma=&#x27;auto&#x27;, kernel=&#x27;poly&#x27;, random_state=1)</pre><b>In a Jupyter environment, please rerun this cell to show the HTML representation or trust the notebook. <br />On GitHub, the HTML representation is unable to render, please try loading this page with nbviewer.org.</b></div><div class=\"sk-container\" hidden><div class=\"sk-item\"><div class=\"sk-estimator sk-toggleable\"><input class=\"sk-toggleable__control sk-hidden--visually\" id=\"sk-estimator-id-23\" type=\"checkbox\" checked><label for=\"sk-estimator-id-23\" class=\"sk-toggleable__label sk-toggleable__label-arrow\">SVC</label><div class=\"sk-toggleable__content\"><pre>SVC(C=4.0, gamma=&#x27;auto&#x27;, kernel=&#x27;poly&#x27;, random_state=1)</pre></div></div></div></div></div>"
            ]
          },
          "metadata": {},
          "execution_count": 135
        }
      ],
      "source": [
        "svm.fit(X_train, y_train)"
      ]
    },
    {
      "cell_type": "code",
      "execution_count": null,
      "metadata": {
        "execution": {
          "iopub.execute_input": "2022-11-30T22:54:27.549761Z",
          "iopub.status.busy": "2022-11-30T22:54:27.549301Z",
          "iopub.status.idle": "2022-11-30T22:54:27.558082Z",
          "shell.execute_reply": "2022-11-30T22:54:27.556880Z",
          "shell.execute_reply.started": "2022-11-30T22:54:27.549724Z"
        },
        "id": "bEkFlZ1DKmJO"
      },
      "outputs": [],
      "source": [
        "previsoes = svm.predict(X_test)"
      ]
    },
    {
      "cell_type": "code",
      "execution_count": null,
      "metadata": {
        "execution": {
          "iopub.execute_input": "2022-11-30T22:54:28.523809Z",
          "iopub.status.busy": "2022-11-30T22:54:28.523410Z",
          "iopub.status.idle": "2022-11-30T22:54:28.656920Z",
          "shell.execute_reply": "2022-11-30T22:54:28.655622Z",
          "shell.execute_reply.started": "2022-11-30T22:54:28.523775Z"
        },
        "colab": {
          "base_uri": "https://localhost:8080/",
          "height": 506
        },
        "id": "l6yQ_ZhaKmJO",
        "outputId": "0a26f883-071b-46f6-eba9-9399750ce5a0"
      },
      "outputs": [
        {
          "output_type": "execute_result",
          "data": {
            "text/plain": [
              "0.7792207792207793"
            ]
          },
          "metadata": {},
          "execution_count": 137
        },
        {
          "output_type": "display_data",
          "data": {
            "text/plain": [
              "<Figure size 800x550 with 1 Axes>"
            ],
            "image/png": "[encoded data removed]"
          },
          "metadata": {}
        }
      ],
      "source": [
        "cm = ConfusionMatrix(svm)\n",
        "cm.fit(X_train, y_train)\n",
        "cm.score(X_test, y_test)"
      ]
    },
    {
      "cell_type": "code",
      "execution_count": null,
      "metadata": {
        "execution": {
          "iopub.execute_input": "2022-11-30T22:54:43.616506Z",
          "iopub.status.busy": "2022-11-30T22:54:43.615954Z",
          "iopub.status.idle": "2022-11-30T22:54:43.627781Z",
          "shell.execute_reply": "2022-11-30T22:54:43.626780Z",
          "shell.execute_reply.started": "2022-11-30T22:54:43.616460Z"
        },
        "id": "VCFtdbkTKmJP"
      },
      "outputs": [],
      "source": [
        "svm = classification_report(y_test, previsoes)"
      ]
    },
    {
      "cell_type": "code",
      "execution_count": null,
      "metadata": {
        "execution": {
          "iopub.execute_input": "2022-11-30T22:54:49.804256Z",
          "iopub.status.busy": "2022-11-30T22:54:49.803868Z",
          "iopub.status.idle": "2022-11-30T22:54:49.810422Z",
          "shell.execute_reply": "2022-11-30T22:54:49.808996Z",
          "shell.execute_reply.started": "2022-11-30T22:54:49.804223Z"
        },
        "colab": {
          "base_uri": "https://localhost:8080/"
        },
        "id": "Hpu-l3EFKmJP",
        "outputId": "fee0479b-cad2-4c60-abaa-46f1a74d9cf3"
      },
      "outputs": [
        {
          "output_type": "stream",
          "name": "stdout",
          "text": [
            "              precision    recall  f1-score   support\n",
            "\n",
            "           0       0.81      0.71      0.76       111\n",
            "           1       0.76      0.84      0.80       120\n",
            "\n",
            "    accuracy                           0.78       231\n",
            "   macro avg       0.78      0.78      0.78       231\n",
            "weighted avg       0.78      0.78      0.78       231\n",
            "\n"
          ]
        }
      ],
      "source": [
        "print(svm)"
      ]
    },
    {
      "cell_type": "code",
      "execution_count": null,
      "metadata": {
        "execution": {
          "iopub.execute_input": "2022-11-30T22:55:09.929673Z",
          "iopub.status.busy": "2022-11-30T22:55:09.929236Z",
          "iopub.status.idle": "2022-11-30T22:55:09.934364Z",
          "shell.execute_reply": "2022-11-30T22:55:09.933531Z",
          "shell.execute_reply.started": "2022-11-30T22:55:09.929636Z"
        },
        "id": "qf-IKXzlKmJQ"
      },
      "outputs": [],
      "source": [
        "score_svm = 0.7792207792207793"
      ]
    },
    {
      "cell_type": "code",
      "execution_count": null,
      "metadata": {
        "execution": {
          "iopub.execute_input": "2022-11-30T22:55:59.887656Z",
          "iopub.status.busy": "2022-11-30T22:55:59.886431Z",
          "iopub.status.idle": "2022-11-30T22:55:59.892789Z",
          "shell.execute_reply": "2022-11-30T22:55:59.891618Z",
          "shell.execute_reply.started": "2022-11-30T22:55:59.887606Z"
        },
        "id": "Q2u7ONYDKmJQ"
      },
      "outputs": [],
      "source": [
        "from sklearn.ensemble import AdaBoostClassifier"
      ]
    },
    {
      "cell_type": "code",
      "execution_count": null,
      "metadata": {
        "execution": {
          "iopub.execute_input": "2022-11-30T22:56:42.429340Z",
          "iopub.status.busy": "2022-11-30T22:56:42.428194Z",
          "iopub.status.idle": "2022-11-30T22:56:42.434855Z",
          "shell.execute_reply": "2022-11-30T22:56:42.433982Z",
          "shell.execute_reply.started": "2022-11-30T22:56:42.429283Z"
        },
        "id": "45RxuLjwKmJR"
      },
      "outputs": [],
      "source": [
        "n_estimators = np.array([500])\n",
        "learning_rate = np.array([1.0, 1.1, 1.5, 1.7, 0.5, 0.4])\n",
        "values_grid = {'n_estimators': n_estimators, 'learning_rate': learning_rate}"
      ]
    },
    {
      "cell_type": "code",
      "execution_count": null,
      "metadata": {
        "execution": {
          "iopub.execute_input": "2022-11-30T22:56:43.245833Z",
          "iopub.status.busy": "2022-11-30T22:56:43.245142Z",
          "iopub.status.idle": "2022-11-30T22:56:43.250745Z",
          "shell.execute_reply": "2022-11-30T22:56:43.249739Z",
          "shell.execute_reply.started": "2022-11-30T22:56:43.245784Z"
        },
        "id": "_x6hjc2qKmJR"
      },
      "outputs": [],
      "source": [
        "model = AdaBoostClassifier()"
      ]
    },
    {
      "cell_type": "code",
      "execution_count": null,
      "metadata": {
        "execution": {
          "iopub.execute_input": "2022-11-30T22:56:43.601468Z",
          "iopub.status.busy": "2022-11-30T22:56:43.601032Z",
          "iopub.status.idle": "2022-11-30T22:56:43.607204Z",
          "shell.execute_reply": "2022-11-30T22:56:43.605943Z",
          "shell.execute_reply.started": "2022-11-30T22:56:43.601429Z"
        },
        "id": "VVVGX3DSKmJS"
      },
      "outputs": [],
      "source": [
        "gridAdaBoost = GridSearchCV(estimator = model, param_grid = values_grid, cv = 3, n_jobs = -1)"
      ]
    },
    {
      "cell_type": "code",
      "execution_count": null,
      "metadata": {
        "execution": {
          "iopub.execute_input": "2022-11-30T22:56:43.990827Z",
          "iopub.status.busy": "2022-11-30T22:56:43.989768Z",
          "iopub.status.idle": "2022-11-30T22:56:50.896304Z",
          "shell.execute_reply": "2022-11-30T22:56:50.895117Z",
          "shell.execute_reply.started": "2022-11-30T22:56:43.990788Z"
        },
        "colab": {
          "base_uri": "https://localhost:8080/",
          "height": 117
        },
        "id": "t00uniL9KmJS",
        "outputId": "a5610dfc-0a9c-4826-cb72-9e2c7c51fafb"
      },
      "outputs": [
        {
          "output_type": "execute_result",
          "data": {
            "text/plain": [
              "GridSearchCV(cv=3, estimator=AdaBoostClassifier(), n_jobs=-1,\n",
              "             param_grid={'learning_rate': array([1. , 1.1, 1.5, 1.7, 0.5, 0.4]),\n",
              "                         'n_estimators': array([500])})"
            ],
            "text/html": [
              "<style>#sk-container-id-14 {color: black;background-color: white;}#sk-container-id-14 pre{padding: 0;}#sk-container-id-14 div.sk-toggleable {background-color: white;}#sk-container-id-14 label.sk-toggleable__label {cursor: pointer;display: block;width: 100%;margin-bottom: 0;padding: 0.3em;box-sizing: border-box;text-align: center;}#sk-container-id-14 label.sk-toggleable__label-arrow:before {content: \"▸\";float: left;margin-right: 0.25em;color: #696969;}#sk-container-id-14 label.sk-toggleable__label-arrow:hover:before {color: black;}#sk-container-id-14 div.sk-estimator:hover label.sk-toggleable__label-arrow:before {color: black;}#sk-container-id-14 div.sk-toggleable__content {max-height: 0;max-width: 0;overflow: hidden;text-align: left;background-color: #f0f8ff;}#sk-container-id-14 div.sk-toggleable__content pre {margin: 0.2em;color: black;border-radius: 0.25em;background-color: #f0f8ff;}#sk-container-id-14 input.sk-toggleable__control:checked~div.sk-toggleable__content {max-height: 200px;max-width: 100%;overflow: auto;}#sk-container-id-14 input.sk-toggleable__control:checked~label.sk-toggleable__label-arrow:before {content: \"▾\";}#sk-container-id-14 div.sk-estimator input.sk-toggleable__control:checked~label.sk-toggleable__label {background-color: #d4ebff;}#sk-container-id-14 div.sk-label input.sk-toggleable__control:checked~label.sk-toggleable__label {background-color: #d4ebff;}#sk-container-id-14 input.sk-hidden--visually {border: 0;clip: rect(1px 1px 1px 1px);clip: rect(1px, 1px, 1px, 1px);height: 1px;margin: -1px;overflow: hidden;padding: 0;position: absolute;width: 1px;}#sk-container-id-14 div.sk-estimator {font-family: monospace;background-color: #f0f8ff;border: 1px dotted black;border-radius: 0.25em;box-sizing: border-box;margin-bottom: 0.5em;}#sk-container-id-14 div.sk-estimator:hover {background-color: #d4ebff;}#sk-container-id-14 div.sk-parallel-item::after {content: \"\";width: 100%;border-bottom: 1px solid gray;flex-grow: 1;}#sk-container-id-14 div.sk-label:hover label.sk-toggleable__label {background-color: #d4ebff;}#sk-container-id-14 div.sk-serial::before {content: \"\";position: absolute;border-left: 1px solid gray;box-sizing: border-box;top: 0;bottom: 0;left: 50%;z-index: 0;}#sk-container-id-14 div.sk-serial {display: flex;flex-direction: column;align-items: center;background-color: white;padding-right: 0.2em;padding-left: 0.2em;position: relative;}#sk-container-id-14 div.sk-item {position: relative;z-index: 1;}#sk-container-id-14 div.sk-parallel {display: flex;align-items: stretch;justify-content: center;background-color: white;position: relative;}#sk-container-id-14 div.sk-item::before, #sk-container-id-14 div.sk-parallel-item::before {content: \"\";position: absolute;border-left: 1px solid gray;box-sizing: border-box;top: 0;bottom: 0;left: 50%;z-index: -1;}#sk-container-id-14 div.sk-parallel-item {display: flex;flex-direction: column;z-index: 1;position: relative;background-color: white;}#sk-container-id-14 div.sk-parallel-item:first-child::after {align-self: flex-end;width: 50%;}#sk-container-id-14 div.sk-parallel-item:last-child::after {align-self: flex-start;width: 50%;}#sk-container-id-14 div.sk-parallel-item:only-child::after {width: 0;}#sk-container-id-14 div.sk-dashed-wrapped {border: 1px dashed gray;margin: 0 0.4em 0.5em 0.4em;box-sizing: border-box;padding-bottom: 0.4em;background-color: white;}#sk-container-id-14 div.sk-label label {font-family: monospace;font-weight: bold;display: inline-block;line-height: 1.2em;}#sk-container-id-14 div.sk-label-container {text-align: center;}#sk-container-id-14 div.sk-container {/* jupyter's `normalize.less` sets `[hidden] { display: none; }` but bootstrap.min.css set `[hidden] { display: none !important; }` so we also need the `!important` here to be able to override the default hidden behavior on the sphinx rendered scikit-learn.org. See: https://github.com/scikit-learn/scikit-learn/issues/21755 */display: inline-block !important;position: relative;}#sk-container-id-14 div.sk-text-repr-fallback {display: none;}</style><div id=\"sk-container-id-14\" class=\"sk-top-container\"><div class=\"sk-text-repr-fallback\"><pre>GridSearchCV(cv=3, estimator=AdaBoostClassifier(), n_jobs=-1,\n",
              "             param_grid={&#x27;learning_rate&#x27;: array([1. , 1.1, 1.5, 1.7, 0.5, 0.4]),\n",
              "                         &#x27;n_estimators&#x27;: array([500])})</pre><b>In a Jupyter environment, please rerun this cell to show the HTML representation or trust the notebook. <br />On GitHub, the HTML representation is unable to render, please try loading this page with nbviewer.org.</b></div><div class=\"sk-container\" hidden><div class=\"sk-item sk-dashed-wrapped\"><div class=\"sk-label-container\"><div class=\"sk-label sk-toggleable\"><input class=\"sk-toggleable__control sk-hidden--visually\" id=\"sk-estimator-id-24\" type=\"checkbox\" ><label for=\"sk-estimator-id-24\" class=\"sk-toggleable__label sk-toggleable__label-arrow\">GridSearchCV</label><div class=\"sk-toggleable__content\"><pre>GridSearchCV(cv=3, estimator=AdaBoostClassifier(), n_jobs=-1,\n",
              "             param_grid={&#x27;learning_rate&#x27;: array([1. , 1.1, 1.5, 1.7, 0.5, 0.4]),\n",
              "                         &#x27;n_estimators&#x27;: array([500])})</pre></div></div></div><div class=\"sk-parallel\"><div class=\"sk-parallel-item\"><div class=\"sk-item\"><div class=\"sk-label-container\"><div class=\"sk-label sk-toggleable\"><input class=\"sk-toggleable__control sk-hidden--visually\" id=\"sk-estimator-id-25\" type=\"checkbox\" ><label for=\"sk-estimator-id-25\" class=\"sk-toggleable__label sk-toggleable__label-arrow\">estimator: AdaBoostClassifier</label><div class=\"sk-toggleable__content\"><pre>AdaBoostClassifier()</pre></div></div></div><div class=\"sk-serial\"><div class=\"sk-item\"><div class=\"sk-estimator sk-toggleable\"><input class=\"sk-toggleable__control sk-hidden--visually\" id=\"sk-estimator-id-26\" type=\"checkbox\" ><label for=\"sk-estimator-id-26\" class=\"sk-toggleable__label sk-toggleable__label-arrow\">AdaBoostClassifier</label><div class=\"sk-toggleable__content\"><pre>AdaBoostClassifier()</pre></div></div></div></div></div></div></div></div></div></div>"
            ]
          },
          "metadata": {},
          "execution_count": 145
        }
      ],
      "source": [
        "gridAdaBoost.fit(X_train, y_train)"
      ]
    },
    {
      "cell_type": "code",
      "execution_count": null,
      "metadata": {
        "execution": {
          "iopub.execute_input": "2022-11-30T22:56:50.899030Z",
          "iopub.status.busy": "2022-11-30T22:56:50.898448Z",
          "iopub.status.idle": "2022-11-30T22:56:50.904292Z",
          "shell.execute_reply": "2022-11-30T22:56:50.903490Z",
          "shell.execute_reply.started": "2022-11-30T22:56:50.898983Z"
        },
        "colab": {
          "base_uri": "https://localhost:8080/"
        },
        "id": "nQDY0A_8KmJT",
        "outputId": "55ab1b98-58d4-4413-ecef-97dd4df21212"
      },
      "outputs": [
        {
          "output_type": "stream",
          "name": "stdout",
          "text": [
            "Learning Rate:  1.0\n",
            "Score:  0.7829505483136768\n"
          ]
        }
      ],
      "source": [
        "print('Learning Rate: ', gridAdaBoost.best_estimator_.learning_rate)\n",
        "print('Score: ', gridAdaBoost.best_score_)"
      ]
    },
    {
      "cell_type": "code",
      "execution_count": null,
      "metadata": {
        "execution": {
          "iopub.execute_input": "2022-11-30T22:57:22.311955Z",
          "iopub.status.busy": "2022-11-30T22:57:22.311550Z",
          "iopub.status.idle": "2022-11-30T22:57:22.317538Z",
          "shell.execute_reply": "2022-11-30T22:57:22.316478Z",
          "shell.execute_reply.started": "2022-11-30T22:57:22.311922Z"
        },
        "id": "6FjWaG3aKmJT"
      },
      "outputs": [],
      "source": [
        "ada_boost = AdaBoostClassifier(n_estimators = 500, learning_rate = 1.0, random_state = 0)"
      ]
    },
    {
      "cell_type": "code",
      "execution_count": null,
      "metadata": {
        "execution": {
          "iopub.execute_input": "2022-11-30T22:57:29.187790Z",
          "iopub.status.busy": "2022-11-30T22:57:29.186963Z",
          "iopub.status.idle": "2022-11-30T22:57:30.072867Z",
          "shell.execute_reply": "2022-11-30T22:57:30.071662Z",
          "shell.execute_reply.started": "2022-11-30T22:57:29.187748Z"
        },
        "colab": {
          "base_uri": "https://localhost:8080/",
          "height": 74
        },
        "id": "S1oVy_0uKmJU",
        "outputId": "f72b7984-14cb-448e-bff9-97b98b98243f"
      },
      "outputs": [
        {
          "output_type": "execute_result",
          "data": {
            "text/plain": [
              "AdaBoostClassifier(n_estimators=500, random_state=0)"
            ],
            "text/html": [
              "<style>#sk-container-id-15 {color: black;background-color: white;}#sk-container-id-15 pre{padding: 0;}#sk-container-id-15 div.sk-toggleable {background-color: white;}#sk-container-id-15 label.sk-toggleable__label {cursor: pointer;display: block;width: 100%;margin-bottom: 0;padding: 0.3em;box-sizing: border-box;text-align: center;}#sk-container-id-15 label.sk-toggleable__label-arrow:before {content: \"▸\";float: left;margin-right: 0.25em;color: #696969;}#sk-container-id-15 label.sk-toggleable__label-arrow:hover:before {color: black;}#sk-container-id-15 div.sk-estimator:hover label.sk-toggleable__label-arrow:before {color: black;}#sk-container-id-15 div.sk-toggleable__content {max-height: 0;max-width: 0;overflow: hidden;text-align: left;background-color: #f0f8ff;}#sk-container-id-15 div.sk-toggleable__content pre {margin: 0.2em;color: black;border-radius: 0.25em;background-color: #f0f8ff;}#sk-container-id-15 input.sk-toggleable__control:checked~div.sk-toggleable__content {max-height: 200px;max-width: 100%;overflow: auto;}#sk-container-id-15 input.sk-toggleable__control:checked~label.sk-toggleable__label-arrow:before {content: \"▾\";}#sk-container-id-15 div.sk-estimator input.sk-toggleable__control:checked~label.sk-toggleable__label {background-color: #d4ebff;}#sk-container-id-15 div.sk-label input.sk-toggleable__control:checked~label.sk-toggleable__label {background-color: #d4ebff;}#sk-container-id-15 input.sk-hidden--visually {border: 0;clip: rect(1px 1px 1px 1px);clip: rect(1px, 1px, 1px, 1px);height: 1px;margin: -1px;overflow: hidden;padding: 0;position: absolute;width: 1px;}#sk-container-id-15 div.sk-estimator {font-family: monospace;background-color: #f0f8ff;border: 1px dotted black;border-radius: 0.25em;box-sizing: border-box;margin-bottom: 0.5em;}#sk-container-id-15 div.sk-estimator:hover {background-color: #d4ebff;}#sk-container-id-15 div.sk-parallel-item::after {content: \"\";width: 100%;border-bottom: 1px solid gray;flex-grow: 1;}#sk-container-id-15 div.sk-label:hover label.sk-toggleable__label {background-color: #d4ebff;}#sk-container-id-15 div.sk-serial::before {content: \"\";position: absolute;border-left: 1px solid gray;box-sizing: border-box;top: 0;bottom: 0;left: 50%;z-index: 0;}#sk-container-id-15 div.sk-serial {display: flex;flex-direction: column;align-items: center;background-color: white;padding-right: 0.2em;padding-left: 0.2em;position: relative;}#sk-container-id-15 div.sk-item {position: relative;z-index: 1;}#sk-container-id-15 div.sk-parallel {display: flex;align-items: stretch;justify-content: center;background-color: white;position: relative;}#sk-container-id-15 div.sk-item::before, #sk-container-id-15 div.sk-parallel-item::before {content: \"\";position: absolute;border-left: 1px solid gray;box-sizing: border-box;top: 0;bottom: 0;left: 50%;z-index: -1;}#sk-container-id-15 div.sk-parallel-item {display: flex;flex-direction: column;z-index: 1;position: relative;background-color: white;}#sk-container-id-15 div.sk-parallel-item:first-child::after {align-self: flex-end;width: 50%;}#sk-container-id-15 div.sk-parallel-item:last-child::after {align-self: flex-start;width: 50%;}#sk-container-id-15 div.sk-parallel-item:only-child::after {width: 0;}#sk-container-id-15 div.sk-dashed-wrapped {border: 1px dashed gray;margin: 0 0.4em 0.5em 0.4em;box-sizing: border-box;padding-bottom: 0.4em;background-color: white;}#sk-container-id-15 div.sk-label label {font-family: monospace;font-weight: bold;display: inline-block;line-height: 1.2em;}#sk-container-id-15 div.sk-label-container {text-align: center;}#sk-container-id-15 div.sk-container {/* jupyter's `normalize.less` sets `[hidden] { display: none; }` but bootstrap.min.css set `[hidden] { display: none !important; }` so we also need the `!important` here to be able to override the default hidden behavior on the sphinx rendered scikit-learn.org. See: https://github.com/scikit-learn/scikit-learn/issues/21755 */display: inline-block !important;position: relative;}#sk-container-id-15 div.sk-text-repr-fallback {display: none;}</style><div id=\"sk-container-id-15\" class=\"sk-top-container\"><div class=\"sk-text-repr-fallback\"><pre>AdaBoostClassifier(n_estimators=500, random_state=0)</pre><b>In a Jupyter environment, please rerun this cell to show the HTML representation or trust the notebook. <br />On GitHub, the HTML representation is unable to render, please try loading this page with nbviewer.org.</b></div><div class=\"sk-container\" hidden><div class=\"sk-item\"><div class=\"sk-estimator sk-toggleable\"><input class=\"sk-toggleable__control sk-hidden--visually\" id=\"sk-estimator-id-27\" type=\"checkbox\" checked><label for=\"sk-estimator-id-27\" class=\"sk-toggleable__label sk-toggleable__label-arrow\">AdaBoostClassifier</label><div class=\"sk-toggleable__content\"><pre>AdaBoostClassifier(n_estimators=500, random_state=0)</pre></div></div></div></div></div>"
            ]
          },
          "metadata": {},
          "execution_count": 148
        }
      ],
      "source": [
        "ada_boost.fit(X_train, y_train)"
      ]
    },
    {
      "cell_type": "code",
      "execution_count": null,
      "metadata": {
        "execution": {
          "iopub.execute_input": "2022-11-30T22:57:40.864072Z",
          "iopub.status.busy": "2022-11-30T22:57:40.863668Z",
          "iopub.status.idle": "2022-11-30T22:57:40.952440Z",
          "shell.execute_reply": "2022-11-30T22:57:40.951518Z",
          "shell.execute_reply.started": "2022-11-30T22:57:40.864036Z"
        },
        "id": "VXUSFdUBKmJU"
      },
      "outputs": [],
      "source": [
        "previsoes = ada_boost.predict(X_test)"
      ]
    },
    {
      "cell_type": "code",
      "execution_count": null,
      "metadata": {
        "execution": {
          "iopub.execute_input": "2022-11-30T22:57:55.586402Z",
          "iopub.status.busy": "2022-11-30T22:57:55.585989Z",
          "iopub.status.idle": "2022-11-30T22:57:55.884285Z",
          "shell.execute_reply": "2022-11-30T22:57:55.883134Z",
          "shell.execute_reply.started": "2022-11-30T22:57:55.586368Z"
        },
        "colab": {
          "base_uri": "https://localhost:8080/",
          "height": 506
        },
        "id": "BolebdQDKmJU",
        "outputId": "402f7746-14af-4026-a39f-610931ca2404"
      },
      "outputs": [
        {
          "output_type": "execute_result",
          "data": {
            "text/plain": [
              "0.7965367965367965"
            ]
          },
          "metadata": {},
          "execution_count": 150
        },
        {
          "output_type": "display_data",
          "data": {
            "text/plain": [
              "<Figure size 800x550 with 1 Axes>"
            ],
            "image/png": "[encoded data removed]"
          },
          "metadata": {}
        }
      ],
      "source": [
        "cm = ConfusionMatrix(ada_boost)\n",
        "cm.fit(X_train, y_train)\n",
        "cm.score(X_test, y_test)"
      ]
    },
    {
      "cell_type": "code",
      "execution_count": null,
      "metadata": {
        "execution": {
          "iopub.execute_input": "2022-11-30T22:58:06.907880Z",
          "iopub.status.busy": "2022-11-30T22:58:06.906948Z",
          "iopub.status.idle": "2022-11-30T22:58:06.920057Z",
          "shell.execute_reply": "2022-11-30T22:58:06.919178Z",
          "shell.execute_reply.started": "2022-11-30T22:58:06.907835Z"
        },
        "id": "55scAfRbKmJV"
      },
      "outputs": [],
      "source": [
        "classification_ada_scaler = (classification_report(y_test, previsoes))"
      ]
    },
    {
      "cell_type": "code",
      "execution_count": null,
      "metadata": {
        "execution": {
          "iopub.execute_input": "2022-11-30T22:58:13.566068Z",
          "iopub.status.busy": "2022-11-30T22:58:13.565654Z",
          "iopub.status.idle": "2022-11-30T22:58:13.571431Z",
          "shell.execute_reply": "2022-11-30T22:58:13.570519Z",
          "shell.execute_reply.started": "2022-11-30T22:58:13.566023Z"
        },
        "colab": {
          "base_uri": "https://localhost:8080/"
        },
        "id": "epDFy9JUKmJV",
        "outputId": "4136ebf2-8dc9-4722-db30-084179b21618"
      },
      "outputs": [
        {
          "output_type": "stream",
          "name": "stdout",
          "text": [
            "              precision    recall  f1-score   support\n",
            "\n",
            "           0       0.77      0.83      0.80       111\n",
            "           1       0.83      0.77      0.80       120\n",
            "\n",
            "    accuracy                           0.80       231\n",
            "   macro avg       0.80      0.80      0.80       231\n",
            "weighted avg       0.80      0.80      0.80       231\n",
            "\n"
          ]
        }
      ],
      "source": [
        "print(classification_ada_scaler)"
      ]
    },
    {
      "cell_type": "code",
      "execution_count": null,
      "metadata": {
        "execution": {
          "iopub.execute_input": "2022-11-30T22:58:32.155649Z",
          "iopub.status.busy": "2022-11-30T22:58:32.155236Z",
          "iopub.status.idle": "2022-11-30T22:58:32.160524Z",
          "shell.execute_reply": "2022-11-30T22:58:32.159378Z",
          "shell.execute_reply.started": "2022-11-30T22:58:32.155615Z"
        },
        "id": "z9oy1wVtKmJW"
      },
      "outputs": [],
      "source": [
        "score_ada_scaler = 0.7965367965367965"
      ]
    },
    {
      "cell_type": "code",
      "execution_count": null,
      "metadata": {
        "execution": {
          "iopub.execute_input": "2022-11-30T22:58:54.088959Z",
          "iopub.status.busy": "2022-11-30T22:58:54.088549Z",
          "iopub.status.idle": "2022-11-30T22:58:54.094044Z",
          "shell.execute_reply": "2022-11-30T22:58:54.092893Z",
          "shell.execute_reply.started": "2022-11-30T22:58:54.088925Z"
        },
        "id": "fn2a7x1sKmJX"
      },
      "outputs": [],
      "source": [
        "from sklearn.ensemble import GradientBoostingClassifier"
      ]
    },
    {
      "cell_type": "code",
      "execution_count": null,
      "metadata": {
        "execution": {
          "iopub.execute_input": "2022-11-30T22:58:56.004754Z",
          "iopub.status.busy": "2022-11-30T22:58:56.004338Z",
          "iopub.status.idle": "2022-11-30T22:58:56.010434Z",
          "shell.execute_reply": "2022-11-30T22:58:56.009180Z",
          "shell.execute_reply.started": "2022-11-30T22:58:56.004716Z"
        },
        "id": "ntZVTdd_KmJY"
      },
      "outputs": [],
      "source": [
        "n_estimators = np.array([300])\n",
        "learning_rate = np.array([0.01, 0.009, 0.008, 0.007, 0.011, 0.012, 0.013, 0.02, 0.005])\n",
        "values_grid = {'n_estimators': n_estimators, 'learning_rate': learning_rate}"
      ]
    },
    {
      "cell_type": "code",
      "execution_count": null,
      "metadata": {
        "execution": {
          "iopub.execute_input": "2022-11-30T22:58:56.655889Z",
          "iopub.status.busy": "2022-11-30T22:58:56.654962Z",
          "iopub.status.idle": "2022-11-30T22:58:56.661285Z",
          "shell.execute_reply": "2022-11-30T22:58:56.660117Z",
          "shell.execute_reply.started": "2022-11-30T22:58:56.655848Z"
        },
        "id": "xlcvSf03KmJZ"
      },
      "outputs": [],
      "source": [
        "model = GradientBoostingClassifier()"
      ]
    },
    {
      "cell_type": "code",
      "execution_count": null,
      "metadata": {
        "execution": {
          "iopub.execute_input": "2022-11-30T22:58:57.068334Z",
          "iopub.status.busy": "2022-11-30T22:58:57.067942Z",
          "iopub.status.idle": "2022-11-30T22:58:57.073319Z",
          "shell.execute_reply": "2022-11-30T22:58:57.072429Z",
          "shell.execute_reply.started": "2022-11-30T22:58:57.068304Z"
        },
        "id": "_WyatpHGKmJZ"
      },
      "outputs": [],
      "source": [
        "gridGradient = GridSearchCV(estimator = model, param_grid = values_grid, cv = 3, n_jobs = -1)"
      ]
    },
    {
      "cell_type": "code",
      "execution_count": null,
      "metadata": {
        "execution": {
          "iopub.execute_input": "2022-11-30T22:58:57.743571Z",
          "iopub.status.busy": "2022-11-30T22:58:57.743163Z",
          "iopub.status.idle": "2022-11-30T22:59:01.176241Z",
          "shell.execute_reply": "2022-11-30T22:59:01.175045Z",
          "shell.execute_reply.started": "2022-11-30T22:58:57.743537Z"
        },
        "colab": {
          "base_uri": "https://localhost:8080/",
          "height": 117
        },
        "id": "Ca37yENnKmJa",
        "outputId": "323721dc-f3e7-49a4-8a2f-d0016ead0402"
      },
      "outputs": [
        {
          "output_type": "execute_result",
          "data": {
            "text/plain": [
              "GridSearchCV(cv=3, estimator=GradientBoostingClassifier(), n_jobs=-1,\n",
              "             param_grid={'learning_rate': array([0.01 , 0.009, 0.008, 0.007, 0.011, 0.012, 0.013, 0.02 , 0.005]),\n",
              "                         'n_estimators': array([300])})"
            ],
            "text/html": [
              "<style>#sk-container-id-16 {color: black;background-color: white;}#sk-container-id-16 pre{padding: 0;}#sk-container-id-16 div.sk-toggleable {background-color: white;}#sk-container-id-16 label.sk-toggleable__label {cursor: pointer;display: block;width: 100%;margin-bottom: 0;padding: 0.3em;box-sizing: border-box;text-align: center;}#sk-container-id-16 label.sk-toggleable__label-arrow:before {content: \"▸\";float: left;margin-right: 0.25em;color: #696969;}#sk-container-id-16 label.sk-toggleable__label-arrow:hover:before {color: black;}#sk-container-id-16 div.sk-estimator:hover label.sk-toggleable__label-arrow:before {color: black;}#sk-container-id-16 div.sk-toggleable__content {max-height: 0;max-width: 0;overflow: hidden;text-align: left;background-color: #f0f8ff;}#sk-container-id-16 div.sk-toggleable__content pre {margin: 0.2em;color: black;border-radius: 0.25em;background-color: #f0f8ff;}#sk-container-id-16 input.sk-toggleable__control:checked~div.sk-toggleable__content {max-height: 200px;max-width: 100%;overflow: auto;}#sk-container-id-16 input.sk-toggleable__control:checked~label.sk-toggleable__label-arrow:before {content: \"▾\";}#sk-container-id-16 div.sk-estimator input.sk-toggleable__control:checked~label.sk-toggleable__label {background-color: #d4ebff;}#sk-container-id-16 div.sk-label input.sk-toggleable__control:checked~label.sk-toggleable__label {background-color: #d4ebff;}#sk-container-id-16 input.sk-hidden--visually {border: 0;clip: rect(1px 1px 1px 1px);clip: rect(1px, 1px, 1px, 1px);height: 1px;margin: -1px;overflow: hidden;padding: 0;position: absolute;width: 1px;}#sk-container-id-16 div.sk-estimator {font-family: monospace;background-color: #f0f8ff;border: 1px dotted black;border-radius: 0.25em;box-sizing: border-box;margin-bottom: 0.5em;}#sk-container-id-16 div.sk-estimator:hover {background-color: #d4ebff;}#sk-container-id-16 div.sk-parallel-item::after {content: \"\";width: 100%;border-bottom: 1px solid gray;flex-grow: 1;}#sk-container-id-16 div.sk-label:hover label.sk-toggleable__label {background-color: #d4ebff;}#sk-container-id-16 div.sk-serial::before {content: \"\";position: absolute;border-left: 1px solid gray;box-sizing: border-box;top: 0;bottom: 0;left: 50%;z-index: 0;}#sk-container-id-16 div.sk-serial {display: flex;flex-direction: column;align-items: center;background-color: white;padding-right: 0.2em;padding-left: 0.2em;position: relative;}#sk-container-id-16 div.sk-item {position: relative;z-index: 1;}#sk-container-id-16 div.sk-parallel {display: flex;align-items: stretch;justify-content: center;background-color: white;position: relative;}#sk-container-id-16 div.sk-item::before, #sk-container-id-16 div.sk-parallel-item::before {content: \"\";position: absolute;border-left: 1px solid gray;box-sizing: border-box;top: 0;bottom: 0;left: 50%;z-index: -1;}#sk-container-id-16 div.sk-parallel-item {display: flex;flex-direction: column;z-index: 1;position: relative;background-color: white;}#sk-container-id-16 div.sk-parallel-item:first-child::after {align-self: flex-end;width: 50%;}#sk-container-id-16 div.sk-parallel-item:last-child::after {align-self: flex-start;width: 50%;}#sk-container-id-16 div.sk-parallel-item:only-child::after {width: 0;}#sk-container-id-16 div.sk-dashed-wrapped {border: 1px dashed gray;margin: 0 0.4em 0.5em 0.4em;box-sizing: border-box;padding-bottom: 0.4em;background-color: white;}#sk-container-id-16 div.sk-label label {font-family: monospace;font-weight: bold;display: inline-block;line-height: 1.2em;}#sk-container-id-16 div.sk-label-container {text-align: center;}#sk-container-id-16 div.sk-container {/* jupyter's `normalize.less` sets `[hidden] { display: none; }` but bootstrap.min.css set `[hidden] { display: none !important; }` so we also need the `!important` here to be able to override the default hidden behavior on the sphinx rendered scikit-learn.org. See: https://github.com/scikit-learn/scikit-learn/issues/21755 */display: inline-block !important;position: relative;}#sk-container-id-16 div.sk-text-repr-fallback {display: none;}</style><div id=\"sk-container-id-16\" class=\"sk-top-container\"><div class=\"sk-text-repr-fallback\"><pre>GridSearchCV(cv=3, estimator=GradientBoostingClassifier(), n_jobs=-1,\n",
              "             param_grid={&#x27;learning_rate&#x27;: array([0.01 , 0.009, 0.008, 0.007, 0.011, 0.012, 0.013, 0.02 , 0.005]),\n",
              "                         &#x27;n_estimators&#x27;: array([300])})</pre><b>In a Jupyter environment, please rerun this cell to show the HTML representation or trust the notebook. <br />On GitHub, the HTML representation is unable to render, please try loading this page with nbviewer.org.</b></div><div class=\"sk-container\" hidden><div class=\"sk-item sk-dashed-wrapped\"><div class=\"sk-label-container\"><div class=\"sk-label sk-toggleable\"><input class=\"sk-toggleable__control sk-hidden--visually\" id=\"sk-estimator-id-28\" type=\"checkbox\" ><label for=\"sk-estimator-id-28\" class=\"sk-toggleable__label sk-toggleable__label-arrow\">GridSearchCV</label><div class=\"sk-toggleable__content\"><pre>GridSearchCV(cv=3, estimator=GradientBoostingClassifier(), n_jobs=-1,\n",
              "             param_grid={&#x27;learning_rate&#x27;: array([0.01 , 0.009, 0.008, 0.007, 0.011, 0.012, 0.013, 0.02 , 0.005]),\n",
              "                         &#x27;n_estimators&#x27;: array([300])})</pre></div></div></div><div class=\"sk-parallel\"><div class=\"sk-parallel-item\"><div class=\"sk-item\"><div class=\"sk-label-container\"><div class=\"sk-label sk-toggleable\"><input class=\"sk-toggleable__control sk-hidden--visually\" id=\"sk-estimator-id-29\" type=\"checkbox\" ><label for=\"sk-estimator-id-29\" class=\"sk-toggleable__label sk-toggleable__label-arrow\">estimator: GradientBoostingClassifier</label><div class=\"sk-toggleable__content\"><pre>GradientBoostingClassifier()</pre></div></div></div><div class=\"sk-serial\"><div class=\"sk-item\"><div class=\"sk-estimator sk-toggleable\"><input class=\"sk-toggleable__control sk-hidden--visually\" id=\"sk-estimator-id-30\" type=\"checkbox\" ><label for=\"sk-estimator-id-30\" class=\"sk-toggleable__label sk-toggleable__label-arrow\">GradientBoostingClassifier</label><div class=\"sk-toggleable__content\"><pre>GradientBoostingClassifier()</pre></div></div></div></div></div></div></div></div></div></div>"
            ]
          },
          "metadata": {},
          "execution_count": 158
        }
      ],
      "source": [
        "gridGradient.fit(X_train, y_train)"
      ]
    },
    {
      "cell_type": "code",
      "execution_count": null,
      "metadata": {
        "execution": {
          "iopub.execute_input": "2022-11-30T22:59:02.318300Z",
          "iopub.status.busy": "2022-11-30T22:59:02.317615Z",
          "iopub.status.idle": "2022-11-30T22:59:02.324684Z",
          "shell.execute_reply": "2022-11-30T22:59:02.323498Z",
          "shell.execute_reply.started": "2022-11-30T22:59:02.318261Z"
        },
        "colab": {
          "base_uri": "https://localhost:8080/"
        },
        "id": "Ww-hHdo4KmJa",
        "outputId": "2c0e38ba-0dbc-47ed-91ce-755d4f9e0b88"
      },
      "outputs": [
        {
          "output_type": "stream",
          "name": "stdout",
          "text": [
            "Learning Rate:  0.02\n",
            "Score:  0.7754914132009104\n"
          ]
        }
      ],
      "source": [
        "print('Learning Rate: ', gridGradient.best_estimator_.learning_rate)\n",
        "print('Score: ', gridGradient.best_score_)"
      ]
    },
    {
      "cell_type": "code",
      "execution_count": null,
      "metadata": {
        "execution": {
          "iopub.execute_input": "2022-11-30T22:59:31.124358Z",
          "iopub.status.busy": "2022-11-30T22:59:31.123952Z",
          "iopub.status.idle": "2022-11-30T22:59:31.130319Z",
          "shell.execute_reply": "2022-11-30T22:59:31.129068Z",
          "shell.execute_reply.started": "2022-11-30T22:59:31.124325Z"
        },
        "id": "coT2jNRPKmJa"
      },
      "outputs": [],
      "source": [
        "grad_boost = GradientBoostingClassifier(n_estimators = 300, learning_rate = 0.02, random_state = 0)"
      ]
    },
    {
      "cell_type": "code",
      "execution_count": null,
      "metadata": {
        "execution": {
          "iopub.execute_input": "2022-11-30T22:59:37.119141Z",
          "iopub.status.busy": "2022-11-30T22:59:37.118727Z",
          "iopub.status.idle": "2022-11-30T22:59:37.435358Z",
          "shell.execute_reply": "2022-11-30T22:59:37.434276Z",
          "shell.execute_reply.started": "2022-11-30T22:59:37.119080Z"
        },
        "colab": {
          "base_uri": "https://localhost:8080/",
          "height": 74
        },
        "id": "FbWThxFkKmJb",
        "outputId": "b458b86e-f55c-48cd-9bcb-025a7fc68872"
      },
      "outputs": [
        {
          "output_type": "execute_result",
          "data": {
            "text/plain": [
              "GradientBoostingClassifier(learning_rate=0.02, n_estimators=300, random_state=0)"
            ],
            "text/html": [
              "<style>#sk-container-id-17 {color: black;background-color: white;}#sk-container-id-17 pre{padding: 0;}#sk-container-id-17 div.sk-toggleable {background-color: white;}#sk-container-id-17 label.sk-toggleable__label {cursor: pointer;display: block;width: 100%;margin-bottom: 0;padding: 0.3em;box-sizing: border-box;text-align: center;}#sk-container-id-17 label.sk-toggleable__label-arrow:before {content: \"▸\";float: left;margin-right: 0.25em;color: #696969;}#sk-container-id-17 label.sk-toggleable__label-arrow:hover:before {color: black;}#sk-container-id-17 div.sk-estimator:hover label.sk-toggleable__label-arrow:before {color: black;}#sk-container-id-17 div.sk-toggleable__content {max-height: 0;max-width: 0;overflow: hidden;text-align: left;background-color: #f0f8ff;}#sk-container-id-17 div.sk-toggleable__content pre {margin: 0.2em;color: black;border-radius: 0.25em;background-color: #f0f8ff;}#sk-container-id-17 input.sk-toggleable__control:checked~div.sk-toggleable__content {max-height: 200px;max-width: 100%;overflow: auto;}#sk-container-id-17 input.sk-toggleable__control:checked~label.sk-toggleable__label-arrow:before {content: \"▾\";}#sk-container-id-17 div.sk-estimator input.sk-toggleable__control:checked~label.sk-toggleable__label {background-color: #d4ebff;}#sk-container-id-17 div.sk-label input.sk-toggleable__control:checked~label.sk-toggleable__label {background-color: #d4ebff;}#sk-container-id-17 input.sk-hidden--visually {border: 0;clip: rect(1px 1px 1px 1px);clip: rect(1px, 1px, 1px, 1px);height: 1px;margin: -1px;overflow: hidden;padding: 0;position: absolute;width: 1px;}#sk-container-id-17 div.sk-estimator {font-family: monospace;background-color: #f0f8ff;border: 1px dotted black;border-radius: 0.25em;box-sizing: border-box;margin-bottom: 0.5em;}#sk-container-id-17 div.sk-estimator:hover {background-color: #d4ebff;}#sk-container-id-17 div.sk-parallel-item::after {content: \"\";width: 100%;border-bottom: 1px solid gray;flex-grow: 1;}#sk-container-id-17 div.sk-label:hover label.sk-toggleable__label {background-color: #d4ebff;}#sk-container-id-17 div.sk-serial::before {content: \"\";position: absolute;border-left: 1px solid gray;box-sizing: border-box;top: 0;bottom: 0;left: 50%;z-index: 0;}#sk-container-id-17 div.sk-serial {display: flex;flex-direction: column;align-items: center;background-color: white;padding-right: 0.2em;padding-left: 0.2em;position: relative;}#sk-container-id-17 div.sk-item {position: relative;z-index: 1;}#sk-container-id-17 div.sk-parallel {display: flex;align-items: stretch;justify-content: center;background-color: white;position: relative;}#sk-container-id-17 div.sk-item::before, #sk-container-id-17 div.sk-parallel-item::before {content: \"\";position: absolute;border-left: 1px solid gray;box-sizing: border-box;top: 0;bottom: 0;left: 50%;z-index: -1;}#sk-container-id-17 div.sk-parallel-item {display: flex;flex-direction: column;z-index: 1;position: relative;background-color: white;}#sk-container-id-17 div.sk-parallel-item:first-child::after {align-self: flex-end;width: 50%;}#sk-container-id-17 div.sk-parallel-item:last-child::after {align-self: flex-start;width: 50%;}#sk-container-id-17 div.sk-parallel-item:only-child::after {width: 0;}#sk-container-id-17 div.sk-dashed-wrapped {border: 1px dashed gray;margin: 0 0.4em 0.5em 0.4em;box-sizing: border-box;padding-bottom: 0.4em;background-color: white;}#sk-container-id-17 div.sk-label label {font-family: monospace;font-weight: bold;display: inline-block;line-height: 1.2em;}#sk-container-id-17 div.sk-label-container {text-align: center;}#sk-container-id-17 div.sk-container {/* jupyter's `normalize.less` sets `[hidden] { display: none; }` but bootstrap.min.css set `[hidden] { display: none !important; }` so we also need the `!important` here to be able to override the default hidden behavior on the sphinx rendered scikit-learn.org. See: https://github.com/scikit-learn/scikit-learn/issues/21755 */display: inline-block !important;position: relative;}#sk-container-id-17 div.sk-text-repr-fallback {display: none;}</style><div id=\"sk-container-id-17\" class=\"sk-top-container\"><div class=\"sk-text-repr-fallback\"><pre>GradientBoostingClassifier(learning_rate=0.02, n_estimators=300, random_state=0)</pre><b>In a Jupyter environment, please rerun this cell to show the HTML representation or trust the notebook. <br />On GitHub, the HTML representation is unable to render, please try loading this page with nbviewer.org.</b></div><div class=\"sk-container\" hidden><div class=\"sk-item\"><div class=\"sk-estimator sk-toggleable\"><input class=\"sk-toggleable__control sk-hidden--visually\" id=\"sk-estimator-id-31\" type=\"checkbox\" checked><label for=\"sk-estimator-id-31\" class=\"sk-toggleable__label sk-toggleable__label-arrow\">GradientBoostingClassifier</label><div class=\"sk-toggleable__content\"><pre>GradientBoostingClassifier(learning_rate=0.02, n_estimators=300, random_state=0)</pre></div></div></div></div></div>"
            ]
          },
          "metadata": {},
          "execution_count": 161
        }
      ],
      "source": [
        "grad_boost.fit(X_train, y_train)"
      ]
    },
    {
      "cell_type": "code",
      "execution_count": null,
      "metadata": {
        "execution": {
          "iopub.execute_input": "2022-11-30T22:59:41.658414Z",
          "iopub.status.busy": "2022-11-30T22:59:41.657972Z",
          "iopub.status.idle": "2022-11-30T22:59:41.667179Z",
          "shell.execute_reply": "2022-11-30T22:59:41.665792Z",
          "shell.execute_reply.started": "2022-11-30T22:59:41.658374Z"
        },
        "id": "uC6X4DXvKmJc"
      },
      "outputs": [],
      "source": [
        "previsoes = grad_boost.predict(X_test)"
      ]
    },
    {
      "cell_type": "code",
      "execution_count": null,
      "metadata": {
        "execution": {
          "iopub.execute_input": "2022-11-30T22:59:56.545916Z",
          "iopub.status.busy": "2022-11-30T22:59:56.544929Z",
          "iopub.status.idle": "2022-11-30T22:59:56.674020Z",
          "shell.execute_reply": "2022-11-30T22:59:56.672772Z",
          "shell.execute_reply.started": "2022-11-30T22:59:56.545870Z"
        },
        "colab": {
          "base_uri": "https://localhost:8080/",
          "height": 506
        },
        "id": "0329f8Q6KmJd",
        "outputId": "2a211071-6669-4f21-c2f3-d73aa23c7497"
      },
      "outputs": [
        {
          "output_type": "execute_result",
          "data": {
            "text/plain": [
              "0.7965367965367965"
            ]
          },
          "metadata": {},
          "execution_count": 163
        },
        {
          "output_type": "display_data",
          "data": {
            "text/plain": [
              "<Figure size 800x550 with 1 Axes>"
            ],
            "image/png": "[encoded data removed]"
          },
          "metadata": {}
        }
      ],
      "source": [
        "cm = ConfusionMatrix(grad_boost)\n",
        "cm.fit(X_train, y_train)\n",
        "cm.score(X_test, y_test)"
      ]
    },
    {
      "cell_type": "code",
      "execution_count": null,
      "metadata": {
        "execution": {
          "iopub.execute_input": "2022-11-30T23:00:05.427866Z",
          "iopub.status.busy": "2022-11-30T23:00:05.427478Z",
          "iopub.status.idle": "2022-11-30T23:00:05.438446Z",
          "shell.execute_reply": "2022-11-30T23:00:05.437154Z",
          "shell.execute_reply.started": "2022-11-30T23:00:05.427834Z"
        },
        "id": "1sIXXe9zKmJd"
      },
      "outputs": [],
      "source": [
        "classification_grad_standard = (classification_report(y_test, previsoes))"
      ]
    },
    {
      "cell_type": "code",
      "execution_count": null,
      "metadata": {
        "execution": {
          "iopub.execute_input": "2022-11-30T23:00:08.536043Z",
          "iopub.status.busy": "2022-11-30T23:00:08.534969Z",
          "iopub.status.idle": "2022-11-30T23:00:08.540996Z",
          "shell.execute_reply": "2022-11-30T23:00:08.540076Z",
          "shell.execute_reply.started": "2022-11-30T23:00:08.536000Z"
        },
        "colab": {
          "base_uri": "https://localhost:8080/"
        },
        "id": "6CDayTcLKmJd",
        "outputId": "a50947ef-4ea9-47d3-dc2f-44f5eec33e7a"
      },
      "outputs": [
        {
          "output_type": "stream",
          "name": "stdout",
          "text": [
            "              precision    recall  f1-score   support\n",
            "\n",
            "           0       0.84      0.71      0.77       111\n",
            "           1       0.77      0.88      0.82       120\n",
            "\n",
            "    accuracy                           0.80       231\n",
            "   macro avg       0.80      0.79      0.79       231\n",
            "weighted avg       0.80      0.80      0.79       231\n",
            "\n"
          ]
        }
      ],
      "source": [
        "print(classification_grad_standard)"
      ]
    },
    {
      "cell_type": "code",
      "execution_count": null,
      "metadata": {
        "execution": {
          "iopub.execute_input": "2022-11-30T23:00:26.476258Z",
          "iopub.status.busy": "2022-11-30T23:00:26.475846Z",
          "iopub.status.idle": "2022-11-30T23:00:26.481622Z",
          "shell.execute_reply": "2022-11-30T23:00:26.480308Z",
          "shell.execute_reply.started": "2022-11-30T23:00:26.476226Z"
        },
        "id": "fGRiU5oxKmJe"
      },
      "outputs": [],
      "source": [
        "score_grad_standard = 0.7965367965367965"
      ]
    },
    {
      "cell_type": "code",
      "execution_count": null,
      "metadata": {
        "execution": {
          "iopub.execute_input": "2022-11-30T23:01:21.305476Z",
          "iopub.status.busy": "2022-11-30T23:01:21.305081Z",
          "iopub.status.idle": "2022-11-30T23:01:21.316152Z",
          "shell.execute_reply": "2022-11-30T23:01:21.315199Z",
          "shell.execute_reply.started": "2022-11-30T23:01:21.305445Z"
        },
        "id": "vTDePVKwKmJe"
      },
      "outputs": [],
      "source": [
        "from sklearn.feature_selection import SelectKBest\n",
        "from sklearn.feature_selection import chi2\n",
        "\n",
        "features = X\n",
        "target = y\n",
        "\n",
        "best_features = SelectKBest(score_func = chi2,k = 'all')\n",
        "fit = best_features.fit(features,target)\n",
        "\n",
        "featureScores = pd.DataFrame(data = fit.scores_,index = list(columns),columns = ['Chi Squared Score']) "
      ]
    },
    {
      "cell_type": "code",
      "execution_count": null,
      "metadata": {
        "execution": {
          "iopub.execute_input": "2022-11-30T23:01:30.613551Z",
          "iopub.status.busy": "2022-11-30T23:01:30.613160Z",
          "iopub.status.idle": "2022-11-30T23:01:30.627191Z",
          "shell.execute_reply": "2022-11-30T23:01:30.625866Z",
          "shell.execute_reply.started": "2022-11-30T23:01:30.613519Z"
        },
        "colab": {
          "base_uri": "https://localhost:8080/",
          "height": 394
        },
        "id": "ZorP03KJKmJe",
        "outputId": "b9716b96-df42-4029-f145-e125af7067a2"
      },
      "outputs": [
        {
          "output_type": "execute_result",
          "data": {
            "text/plain": [
              "                   Chi Squared Score\n",
              "CoapplicantIncome        5563.095265\n",
              "ApplicantIncome           412.370785\n",
              "Credit_History             46.065990\n",
              "LoanAmount                 45.616735\n",
              "Education                   9.086486\n",
              "Dependents                  3.207273\n",
              "Married                     2.236140\n",
              "Property_Area               0.677337\n",
              "Gender                      0.313099\n",
              "Self_Employed               0.238095\n",
              "Loan_Amount_Term            0.031120"
            ],
            "text/html": [
              "\n",
              "  <div id=\"df-33f8bec1-b861-4513-a52f-4baef913ff21\">\n",
              "    <div class=\"colab-df-container\">\n",
              "      <div>\n",
              "<style scoped>\n",
              "    .dataframe tbody tr th:only-of-type {\n",
              "        vertical-align: middle;\n",
              "    }\n",
              "\n",
              "    .dataframe tbody tr th {\n",
              "        vertical-align: top;\n",
              "    }\n",
              "\n",
              "    .dataframe thead th {\n",
              "        text-align: right;\n",
              "    }\n",
              "</style>\n",
              "<table border=\"1\" class=\"dataframe\">\n",
              "  <thead>\n",
              "    <tr style=\"text-align: right;\">\n",
              "      <th></th>\n",
              "      <th>Chi Squared Score</th>\n",
              "    </tr>\n",
              "  </thead>\n",
              "  <tbody>\n",
              "    <tr>\n",
              "      <th>CoapplicantIncome</th>\n",
              "      <td>5563.095265</td>\n",
              "    </tr>\n",
              "    <tr>\n",
              "      <th>ApplicantIncome</th>\n",
              "      <td>412.370785</td>\n",
              "    </tr>\n",
              "    <tr>\n",
              "      <th>Credit_History</th>\n",
              "      <td>46.065990</td>\n",
              "    </tr>\n",
              "    <tr>\n",
              "      <th>LoanAmount</th>\n",
              "      <td>45.616735</td>\n",
              "    </tr>\n",
              "    <tr>\n",
              "      <th>Education</th>\n",
              "      <td>9.086486</td>\n",
              "    </tr>\n",
              "    <tr>\n",
              "      <th>Dependents</th>\n",
              "      <td>3.207273</td>\n",
              "    </tr>\n",
              "    <tr>\n",
              "      <th>Married</th>\n",
              "      <td>2.236140</td>\n",
              "    </tr>\n",
              "    <tr>\n",
              "      <th>Property_Area</th>\n",
              "      <td>0.677337</td>\n",
              "    </tr>\n",
              "    <tr>\n",
              "      <th>Gender</th>\n",
              "      <td>0.313099</td>\n",
              "    </tr>\n",
              "    <tr>\n",
              "      <th>Self_Employed</th>\n",
              "      <td>0.238095</td>\n",
              "    </tr>\n",
              "    <tr>\n",
              "      <th>Loan_Amount_Term</th>\n",
              "      <td>0.031120</td>\n",
              "    </tr>\n",
              "  </tbody>\n",
              "</table>\n",
              "</div>\n",
              "      <button class=\"colab-df-convert\" onclick=\"convertToInteractive('df-33f8bec1-b861-4513-a52f-4baef913ff21')\"\n",
              "              title=\"Convert this dataframe to an interactive table.\"\n",
              "              style=\"display:none;\">\n",
              "        \n",
              "  <svg xmlns=\"http://www.w3.org/2000/svg\" height=\"24px\"viewBox=\"0 0 24 24\"\n",
              "       width=\"24px\">\n",
              "    <path d=\"M0 0h24v24H0V0z\" fill=\"none\"/>\n",
              "    <path d=\"M18.56 5.44l.94 2.06.94-2.06 2.06-.94-2.06-.94-.94-2.06-.94 2.06-2.06.94zm-11 1L8.5 8.5l.94-2.06 2.06-.94-2.06-.94L8.5 2.5l-.94 2.06-2.06.94zm10 10l.94 2.06.94-2.06 2.06-.94-2.06-.94-.94-2.06-.94 2.06-2.06.94z\"/><path d=\"M17.41 7.96l-1.37-1.37c-.4-.4-.92-.59-1.43-.59-.52 0-1.04.2-1.43.59L10.3 9.45l-7.72 7.72c-.78.78-.78 2.05 0 2.83L4 21.41c.39.39.9.59 1.41.59.51 0 1.02-.2 1.41-.59l7.78-7.78 2.81-2.81c.8-.78.8-2.07 0-2.86zM5.41 20L4 18.59l7.72-7.72 1.47 1.35L5.41 20z\"/>\n",
              "  </svg>\n",
              "      </button>\n",
              "      \n",
              "  <style>\n",
              "    .colab-df-container {\n",
              "      display:flex;\n",
              "      flex-wrap:wrap;\n",
              "      gap: 12px;\n",
              "    }\n",
              "\n",
              "    .colab-df-convert {\n",
              "      background-color: #E8F0FE;\n",
              "      border: none;\n",
              "      border-radius: 50%;\n",
              "      cursor: pointer;\n",
              "      display: none;\n",
              "      fill: #1967D2;\n",
              "      height: 32px;\n",
              "      padding: 0 0 0 0;\n",
              "      width: 32px;\n",
              "    }\n",
              "\n",
              "    .colab-df-convert:hover {\n",
              "      background-color: #E2EBFA;\n",
              "      box-shadow: 0px 1px 2px rgba(60, 64, 67, 0.3), 0px 1px 3px 1px rgba(60, 64, 67, 0.15);\n",
              "      fill: #174EA6;\n",
              "    }\n",
              "\n",
              "    [theme=dark] .colab-df-convert {\n",
              "      background-color: #3B4455;\n",
              "      fill: #D2E3FC;\n",
              "    }\n",
              "\n",
              "    [theme=dark] .colab-df-convert:hover {\n",
              "      background-color: #434B5C;\n",
              "      box-shadow: 0px 1px 3px 1px rgba(0, 0, 0, 0.15);\n",
              "      filter: drop-shadow(0px 1px 2px rgba(0, 0, 0, 0.3));\n",
              "      fill: #FFFFFF;\n",
              "    }\n",
              "  </style>\n",
              "\n",
              "      <script>\n",
              "        const buttonEl =\n",
              "          document.querySelector('#df-33f8bec1-b861-4513-a52f-4baef913ff21 button.colab-df-convert');\n",
              "        buttonEl.style.display =\n",
              "          google.colab.kernel.accessAllowed ? 'block' : 'none';\n",
              "\n",
              "        async function convertToInteractive(key) {\n",
              "          const element = document.querySelector('#df-33f8bec1-b861-4513-a52f-4baef913ff21');\n",
              "          const dataTable =\n",
              "            await google.colab.kernel.invokeFunction('convertToInteractive',\n",
              "                                                     [key], {});\n",
              "          if (!dataTable) return;\n",
              "\n",
              "          const docLinkHtml = 'Like what you see? Visit the ' +\n",
              "            '<a target=\"_blank\" href=https://colab.research.google.com/notebooks/data_table.ipynb>data table notebook</a>'\n",
              "            + ' to learn more about interactive tables.';\n",
              "          element.innerHTML = '';\n",
              "          dataTable['output_type'] = 'display_data';\n",
              "          await google.colab.output.renderOutput(dataTable, element);\n",
              "          const docLink = document.createElement('div');\n",
              "          docLink.innerHTML = docLinkHtml;\n",
              "          element.appendChild(docLink);\n",
              "        }\n",
              "      </script>\n",
              "    </div>\n",
              "  </div>\n",
              "  "
            ]
          },
          "metadata": {},
          "execution_count": 168
        }
      ],
      "source": [
        "featureScores.sort_values(by = 'Chi Squared Score', ascending = False)"
      ]
    },
    {
      "cell_type": "code",
      "execution_count": null,
      "metadata": {
        "execution": {
          "iopub.execute_input": "2022-11-30T23:02:03.696607Z",
          "iopub.status.busy": "2022-11-30T23:02:03.695473Z",
          "iopub.status.idle": "2022-11-30T23:02:03.705138Z",
          "shell.execute_reply": "2022-11-30T23:02:03.704034Z",
          "shell.execute_reply.started": "2022-11-30T23:02:03.696553Z"
        },
        "colab": {
          "base_uri": "https://localhost:8080/"
        },
        "id": "fBSmU9qsKmJe",
        "outputId": "99a22787-b865-4718-9342-242a39a5cecd"
      },
      "outputs": [
        {
          "output_type": "execute_result",
          "data": {
            "text/plain": [
              "Credit_History       0.337157\n",
              "LoanAmount           0.217581\n",
              "ApplicantIncome      0.162869\n",
              "CoapplicantIncome    0.092034\n",
              "Loan_Amount_Term     0.049764\n",
              "Property_Area        0.047454\n",
              "Dependents           0.031819\n",
              "Married              0.028511\n",
              "Gender               0.014773\n",
              "Education            0.014522\n",
              "Self_Employed        0.003516\n",
              "dtype: float64"
            ]
          },
          "metadata": {},
          "execution_count": 169
        }
      ],
      "source": [
        "feature_imp"
      ]
    },
    {
      "cell_type": "code",
      "execution_count": null,
      "metadata": {
        "execution": {
          "iopub.execute_input": "2022-11-30T23:02:15.489820Z",
          "iopub.status.busy": "2022-11-30T23:02:15.489363Z",
          "iopub.status.idle": "2022-11-30T23:02:15.499740Z",
          "shell.execute_reply": "2022-11-30T23:02:15.498496Z",
          "shell.execute_reply.started": "2022-11-30T23:02:15.489779Z"
        },
        "colab": {
          "base_uri": "https://localhost:8080/"
        },
        "id": "t0NlZI1OKmJf",
        "outputId": "7e00c5e9-82eb-4f90-e144-38d654178f5f"
      },
      "outputs": [
        {
          "output_type": "execute_result",
          "data": {
            "text/plain": [
              "Credit_History       0.240207\n",
              "ApplicantIncome      0.214730\n",
              "LoanAmount           0.182214\n",
              "CoapplicantIncome    0.116487\n",
              "Property_Area        0.055278\n",
              "Dependents           0.047730\n",
              "Loan_Amount_Term     0.047602\n",
              "Married              0.028446\n",
              "Education            0.025616\n",
              "Gender               0.022284\n",
              "Self_Employed        0.019406\n",
              "dtype: float64"
            ]
          },
          "metadata": {},
          "execution_count": 170
        }
      ],
      "source": [
        "feature_imp_random"
      ]
    },
    {
      "cell_type": "code",
      "execution_count": null,
      "metadata": {
        "execution": {
          "iopub.execute_input": "2022-11-30T23:03:26.495831Z",
          "iopub.status.busy": "2022-11-30T23:03:26.495018Z",
          "iopub.status.idle": "2022-11-30T23:03:26.503791Z",
          "shell.execute_reply": "2022-11-30T23:03:26.502639Z",
          "shell.execute_reply.started": "2022-11-30T23:03:26.495788Z"
        },
        "colab": {
          "base_uri": "https://localhost:8080/"
        },
        "id": "KzcfQGnHKmJf",
        "outputId": "c7257e3a-64fe-4a0f-9957-355eddfbd5f8"
      },
      "outputs": [
        {
          "output_type": "execute_result",
          "data": {
            "text/plain": [
              "Credit_History       0.230239\n",
              "LoanAmount           0.182046\n",
              "ApplicantIncome      0.173030\n",
              "CoapplicantIncome    0.121668\n",
              "Property_Area        0.066301\n",
              "Dependents           0.065108\n",
              "Loan_Amount_Term     0.052531\n",
              "Self_Employed        0.027997\n",
              "Education            0.027367\n",
              "Gender               0.027218\n",
              "Married              0.026494\n",
              "dtype: float64"
            ]
          },
          "metadata": {},
          "execution_count": 171
        }
      ],
      "source": [
        "feature_extra"
      ]
    },
    {
      "cell_type": "code",
      "execution_count": null,
      "metadata": {
        "execution": {
          "iopub.execute_input": "2022-11-30T23:04:07.935052Z",
          "iopub.status.busy": "2022-11-30T23:04:07.934517Z",
          "iopub.status.idle": "2022-11-30T23:04:07.940860Z",
          "shell.execute_reply": "2022-11-30T23:04:07.939367Z",
          "shell.execute_reply.started": "2022-11-30T23:04:07.935008Z"
        },
        "id": "Wqf98EvBKmJf"
      },
      "outputs": [],
      "source": [
        "Naive_dict_v1 = {'Model':'Naive Bayes',\n",
        "               'Scaling':'Normal Data',\n",
        "               'Type':'Gaussian',\n",
        "               'Precision':score_naive_gaussian}"
      ]
    },
    {
      "cell_type": "code",
      "execution_count": null,
      "metadata": {
        "execution": {
          "iopub.execute_input": "2022-11-30T23:04:12.152945Z",
          "iopub.status.busy": "2022-11-30T23:04:12.152518Z",
          "iopub.status.idle": "2022-11-30T23:04:12.159231Z",
          "shell.execute_reply": "2022-11-30T23:04:12.157866Z",
          "shell.execute_reply.started": "2022-11-30T23:04:12.152912Z"
        },
        "id": "lkP3ChPTKmJf"
      },
      "outputs": [],
      "source": [
        "summary = pd.DataFrame({'Naive_dict_v1':pd.Series(Naive_dict_v1),\n",
        "                      })"
      ]
    },
    {
      "cell_type": "code",
      "execution_count": null,
      "metadata": {
        "execution": {
          "iopub.execute_input": "2022-11-30T23:04:22.017368Z",
          "iopub.status.busy": "2022-11-30T23:04:22.016979Z",
          "iopub.status.idle": "2022-11-30T23:04:22.023559Z",
          "shell.execute_reply": "2022-11-30T23:04:22.022676Z",
          "shell.execute_reply.started": "2022-11-30T23:04:22.017337Z"
        },
        "id": "Lw27JnpUKmJf"
      },
      "outputs": [],
      "source": [
        "Decision_dict = {'Model':'Decision Tree',\n",
        "               'Scaling':'Normal Data',\n",
        "               'Type':gridDecisionTree.best_estimator_.criterion,\n",
        "               'Precision':score_tree}\n",
        "\n",
        "Random_dict = {'Model':'Random Forest',\n",
        "               'Scaling':'Normal Data',\n",
        "               'Type':gridRandomForest.best_estimator_.criterion,\n",
        "               'Precision':score_random}\n",
        "\n",
        "Extra_dict = {'Model':'Extra Trees',\n",
        "               'Scaling':'Normal Data',\n",
        "               'Type':gridExtraTrees.best_estimator_.criterion,\n",
        "               'Precision':score_extra}"
      ]
    },
    {
      "cell_type": "code",
      "execution_count": null,
      "metadata": {
        "execution": {
          "iopub.execute_input": "2022-11-30T23:05:31.989963Z",
          "iopub.status.busy": "2022-11-30T23:05:31.989551Z",
          "iopub.status.idle": "2022-11-30T23:05:31.997560Z",
          "shell.execute_reply": "2022-11-30T23:05:31.996412Z",
          "shell.execute_reply.started": "2022-11-30T23:05:31.989930Z"
        },
        "id": "6viUK1ojKmJg"
      },
      "outputs": [],
      "source": [
        "summary_random = pd.DataFrame({'Decision_dict':pd.Series(Decision_dict),\n",
        "                        'Random_dict':pd.Series(Random_dict),\n",
        "                        'Extra Tree':pd.Series(Extra_dict)\n",
        "                      })"
      ]
    },
    {
      "cell_type": "code",
      "execution_count": null,
      "metadata": {
        "execution": {
          "iopub.execute_input": "2022-11-30T23:05:05.417644Z",
          "iopub.status.busy": "2022-11-30T23:05:05.417260Z",
          "iopub.status.idle": "2022-11-30T23:05:05.423785Z",
          "shell.execute_reply": "2022-11-30T23:05:05.422673Z",
          "shell.execute_reply.started": "2022-11-30T23:05:05.417613Z"
        },
        "id": "Th3OYrpkKmJg"
      },
      "outputs": [],
      "source": [
        "K_Means_dict_v1 = {'Model':'K-Means',\n",
        "               'Scaling':'Normal Data',\n",
        "               'Type':'-',\n",
        "               'Precision':classification_kmeans_normal}\n",
        "\n",
        "K_Means_dict_v2 = {'Model':'Means',\n",
        "               'Scaling':'Standard',\n",
        "               'Type':'-',\n",
        "               'Precision':classification_kmeans_standard}"
      ]
    },
    {
      "cell_type": "code",
      "execution_count": null,
      "metadata": {
        "execution": {
          "iopub.execute_input": "2022-11-30T23:05:22.535547Z",
          "iopub.status.busy": "2022-11-30T23:05:22.535113Z",
          "iopub.status.idle": "2022-11-30T23:05:22.543390Z",
          "shell.execute_reply": "2022-11-30T23:05:22.542034Z",
          "shell.execute_reply.started": "2022-11-30T23:05:22.535508Z"
        },
        "id": "rq4oWTPQKmJg"
      },
      "outputs": [],
      "source": [
        "summary_k_means = pd.DataFrame({'K_Means_dict_v1':pd.Series(K_Means_dict_v1),\n",
        "                       'K_Means_dict_v2':pd.Series(K_Means_dict_v2)\n",
        "                      })"
      ]
    },
    {
      "cell_type": "code",
      "execution_count": null,
      "metadata": {
        "execution": {
          "iopub.execute_input": "2022-11-30T23:05:43.983599Z",
          "iopub.status.busy": "2022-11-30T23:05:43.983120Z",
          "iopub.status.idle": "2022-11-30T23:05:43.988902Z",
          "shell.execute_reply": "2022-11-30T23:05:43.987957Z",
          "shell.execute_reply.started": "2022-11-30T23:05:43.983537Z"
        },
        "id": "CnHhsJIsKmJg"
      },
      "outputs": [],
      "source": [
        "KNN_dict_v1 = {'Model':'KNN',\n",
        "               'Scaling':'Normal Data',\n",
        "               'Type':'-',\n",
        "               'Precision':score_knn}\n",
        "\n",
        "KNN_dict_v2 = {'Model':'KNN',\n",
        "               'Scaling':'Standard',\n",
        "               'Type':'-',\n",
        "               'Precision':score_knn_scaler}"
      ]
    },
    {
      "cell_type": "code",
      "execution_count": null,
      "metadata": {
        "execution": {
          "iopub.execute_input": "2022-11-30T23:05:48.719558Z",
          "iopub.status.busy": "2022-11-30T23:05:48.718536Z",
          "iopub.status.idle": "2022-11-30T23:05:48.725649Z",
          "shell.execute_reply": "2022-11-30T23:05:48.724560Z",
          "shell.execute_reply.started": "2022-11-30T23:05:48.719512Z"
        },
        "id": "AnrHfoMnKmJh"
      },
      "outputs": [],
      "source": [
        "summary_knn = pd.DataFrame({'KNN_dict_v1':pd.Series(KNN_dict_v1),\n",
        "                       'KNN_dict_v2':pd.Series(KNN_dict_v2)\n",
        "                      })"
      ]
    },
    {
      "cell_type": "code",
      "execution_count": null,
      "metadata": {
        "execution": {
          "iopub.execute_input": "2022-11-30T23:06:03.064703Z",
          "iopub.status.busy": "2022-11-30T23:06:03.064255Z",
          "iopub.status.idle": "2022-11-30T23:06:03.070056Z",
          "shell.execute_reply": "2022-11-30T23:06:03.069091Z",
          "shell.execute_reply.started": "2022-11-30T23:06:03.064661Z"
        },
        "id": "mqxBF4f7KmJh"
      },
      "outputs": [],
      "source": [
        "Logistic_dict_v1 = {'Model':'Logistic Regression',\n",
        "               'Scaling':'Normal Data',\n",
        "               'Type':'-',\n",
        "               'Precision':logistic_normal}"
      ]
    },
    {
      "cell_type": "code",
      "execution_count": null,
      "metadata": {
        "execution": {
          "iopub.execute_input": "2022-11-30T23:06:11.485146Z",
          "iopub.status.busy": "2022-11-30T23:06:11.484711Z",
          "iopub.status.idle": "2022-11-30T23:06:11.491761Z",
          "shell.execute_reply": "2022-11-30T23:06:11.490631Z",
          "shell.execute_reply.started": "2022-11-30T23:06:11.485107Z"
        },
        "id": "Q206zju_KmJh"
      },
      "outputs": [],
      "source": [
        "summary_logistic = pd.DataFrame({'Logistic_dict_v1':pd.Series(Logistic_dict_v1)\n",
        "                      })"
      ]
    },
    {
      "cell_type": "code",
      "execution_count": null,
      "metadata": {
        "execution": {
          "iopub.execute_input": "2022-11-30T23:06:18.939053Z",
          "iopub.status.busy": "2022-11-30T23:06:18.938639Z",
          "iopub.status.idle": "2022-11-30T23:06:18.944475Z",
          "shell.execute_reply": "2022-11-30T23:06:18.943355Z",
          "shell.execute_reply.started": "2022-11-30T23:06:18.939010Z"
        },
        "id": "SZLzu9hpKmJh"
      },
      "outputs": [],
      "source": [
        "svm_dict_v1 = {'Model':'SVM',\n",
        "               'Scaling':'Standard',\n",
        "               'Type':gridSVM.best_estimator_.kernel,\n",
        "               'Precision':score_svm}"
      ]
    },
    {
      "cell_type": "code",
      "execution_count": null,
      "metadata": {
        "execution": {
          "iopub.execute_input": "2022-11-30T23:06:24.868066Z",
          "iopub.status.busy": "2022-11-30T23:06:24.867032Z",
          "iopub.status.idle": "2022-11-30T23:06:24.873771Z",
          "shell.execute_reply": "2022-11-30T23:06:24.872644Z",
          "shell.execute_reply.started": "2022-11-30T23:06:24.868025Z"
        },
        "id": "FKnN7YZ8KmJi"
      },
      "outputs": [],
      "source": [
        "summary_svm = pd.DataFrame({'svm_dict_v1':pd.Series(svm_dict_v1)\n",
        "                      })"
      ]
    },
    {
      "cell_type": "code",
      "execution_count": null,
      "metadata": {
        "execution": {
          "iopub.execute_input": "2022-11-30T23:08:28.822303Z",
          "iopub.status.busy": "2022-11-30T23:08:28.821887Z",
          "iopub.status.idle": "2022-11-30T23:08:28.827659Z",
          "shell.execute_reply": "2022-11-30T23:08:28.826418Z",
          "shell.execute_reply.started": "2022-11-30T23:08:28.822265Z"
        },
        "id": "Cy17WolkKmJi"
      },
      "outputs": [],
      "source": [
        "ada_dict_v1 = {'Model':'AdaBoost',\n",
        "               'Scaling':'StandardScaler',\n",
        "               'Type':'-',\n",
        "               'Precision':score_ada_scaler}"
      ]
    },
    {
      "cell_type": "code",
      "execution_count": null,
      "metadata": {
        "execution": {
          "iopub.execute_input": "2022-11-30T23:08:29.408690Z",
          "iopub.status.busy": "2022-11-30T23:08:29.408316Z",
          "iopub.status.idle": "2022-11-30T23:08:29.415145Z",
          "shell.execute_reply": "2022-11-30T23:08:29.413915Z",
          "shell.execute_reply.started": "2022-11-30T23:08:29.408659Z"
        },
        "id": "fN4cJbdTKmJi"
      },
      "outputs": [],
      "source": [
        "summary_ada = pd.DataFrame({'ada_dict_v1':pd.Series(ada_dict_v1)\n",
        "                      })"
      ]
    },
    {
      "cell_type": "code",
      "execution_count": null,
      "metadata": {
        "execution": {
          "iopub.execute_input": "2022-11-30T23:08:32.934413Z",
          "iopub.status.busy": "2022-11-30T23:08:32.934020Z",
          "iopub.status.idle": "2022-11-30T23:08:32.940018Z",
          "shell.execute_reply": "2022-11-30T23:08:32.938839Z",
          "shell.execute_reply.started": "2022-11-30T23:08:32.934382Z"
        },
        "id": "ynvpXEI-KmJi"
      },
      "outputs": [],
      "source": [
        "grad_dict_v1 = {'Model':'GradientBoost',\n",
        "               'Scaling':'StandardScaler',\n",
        "               'Type':'-',\n",
        "               'Precision':score_grad_standard}"
      ]
    },
    {
      "cell_type": "code",
      "execution_count": null,
      "metadata": {
        "execution": {
          "iopub.execute_input": "2022-11-30T23:08:57.686358Z",
          "iopub.status.busy": "2022-11-30T23:08:57.685934Z",
          "iopub.status.idle": "2022-11-30T23:08:57.693617Z",
          "shell.execute_reply": "2022-11-30T23:08:57.691567Z",
          "shell.execute_reply.started": "2022-11-30T23:08:57.686322Z"
        },
        "id": "pO3b1dLeKmJj"
      },
      "outputs": [],
      "source": [
        "summary_grad = pd.DataFrame({'grad_dict_v1':pd.Series(grad_dict_v1)\n",
        "                      })"
      ]
    },
    {
      "cell_type": "code",
      "execution_count": null,
      "metadata": {
        "execution": {
          "iopub.execute_input": "2022-11-30T23:09:11.115572Z",
          "iopub.status.busy": "2022-11-30T23:09:11.115183Z",
          "iopub.status.idle": "2022-11-30T23:09:11.125744Z",
          "shell.execute_reply": "2022-11-30T23:09:11.124743Z",
          "shell.execute_reply.started": "2022-11-30T23:09:11.115541Z"
        },
        "colab": {
          "base_uri": "https://localhost:8080/",
          "height": 175
        },
        "id": "xD6f3pIKKmJj",
        "outputId": "7e954da4-b8ef-4e38-91d5-39ac5221e941"
      },
      "outputs": [
        {
          "output_type": "execute_result",
          "data": {
            "text/plain": [
              "          Naive_dict_v1\n",
              "Model       Naive Bayes\n",
              "Scaling     Normal Data\n",
              "Type           Gaussian\n",
              "Precision      0.709957"
            ],
            "text/html": [
              "\n",
              "  <div id=\"df-27acdadc-f814-42d6-b309-5691e867e3ad\">\n",
              "    <div class=\"colab-df-container\">\n",
              "      <div>\n",
              "<style scoped>\n",
              "    .dataframe tbody tr th:only-of-type {\n",
              "        vertical-align: middle;\n",
              "    }\n",
              "\n",
              "    .dataframe tbody tr th {\n",
              "        vertical-align: top;\n",
              "    }\n",
              "\n",
              "    .dataframe thead th {\n",
              "        text-align: right;\n",
              "    }\n",
              "</style>\n",
              "<table border=\"1\" class=\"dataframe\">\n",
              "  <thead>\n",
              "    <tr style=\"text-align: right;\">\n",
              "      <th></th>\n",
              "      <th>Naive_dict_v1</th>\n",
              "    </tr>\n",
              "  </thead>\n",
              "  <tbody>\n",
              "    <tr>\n",
              "      <th>Model</th>\n",
              "      <td>Naive Bayes</td>\n",
              "    </tr>\n",
              "    <tr>\n",
              "      <th>Scaling</th>\n",
              "      <td>Normal Data</td>\n",
              "    </tr>\n",
              "    <tr>\n",
              "      <th>Type</th>\n",
              "      <td>Gaussian</td>\n",
              "    </tr>\n",
              "    <tr>\n",
              "      <th>Precision</th>\n",
              "      <td>0.709957</td>\n",
              "    </tr>\n",
              "  </tbody>\n",
              "</table>\n",
              "</div>\n",
              "      <button class=\"colab-df-convert\" onclick=\"convertToInteractive('df-27acdadc-f814-42d6-b309-5691e867e3ad')\"\n",
              "              title=\"Convert this dataframe to an interactive table.\"\n",
              "              style=\"display:none;\">\n",
              "        \n",
              "  <svg xmlns=\"http://www.w3.org/2000/svg\" height=\"24px\"viewBox=\"0 0 24 24\"\n",
              "       width=\"24px\">\n",
              "    <path d=\"M0 0h24v24H0V0z\" fill=\"none\"/>\n",
              "    <path d=\"M18.56 5.44l.94 2.06.94-2.06 2.06-.94-2.06-.94-.94-2.06-.94 2.06-2.06.94zm-11 1L8.5 8.5l.94-2.06 2.06-.94-2.06-.94L8.5 2.5l-.94 2.06-2.06.94zm10 10l.94 2.06.94-2.06 2.06-.94-2.06-.94-.94-2.06-.94 2.06-2.06.94z\"/><path d=\"M17.41 7.96l-1.37-1.37c-.4-.4-.92-.59-1.43-.59-.52 0-1.04.2-1.43.59L10.3 9.45l-7.72 7.72c-.78.78-.78 2.05 0 2.83L4 21.41c.39.39.9.59 1.41.59.51 0 1.02-.2 1.41-.59l7.78-7.78 2.81-2.81c.8-.78.8-2.07 0-2.86zM5.41 20L4 18.59l7.72-7.72 1.47 1.35L5.41 20z\"/>\n",
              "  </svg>\n",
              "      </button>\n",
              "      \n",
              "  <style>\n",
              "    .colab-df-container {\n",
              "      display:flex;\n",
              "      flex-wrap:wrap;\n",
              "      gap: 12px;\n",
              "    }\n",
              "\n",
              "    .colab-df-convert {\n",
              "      background-color: #E8F0FE;\n",
              "      border: none;\n",
              "      border-radius: 50%;\n",
              "      cursor: pointer;\n",
              "      display: none;\n",
              "      fill: #1967D2;\n",
              "      height: 32px;\n",
              "      padding: 0 0 0 0;\n",
              "      width: 32px;\n",
              "    }\n",
              "\n",
              "    .colab-df-convert:hover {\n",
              "      background-color: #E2EBFA;\n",
              "      box-shadow: 0px 1px 2px rgba(60, 64, 67, 0.3), 0px 1px 3px 1px rgba(60, 64, 67, 0.15);\n",
              "      fill: #174EA6;\n",
              "    }\n",
              "\n",
              "    [theme=dark] .colab-df-convert {\n",
              "      background-color: #3B4455;\n",
              "      fill: #D2E3FC;\n",
              "    }\n",
              "\n",
              "    [theme=dark] .colab-df-convert:hover {\n",
              "      background-color: #434B5C;\n",
              "      box-shadow: 0px 1px 3px 1px rgba(0, 0, 0, 0.15);\n",
              "      filter: drop-shadow(0px 1px 2px rgba(0, 0, 0, 0.3));\n",
              "      fill: #FFFFFF;\n",
              "    }\n",
              "  </style>\n",
              "\n",
              "      <script>\n",
              "        const buttonEl =\n",
              "          document.querySelector('#df-27acdadc-f814-42d6-b309-5691e867e3ad button.colab-df-convert');\n",
              "        buttonEl.style.display =\n",
              "          google.colab.kernel.accessAllowed ? 'block' : 'none';\n",
              "\n",
              "        async function convertToInteractive(key) {\n",
              "          const element = document.querySelector('#df-27acdadc-f814-42d6-b309-5691e867e3ad');\n",
              "          const dataTable =\n",
              "            await google.colab.kernel.invokeFunction('convertToInteractive',\n",
              "                                                     [key], {});\n",
              "          if (!dataTable) return;\n",
              "\n",
              "          const docLinkHtml = 'Like what you see? Visit the ' +\n",
              "            '<a target=\"_blank\" href=https://colab.research.google.com/notebooks/data_table.ipynb>data table notebook</a>'\n",
              "            + ' to learn more about interactive tables.';\n",
              "          element.innerHTML = '';\n",
              "          dataTable['output_type'] = 'display_data';\n",
              "          await google.colab.output.renderOutput(dataTable, element);\n",
              "          const docLink = document.createElement('div');\n",
              "          docLink.innerHTML = docLinkHtml;\n",
              "          element.appendChild(docLink);\n",
              "        }\n",
              "      </script>\n",
              "    </div>\n",
              "  </div>\n",
              "  "
            ]
          },
          "metadata": {},
          "execution_count": 188
        }
      ],
      "source": [
        "summary"
      ]
    },
    {
      "cell_type": "code",
      "execution_count": null,
      "metadata": {
        "execution": {
          "iopub.execute_input": "2022-11-30T23:09:18.306019Z",
          "iopub.status.busy": "2022-11-30T23:09:18.304947Z",
          "iopub.status.idle": "2022-11-30T23:09:18.318253Z",
          "shell.execute_reply": "2022-11-30T23:09:18.316728Z",
          "shell.execute_reply.started": "2022-11-30T23:09:18.305967Z"
        },
        "colab": {
          "base_uri": "https://localhost:8080/",
          "height": 175
        },
        "id": "StE-OkNFKmJj",
        "outputId": "fe1f8f87-0a51-4991-ce34-f282ce5bb00d"
      },
      "outputs": [
        {
          "output_type": "execute_result",
          "data": {
            "text/plain": [
              "           Decision_dict    Random_dict   Extra Tree\n",
              "Model      Decision Tree  Random Forest  Extra Trees\n",
              "Scaling      Normal Data    Normal Data  Normal Data\n",
              "Type                gini        entropy         gini\n",
              "Precision       0.727273       0.852814     0.848485"
            ],
            "text/html": [
              "\n",
              "  <div id=\"df-09abc40f-839f-432a-8f55-a684a8b8df11\">\n",
              "    <div class=\"colab-df-container\">\n",
              "      <div>\n",
              "<style scoped>\n",
              "    .dataframe tbody tr th:only-of-type {\n",
              "        vertical-align: middle;\n",
              "    }\n",
              "\n",
              "    .dataframe tbody tr th {\n",
              "        vertical-align: top;\n",
              "    }\n",
              "\n",
              "    .dataframe thead th {\n",
              "        text-align: right;\n",
              "    }\n",
              "</style>\n",
              "<table border=\"1\" class=\"dataframe\">\n",
              "  <thead>\n",
              "    <tr style=\"text-align: right;\">\n",
              "      <th></th>\n",
              "      <th>Decision_dict</th>\n",
              "      <th>Random_dict</th>\n",
              "      <th>Extra Tree</th>\n",
              "    </tr>\n",
              "  </thead>\n",
              "  <tbody>\n",
              "    <tr>\n",
              "      <th>Model</th>\n",
              "      <td>Decision Tree</td>\n",
              "      <td>Random Forest</td>\n",
              "      <td>Extra Trees</td>\n",
              "    </tr>\n",
              "    <tr>\n",
              "      <th>Scaling</th>\n",
              "      <td>Normal Data</td>\n",
              "      <td>Normal Data</td>\n",
              "      <td>Normal Data</td>\n",
              "    </tr>\n",
              "    <tr>\n",
              "      <th>Type</th>\n",
              "      <td>gini</td>\n",
              "      <td>entropy</td>\n",
              "      <td>gini</td>\n",
              "    </tr>\n",
              "    <tr>\n",
              "      <th>Precision</th>\n",
              "      <td>0.727273</td>\n",
              "      <td>0.852814</td>\n",
              "      <td>0.848485</td>\n",
              "    </tr>\n",
              "  </tbody>\n",
              "</table>\n",
              "</div>\n",
              "      <button class=\"colab-df-convert\" onclick=\"convertToInteractive('df-09abc40f-839f-432a-8f55-a684a8b8df11')\"\n",
              "              title=\"Convert this dataframe to an interactive table.\"\n",
              "              style=\"display:none;\">\n",
              "        \n",
              "  <svg xmlns=\"http://www.w3.org/2000/svg\" height=\"24px\"viewBox=\"0 0 24 24\"\n",
              "       width=\"24px\">\n",
              "    <path d=\"M0 0h24v24H0V0z\" fill=\"none\"/>\n",
              "    <path d=\"M18.56 5.44l.94 2.06.94-2.06 2.06-.94-2.06-.94-.94-2.06-.94 2.06-2.06.94zm-11 1L8.5 8.5l.94-2.06 2.06-.94-2.06-.94L8.5 2.5l-.94 2.06-2.06.94zm10 10l.94 2.06.94-2.06 2.06-.94-2.06-.94-.94-2.06-.94 2.06-2.06.94z\"/><path d=\"M17.41 7.96l-1.37-1.37c-.4-.4-.92-.59-1.43-.59-.52 0-1.04.2-1.43.59L10.3 9.45l-7.72 7.72c-.78.78-.78 2.05 0 2.83L4 21.41c.39.39.9.59 1.41.59.51 0 1.02-.2 1.41-.59l7.78-7.78 2.81-2.81c.8-.78.8-2.07 0-2.86zM5.41 20L4 18.59l7.72-7.72 1.47 1.35L5.41 20z\"/>\n",
              "  </svg>\n",
              "      </button>\n",
              "      \n",
              "  <style>\n",
              "    .colab-df-container {\n",
              "      display:flex;\n",
              "      flex-wrap:wrap;\n",
              "      gap: 12px;\n",
              "    }\n",
              "\n",
              "    .colab-df-convert {\n",
              "      background-color: #E8F0FE;\n",
              "      border: none;\n",
              "      border-radius: 50%;\n",
              "      cursor: pointer;\n",
              "      display: none;\n",
              "      fill: #1967D2;\n",
              "      height: 32px;\n",
              "      padding: 0 0 0 0;\n",
              "      width: 32px;\n",
              "    }\n",
              "\n",
              "    .colab-df-convert:hover {\n",
              "      background-color: #E2EBFA;\n",
              "      box-shadow: 0px 1px 2px rgba(60, 64, 67, 0.3), 0px 1px 3px 1px rgba(60, 64, 67, 0.15);\n",
              "      fill: #174EA6;\n",
              "    }\n",
              "\n",
              "    [theme=dark] .colab-df-convert {\n",
              "      background-color: #3B4455;\n",
              "      fill: #D2E3FC;\n",
              "    }\n",
              "\n",
              "    [theme=dark] .colab-df-convert:hover {\n",
              "      background-color: #434B5C;\n",
              "      box-shadow: 0px 1px 3px 1px rgba(0, 0, 0, 0.15);\n",
              "      filter: drop-shadow(0px 1px 2px rgba(0, 0, 0, 0.3));\n",
              "      fill: #FFFFFF;\n",
              "    }\n",
              "  </style>\n",
              "\n",
              "      <script>\n",
              "        const buttonEl =\n",
              "          document.querySelector('#df-09abc40f-839f-432a-8f55-a684a8b8df11 button.colab-df-convert');\n",
              "        buttonEl.style.display =\n",
              "          google.colab.kernel.accessAllowed ? 'block' : 'none';\n",
              "\n",
              "        async function convertToInteractive(key) {\n",
              "          const element = document.querySelector('#df-09abc40f-839f-432a-8f55-a684a8b8df11');\n",
              "          const dataTable =\n",
              "            await google.colab.kernel.invokeFunction('convertToInteractive',\n",
              "                                                     [key], {});\n",
              "          if (!dataTable) return;\n",
              "\n",
              "          const docLinkHtml = 'Like what you see? Visit the ' +\n",
              "            '<a target=\"_blank\" href=https://colab.research.google.com/notebooks/data_table.ipynb>data table notebook</a>'\n",
              "            + ' to learn more about interactive tables.';\n",
              "          element.innerHTML = '';\n",
              "          dataTable['output_type'] = 'display_data';\n",
              "          await google.colab.output.renderOutput(dataTable, element);\n",
              "          const docLink = document.createElement('div');\n",
              "          docLink.innerHTML = docLinkHtml;\n",
              "          element.appendChild(docLink);\n",
              "        }\n",
              "      </script>\n",
              "    </div>\n",
              "  </div>\n",
              "  "
            ]
          },
          "metadata": {},
          "execution_count": 189
        }
      ],
      "source": [
        "summary_random"
      ]
    },
    {
      "cell_type": "code",
      "execution_count": null,
      "metadata": {
        "execution": {
          "iopub.execute_input": "2022-11-30T23:09:30.399547Z",
          "iopub.status.busy": "2022-11-30T23:09:30.398720Z",
          "iopub.status.idle": "2022-11-30T23:09:30.410185Z",
          "shell.execute_reply": "2022-11-30T23:09:30.408964Z",
          "shell.execute_reply.started": "2022-11-30T23:09:30.399500Z"
        },
        "colab": {
          "base_uri": "https://localhost:8080/",
          "height": 175
        },
        "id": "NnNukDQuKmJj",
        "outputId": "78203524-77fa-4a21-d8c7-69cd6a556429"
      },
      "outputs": [
        {
          "output_type": "execute_result",
          "data": {
            "text/plain": [
              "          K_Means_dict_v1 K_Means_dict_v2\n",
              "Model             K-Means           Means\n",
              "Scaling       Normal Data        Standard\n",
              "Type                    -               -\n",
              "Precision        0.506494        0.506494"
            ],
            "text/html": [
              "\n",
              "  <div id=\"df-6daa006e-d465-4397-bcbb-030406e8fe1f\">\n",
              "    <div class=\"colab-df-container\">\n",
              "      <div>\n",
              "<style scoped>\n",
              "    .dataframe tbody tr th:only-of-type {\n",
              "        vertical-align: middle;\n",
              "    }\n",
              "\n",
              "    .dataframe tbody tr th {\n",
              "        vertical-align: top;\n",
              "    }\n",
              "\n",
              "    .dataframe thead th {\n",
              "        text-align: right;\n",
              "    }\n",
              "</style>\n",
              "<table border=\"1\" class=\"dataframe\">\n",
              "  <thead>\n",
              "    <tr style=\"text-align: right;\">\n",
              "      <th></th>\n",
              "      <th>K_Means_dict_v1</th>\n",
              "      <th>K_Means_dict_v2</th>\n",
              "    </tr>\n",
              "  </thead>\n",
              "  <tbody>\n",
              "    <tr>\n",
              "      <th>Model</th>\n",
              "      <td>K-Means</td>\n",
              "      <td>Means</td>\n",
              "    </tr>\n",
              "    <tr>\n",
              "      <th>Scaling</th>\n",
              "      <td>Normal Data</td>\n",
              "      <td>Standard</td>\n",
              "    </tr>\n",
              "    <tr>\n",
              "      <th>Type</th>\n",
              "      <td>-</td>\n",
              "      <td>-</td>\n",
              "    </tr>\n",
              "    <tr>\n",
              "      <th>Precision</th>\n",
              "      <td>0.506494</td>\n",
              "      <td>0.506494</td>\n",
              "    </tr>\n",
              "  </tbody>\n",
              "</table>\n",
              "</div>\n",
              "      <button class=\"colab-df-convert\" onclick=\"convertToInteractive('df-6daa006e-d465-4397-bcbb-030406e8fe1f')\"\n",
              "              title=\"Convert this dataframe to an interactive table.\"\n",
              "              style=\"display:none;\">\n",
              "        \n",
              "  <svg xmlns=\"http://www.w3.org/2000/svg\" height=\"24px\"viewBox=\"0 0 24 24\"\n",
              "       width=\"24px\">\n",
              "    <path d=\"M0 0h24v24H0V0z\" fill=\"none\"/>\n",
              "    <path d=\"M18.56 5.44l.94 2.06.94-2.06 2.06-.94-2.06-.94-.94-2.06-.94 2.06-2.06.94zm-11 1L8.5 8.5l.94-2.06 2.06-.94-2.06-.94L8.5 2.5l-.94 2.06-2.06.94zm10 10l.94 2.06.94-2.06 2.06-.94-2.06-.94-.94-2.06-.94 2.06-2.06.94z\"/><path d=\"M17.41 7.96l-1.37-1.37c-.4-.4-.92-.59-1.43-.59-.52 0-1.04.2-1.43.59L10.3 9.45l-7.72 7.72c-.78.78-.78 2.05 0 2.83L4 21.41c.39.39.9.59 1.41.59.51 0 1.02-.2 1.41-.59l7.78-7.78 2.81-2.81c.8-.78.8-2.07 0-2.86zM5.41 20L4 18.59l7.72-7.72 1.47 1.35L5.41 20z\"/>\n",
              "  </svg>\n",
              "      </button>\n",
              "      \n",
              "  <style>\n",
              "    .colab-df-container {\n",
              "      display:flex;\n",
              "      flex-wrap:wrap;\n",
              "      gap: 12px;\n",
              "    }\n",
              "\n",
              "    .colab-df-convert {\n",
              "      background-color: #E8F0FE;\n",
              "      border: none;\n",
              "      border-radius: 50%;\n",
              "      cursor: pointer;\n",
              "      display: none;\n",
              "      fill: #1967D2;\n",
              "      height: 32px;\n",
              "      padding: 0 0 0 0;\n",
              "      width: 32px;\n",
              "    }\n",
              "\n",
              "    .colab-df-convert:hover {\n",
              "      background-color: #E2EBFA;\n",
              "      box-shadow: 0px 1px 2px rgba(60, 64, 67, 0.3), 0px 1px 3px 1px rgba(60, 64, 67, 0.15);\n",
              "      fill: #174EA6;\n",
              "    }\n",
              "\n",
              "    [theme=dark] .colab-df-convert {\n",
              "      background-color: #3B4455;\n",
              "      fill: #D2E3FC;\n",
              "    }\n",
              "\n",
              "    [theme=dark] .colab-df-convert:hover {\n",
              "      background-color: #434B5C;\n",
              "      box-shadow: 0px 1px 3px 1px rgba(0, 0, 0, 0.15);\n",
              "      filter: drop-shadow(0px 1px 2px rgba(0, 0, 0, 0.3));\n",
              "      fill: #FFFFFF;\n",
              "    }\n",
              "  </style>\n",
              "\n",
              "      <script>\n",
              "        const buttonEl =\n",
              "          document.querySelector('#df-6daa006e-d465-4397-bcbb-030406e8fe1f button.colab-df-convert');\n",
              "        buttonEl.style.display =\n",
              "          google.colab.kernel.accessAllowed ? 'block' : 'none';\n",
              "\n",
              "        async function convertToInteractive(key) {\n",
              "          const element = document.querySelector('#df-6daa006e-d465-4397-bcbb-030406e8fe1f');\n",
              "          const dataTable =\n",
              "            await google.colab.kernel.invokeFunction('convertToInteractive',\n",
              "                                                     [key], {});\n",
              "          if (!dataTable) return;\n",
              "\n",
              "          const docLinkHtml = 'Like what you see? Visit the ' +\n",
              "            '<a target=\"_blank\" href=https://colab.research.google.com/notebooks/data_table.ipynb>data table notebook</a>'\n",
              "            + ' to learn more about interactive tables.';\n",
              "          element.innerHTML = '';\n",
              "          dataTable['output_type'] = 'display_data';\n",
              "          await google.colab.output.renderOutput(dataTable, element);\n",
              "          const docLink = document.createElement('div');\n",
              "          docLink.innerHTML = docLinkHtml;\n",
              "          element.appendChild(docLink);\n",
              "        }\n",
              "      </script>\n",
              "    </div>\n",
              "  </div>\n",
              "  "
            ]
          },
          "metadata": {},
          "execution_count": 190
        }
      ],
      "source": [
        "summary_k_means"
      ]
    },
    {
      "cell_type": "code",
      "execution_count": null,
      "metadata": {
        "execution": {
          "iopub.execute_input": "2022-11-30T23:09:40.634225Z",
          "iopub.status.busy": "2022-11-30T23:09:40.633218Z",
          "iopub.status.idle": "2022-11-30T23:09:40.645945Z",
          "shell.execute_reply": "2022-11-30T23:09:40.645025Z",
          "shell.execute_reply.started": "2022-11-30T23:09:40.634183Z"
        },
        "colab": {
          "base_uri": "https://localhost:8080/",
          "height": 175
        },
        "id": "IoxxbbqsKmJk",
        "outputId": "42c04e77-6f6c-48d6-a20f-1548557e5a73"
      },
      "outputs": [
        {
          "output_type": "execute_result",
          "data": {
            "text/plain": [
              "           KNN_dict_v1 KNN_dict_v2\n",
              "Model              KNN         KNN\n",
              "Scaling    Normal Data    Standard\n",
              "Type                 -           -\n",
              "Precision     0.709957    0.800866"
            ],
            "text/html": [
              "\n",
              "  <div id=\"df-b2f4c0c5-eb0f-4b51-b6f8-4ab62d11214c\">\n",
              "    <div class=\"colab-df-container\">\n",
              "      <div>\n",
              "<style scoped>\n",
              "    .dataframe tbody tr th:only-of-type {\n",
              "        vertical-align: middle;\n",
              "    }\n",
              "\n",
              "    .dataframe tbody tr th {\n",
              "        vertical-align: top;\n",
              "    }\n",
              "\n",
              "    .dataframe thead th {\n",
              "        text-align: right;\n",
              "    }\n",
              "</style>\n",
              "<table border=\"1\" class=\"dataframe\">\n",
              "  <thead>\n",
              "    <tr style=\"text-align: right;\">\n",
              "      <th></th>\n",
              "      <th>KNN_dict_v1</th>\n",
              "      <th>KNN_dict_v2</th>\n",
              "    </tr>\n",
              "  </thead>\n",
              "  <tbody>\n",
              "    <tr>\n",
              "      <th>Model</th>\n",
              "      <td>KNN</td>\n",
              "      <td>KNN</td>\n",
              "    </tr>\n",
              "    <tr>\n",
              "      <th>Scaling</th>\n",
              "      <td>Normal Data</td>\n",
              "      <td>Standard</td>\n",
              "    </tr>\n",
              "    <tr>\n",
              "      <th>Type</th>\n",
              "      <td>-</td>\n",
              "      <td>-</td>\n",
              "    </tr>\n",
              "    <tr>\n",
              "      <th>Precision</th>\n",
              "      <td>0.709957</td>\n",
              "      <td>0.800866</td>\n",
              "    </tr>\n",
              "  </tbody>\n",
              "</table>\n",
              "</div>\n",
              "      <button class=\"colab-df-convert\" onclick=\"convertToInteractive('df-b2f4c0c5-eb0f-4b51-b6f8-4ab62d11214c')\"\n",
              "              title=\"Convert this dataframe to an interactive table.\"\n",
              "              style=\"display:none;\">\n",
              "        \n",
              "  <svg xmlns=\"http://www.w3.org/2000/svg\" height=\"24px\"viewBox=\"0 0 24 24\"\n",
              "       width=\"24px\">\n",
              "    <path d=\"M0 0h24v24H0V0z\" fill=\"none\"/>\n",
              "    <path d=\"M18.56 5.44l.94 2.06.94-2.06 2.06-.94-2.06-.94-.94-2.06-.94 2.06-2.06.94zm-11 1L8.5 8.5l.94-2.06 2.06-.94-2.06-.94L8.5 2.5l-.94 2.06-2.06.94zm10 10l.94 2.06.94-2.06 2.06-.94-2.06-.94-.94-2.06-.94 2.06-2.06.94z\"/><path d=\"M17.41 7.96l-1.37-1.37c-.4-.4-.92-.59-1.43-.59-.52 0-1.04.2-1.43.59L10.3 9.45l-7.72 7.72c-.78.78-.78 2.05 0 2.83L4 21.41c.39.39.9.59 1.41.59.51 0 1.02-.2 1.41-.59l7.78-7.78 2.81-2.81c.8-.78.8-2.07 0-2.86zM5.41 20L4 18.59l7.72-7.72 1.47 1.35L5.41 20z\"/>\n",
              "  </svg>\n",
              "      </button>\n",
              "      \n",
              "  <style>\n",
              "    .colab-df-container {\n",
              "      display:flex;\n",
              "      flex-wrap:wrap;\n",
              "      gap: 12px;\n",
              "    }\n",
              "\n",
              "    .colab-df-convert {\n",
              "      background-color: #E8F0FE;\n",
              "      border: none;\n",
              "      border-radius: 50%;\n",
              "      cursor: pointer;\n",
              "      display: none;\n",
              "      fill: #1967D2;\n",
              "      height: 32px;\n",
              "      padding: 0 0 0 0;\n",
              "      width: 32px;\n",
              "    }\n",
              "\n",
              "    .colab-df-convert:hover {\n",
              "      background-color: #E2EBFA;\n",
              "      box-shadow: 0px 1px 2px rgba(60, 64, 67, 0.3), 0px 1px 3px 1px rgba(60, 64, 67, 0.15);\n",
              "      fill: #174EA6;\n",
              "    }\n",
              "\n",
              "    [theme=dark] .colab-df-convert {\n",
              "      background-color: #3B4455;\n",
              "      fill: #D2E3FC;\n",
              "    }\n",
              "\n",
              "    [theme=dark] .colab-df-convert:hover {\n",
              "      background-color: #434B5C;\n",
              "      box-shadow: 0px 1px 3px 1px rgba(0, 0, 0, 0.15);\n",
              "      filter: drop-shadow(0px 1px 2px rgba(0, 0, 0, 0.3));\n",
              "      fill: #FFFFFF;\n",
              "    }\n",
              "  </style>\n",
              "\n",
              "      <script>\n",
              "        const buttonEl =\n",
              "          document.querySelector('#df-b2f4c0c5-eb0f-4b51-b6f8-4ab62d11214c button.colab-df-convert');\n",
              "        buttonEl.style.display =\n",
              "          google.colab.kernel.accessAllowed ? 'block' : 'none';\n",
              "\n",
              "        async function convertToInteractive(key) {\n",
              "          const element = document.querySelector('#df-b2f4c0c5-eb0f-4b51-b6f8-4ab62d11214c');\n",
              "          const dataTable =\n",
              "            await google.colab.kernel.invokeFunction('convertToInteractive',\n",
              "                                                     [key], {});\n",
              "          if (!dataTable) return;\n",
              "\n",
              "          const docLinkHtml = 'Like what you see? Visit the ' +\n",
              "            '<a target=\"_blank\" href=https://colab.research.google.com/notebooks/data_table.ipynb>data table notebook</a>'\n",
              "            + ' to learn more about interactive tables.';\n",
              "          element.innerHTML = '';\n",
              "          dataTable['output_type'] = 'display_data';\n",
              "          await google.colab.output.renderOutput(dataTable, element);\n",
              "          const docLink = document.createElement('div');\n",
              "          docLink.innerHTML = docLinkHtml;\n",
              "          element.appendChild(docLink);\n",
              "        }\n",
              "      </script>\n",
              "    </div>\n",
              "  </div>\n",
              "  "
            ]
          },
          "metadata": {},
          "execution_count": 191
        }
      ],
      "source": [
        "summary_knn"
      ]
    },
    {
      "cell_type": "code",
      "execution_count": null,
      "metadata": {
        "execution": {
          "iopub.execute_input": "2022-11-30T23:09:45.204337Z",
          "iopub.status.busy": "2022-11-30T23:09:45.203920Z",
          "iopub.status.idle": "2022-11-30T23:09:45.213427Z",
          "shell.execute_reply": "2022-11-30T23:09:45.212402Z",
          "shell.execute_reply.started": "2022-11-30T23:09:45.204303Z"
        },
        "colab": {
          "base_uri": "https://localhost:8080/",
          "height": 175
        },
        "id": "PEAF0VrXKmJk",
        "outputId": "85898624-cdfc-4208-ba45-c3cc5de10eb8"
      },
      "outputs": [
        {
          "output_type": "execute_result",
          "data": {
            "text/plain": [
              "              Logistic_dict_v1\n",
              "Model      Logistic Regression\n",
              "Scaling            Normal Data\n",
              "Type                         -\n",
              "Precision             0.714286"
            ],
            "text/html": [
              "\n",
              "  <div id=\"df-af5d8168-6666-4bf8-9c5d-56888701dfa0\">\n",
              "    <div class=\"colab-df-container\">\n",
              "      <div>\n",
              "<style scoped>\n",
              "    .dataframe tbody tr th:only-of-type {\n",
              "        vertical-align: middle;\n",
              "    }\n",
              "\n",
              "    .dataframe tbody tr th {\n",
              "        vertical-align: top;\n",
              "    }\n",
              "\n",
              "    .dataframe thead th {\n",
              "        text-align: right;\n",
              "    }\n",
              "</style>\n",
              "<table border=\"1\" class=\"dataframe\">\n",
              "  <thead>\n",
              "    <tr style=\"text-align: right;\">\n",
              "      <th></th>\n",
              "      <th>Logistic_dict_v1</th>\n",
              "    </tr>\n",
              "  </thead>\n",
              "  <tbody>\n",
              "    <tr>\n",
              "      <th>Model</th>\n",
              "      <td>Logistic Regression</td>\n",
              "    </tr>\n",
              "    <tr>\n",
              "      <th>Scaling</th>\n",
              "      <td>Normal Data</td>\n",
              "    </tr>\n",
              "    <tr>\n",
              "      <th>Type</th>\n",
              "      <td>-</td>\n",
              "    </tr>\n",
              "    <tr>\n",
              "      <th>Precision</th>\n",
              "      <td>0.714286</td>\n",
              "    </tr>\n",
              "  </tbody>\n",
              "</table>\n",
              "</div>\n",
              "      <button class=\"colab-df-convert\" onclick=\"convertToInteractive('df-af5d8168-6666-4bf8-9c5d-56888701dfa0')\"\n",
              "              title=\"Convert this dataframe to an interactive table.\"\n",
              "              style=\"display:none;\">\n",
              "        \n",
              "  <svg xmlns=\"http://www.w3.org/2000/svg\" height=\"24px\"viewBox=\"0 0 24 24\"\n",
              "       width=\"24px\">\n",
              "    <path d=\"M0 0h24v24H0V0z\" fill=\"none\"/>\n",
              "    <path d=\"M18.56 5.44l.94 2.06.94-2.06 2.06-.94-2.06-.94-.94-2.06-.94 2.06-2.06.94zm-11 1L8.5 8.5l.94-2.06 2.06-.94-2.06-.94L8.5 2.5l-.94 2.06-2.06.94zm10 10l.94 2.06.94-2.06 2.06-.94-2.06-.94-.94-2.06-.94 2.06-2.06.94z\"/><path d=\"M17.41 7.96l-1.37-1.37c-.4-.4-.92-.59-1.43-.59-.52 0-1.04.2-1.43.59L10.3 9.45l-7.72 7.72c-.78.78-.78 2.05 0 2.83L4 21.41c.39.39.9.59 1.41.59.51 0 1.02-.2 1.41-.59l7.78-7.78 2.81-2.81c.8-.78.8-2.07 0-2.86zM5.41 20L4 18.59l7.72-7.72 1.47 1.35L5.41 20z\"/>\n",
              "  </svg>\n",
              "      </button>\n",
              "      \n",
              "  <style>\n",
              "    .colab-df-container {\n",
              "      display:flex;\n",
              "      flex-wrap:wrap;\n",
              "      gap: 12px;\n",
              "    }\n",
              "\n",
              "    .colab-df-convert {\n",
              "      background-color: #E8F0FE;\n",
              "      border: none;\n",
              "      border-radius: 50%;\n",
              "      cursor: pointer;\n",
              "      display: none;\n",
              "      fill: #1967D2;\n",
              "      height: 32px;\n",
              "      padding: 0 0 0 0;\n",
              "      width: 32px;\n",
              "    }\n",
              "\n",
              "    .colab-df-convert:hover {\n",
              "      background-color: #E2EBFA;\n",
              "      box-shadow: 0px 1px 2px rgba(60, 64, 67, 0.3), 0px 1px 3px 1px rgba(60, 64, 67, 0.15);\n",
              "      fill: #174EA6;\n",
              "    }\n",
              "\n",
              "    [theme=dark] .colab-df-convert {\n",
              "      background-color: #3B4455;\n",
              "      fill: #D2E3FC;\n",
              "    }\n",
              "\n",
              "    [theme=dark] .colab-df-convert:hover {\n",
              "      background-color: #434B5C;\n",
              "      box-shadow: 0px 1px 3px 1px rgba(0, 0, 0, 0.15);\n",
              "      filter: drop-shadow(0px 1px 2px rgba(0, 0, 0, 0.3));\n",
              "      fill: #FFFFFF;\n",
              "    }\n",
              "  </style>\n",
              "\n",
              "      <script>\n",
              "        const buttonEl =\n",
              "          document.querySelector('#df-af5d8168-6666-4bf8-9c5d-56888701dfa0 button.colab-df-convert');\n",
              "        buttonEl.style.display =\n",
              "          google.colab.kernel.accessAllowed ? 'block' : 'none';\n",
              "\n",
              "        async function convertToInteractive(key) {\n",
              "          const element = document.querySelector('#df-af5d8168-6666-4bf8-9c5d-56888701dfa0');\n",
              "          const dataTable =\n",
              "            await google.colab.kernel.invokeFunction('convertToInteractive',\n",
              "                                                     [key], {});\n",
              "          if (!dataTable) return;\n",
              "\n",
              "          const docLinkHtml = 'Like what you see? Visit the ' +\n",
              "            '<a target=\"_blank\" href=https://colab.research.google.com/notebooks/data_table.ipynb>data table notebook</a>'\n",
              "            + ' to learn more about interactive tables.';\n",
              "          element.innerHTML = '';\n",
              "          dataTable['output_type'] = 'display_data';\n",
              "          await google.colab.output.renderOutput(dataTable, element);\n",
              "          const docLink = document.createElement('div');\n",
              "          docLink.innerHTML = docLinkHtml;\n",
              "          element.appendChild(docLink);\n",
              "        }\n",
              "      </script>\n",
              "    </div>\n",
              "  </div>\n",
              "  "
            ]
          },
          "metadata": {},
          "execution_count": 192
        }
      ],
      "source": [
        "summary_logistic"
      ]
    },
    {
      "cell_type": "code",
      "execution_count": null,
      "metadata": {
        "execution": {
          "iopub.execute_input": "2022-11-30T23:09:50.738323Z",
          "iopub.status.busy": "2022-11-30T23:09:50.737772Z",
          "iopub.status.idle": "2022-11-30T23:09:50.752392Z",
          "shell.execute_reply": "2022-11-30T23:09:50.750983Z",
          "shell.execute_reply.started": "2022-11-30T23:09:50.738275Z"
        },
        "colab": {
          "base_uri": "https://localhost:8080/",
          "height": 175
        },
        "id": "nORWRMQGKmJl",
        "outputId": "de526e7c-c2e5-437d-ad06-ffaf0037c3de"
      },
      "outputs": [
        {
          "output_type": "execute_result",
          "data": {
            "text/plain": [
              "          svm_dict_v1\n",
              "Model             SVM\n",
              "Scaling      Standard\n",
              "Type             poly\n",
              "Precision    0.779221"
            ],
            "text/html": [
              "\n",
              "  <div id=\"df-2f8208d4-1327-454b-8486-f63fb9f87e40\">\n",
              "    <div class=\"colab-df-container\">\n",
              "      <div>\n",
              "<style scoped>\n",
              "    .dataframe tbody tr th:only-of-type {\n",
              "        vertical-align: middle;\n",
              "    }\n",
              "\n",
              "    .dataframe tbody tr th {\n",
              "        vertical-align: top;\n",
              "    }\n",
              "\n",
              "    .dataframe thead th {\n",
              "        text-align: right;\n",
              "    }\n",
              "</style>\n",
              "<table border=\"1\" class=\"dataframe\">\n",
              "  <thead>\n",
              "    <tr style=\"text-align: right;\">\n",
              "      <th></th>\n",
              "      <th>svm_dict_v1</th>\n",
              "    </tr>\n",
              "  </thead>\n",
              "  <tbody>\n",
              "    <tr>\n",
              "      <th>Model</th>\n",
              "      <td>SVM</td>\n",
              "    </tr>\n",
              "    <tr>\n",
              "      <th>Scaling</th>\n",
              "      <td>Standard</td>\n",
              "    </tr>\n",
              "    <tr>\n",
              "      <th>Type</th>\n",
              "      <td>poly</td>\n",
              "    </tr>\n",
              "    <tr>\n",
              "      <th>Precision</th>\n",
              "      <td>0.779221</td>\n",
              "    </tr>\n",
              "  </tbody>\n",
              "</table>\n",
              "</div>\n",
              "      <button class=\"colab-df-convert\" onclick=\"convertToInteractive('df-2f8208d4-1327-454b-8486-f63fb9f87e40')\"\n",
              "              title=\"Convert this dataframe to an interactive table.\"\n",
              "              style=\"display:none;\">\n",
              "        \n",
              "  <svg xmlns=\"http://www.w3.org/2000/svg\" height=\"24px\"viewBox=\"0 0 24 24\"\n",
              "       width=\"24px\">\n",
              "    <path d=\"M0 0h24v24H0V0z\" fill=\"none\"/>\n",
              "    <path d=\"M18.56 5.44l.94 2.06.94-2.06 2.06-.94-2.06-.94-.94-2.06-.94 2.06-2.06.94zm-11 1L8.5 8.5l.94-2.06 2.06-.94-2.06-.94L8.5 2.5l-.94 2.06-2.06.94zm10 10l.94 2.06.94-2.06 2.06-.94-2.06-.94-.94-2.06-.94 2.06-2.06.94z\"/><path d=\"M17.41 7.96l-1.37-1.37c-.4-.4-.92-.59-1.43-.59-.52 0-1.04.2-1.43.59L10.3 9.45l-7.72 7.72c-.78.78-.78 2.05 0 2.83L4 21.41c.39.39.9.59 1.41.59.51 0 1.02-.2 1.41-.59l7.78-7.78 2.81-2.81c.8-.78.8-2.07 0-2.86zM5.41 20L4 18.59l7.72-7.72 1.47 1.35L5.41 20z\"/>\n",
              "  </svg>\n",
              "      </button>\n",
              "      \n",
              "  <style>\n",
              "    .colab-df-container {\n",
              "      display:flex;\n",
              "      flex-wrap:wrap;\n",
              "      gap: 12px;\n",
              "    }\n",
              "\n",
              "    .colab-df-convert {\n",
              "      background-color: #E8F0FE;\n",
              "      border: none;\n",
              "      border-radius: 50%;\n",
              "      cursor: pointer;\n",
              "      display: none;\n",
              "      fill: #1967D2;\n",
              "      height: 32px;\n",
              "      padding: 0 0 0 0;\n",
              "      width: 32px;\n",
              "    }\n",
              "\n",
              "    .colab-df-convert:hover {\n",
              "      background-color: #E2EBFA;\n",
              "      box-shadow: 0px 1px 2px rgba(60, 64, 67, 0.3), 0px 1px 3px 1px rgba(60, 64, 67, 0.15);\n",
              "      fill: #174EA6;\n",
              "    }\n",
              "\n",
              "    [theme=dark] .colab-df-convert {\n",
              "      background-color: #3B4455;\n",
              "      fill: #D2E3FC;\n",
              "    }\n",
              "\n",
              "    [theme=dark] .colab-df-convert:hover {\n",
              "      background-color: #434B5C;\n",
              "      box-shadow: 0px 1px 3px 1px rgba(0, 0, 0, 0.15);\n",
              "      filter: drop-shadow(0px 1px 2px rgba(0, 0, 0, 0.3));\n",
              "      fill: #FFFFFF;\n",
              "    }\n",
              "  </style>\n",
              "\n",
              "      <script>\n",
              "        const buttonEl =\n",
              "          document.querySelector('#df-2f8208d4-1327-454b-8486-f63fb9f87e40 button.colab-df-convert');\n",
              "        buttonEl.style.display =\n",
              "          google.colab.kernel.accessAllowed ? 'block' : 'none';\n",
              "\n",
              "        async function convertToInteractive(key) {\n",
              "          const element = document.querySelector('#df-2f8208d4-1327-454b-8486-f63fb9f87e40');\n",
              "          const dataTable =\n",
              "            await google.colab.kernel.invokeFunction('convertToInteractive',\n",
              "                                                     [key], {});\n",
              "          if (!dataTable) return;\n",
              "\n",
              "          const docLinkHtml = 'Like what you see? Visit the ' +\n",
              "            '<a target=\"_blank\" href=https://colab.research.google.com/notebooks/data_table.ipynb>data table notebook</a>'\n",
              "            + ' to learn more about interactive tables.';\n",
              "          element.innerHTML = '';\n",
              "          dataTable['output_type'] = 'display_data';\n",
              "          await google.colab.output.renderOutput(dataTable, element);\n",
              "          const docLink = document.createElement('div');\n",
              "          docLink.innerHTML = docLinkHtml;\n",
              "          element.appendChild(docLink);\n",
              "        }\n",
              "      </script>\n",
              "    </div>\n",
              "  </div>\n",
              "  "
            ]
          },
          "metadata": {},
          "execution_count": 193
        }
      ],
      "source": [
        "summary_svm"
      ]
    },
    {
      "cell_type": "code",
      "execution_count": null,
      "metadata": {
        "execution": {
          "iopub.execute_input": "2022-11-30T23:09:53.494485Z",
          "iopub.status.busy": "2022-11-30T23:09:53.494113Z",
          "iopub.status.idle": "2022-11-30T23:09:53.505117Z",
          "shell.execute_reply": "2022-11-30T23:09:53.504170Z",
          "shell.execute_reply.started": "2022-11-30T23:09:53.494453Z"
        },
        "colab": {
          "base_uri": "https://localhost:8080/",
          "height": 175
        },
        "id": "GDLgoArzKmJl",
        "outputId": "f08b9ec8-d0a4-4bb4-aa3c-b149e9af6d1e"
      },
      "outputs": [
        {
          "output_type": "execute_result",
          "data": {
            "text/plain": [
              "              ada_dict_v1\n",
              "Model            AdaBoost\n",
              "Scaling    StandardScaler\n",
              "Type                    -\n",
              "Precision        0.796537"
            ],
            "text/html": [
              "\n",
              "  <div id=\"df-4a365f18-0cc6-4be4-910a-fefcbef16c6e\">\n",
              "    <div class=\"colab-df-container\">\n",
              "      <div>\n",
              "<style scoped>\n",
              "    .dataframe tbody tr th:only-of-type {\n",
              "        vertical-align: middle;\n",
              "    }\n",
              "\n",
              "    .dataframe tbody tr th {\n",
              "        vertical-align: top;\n",
              "    }\n",
              "\n",
              "    .dataframe thead th {\n",
              "        text-align: right;\n",
              "    }\n",
              "</style>\n",
              "<table border=\"1\" class=\"dataframe\">\n",
              "  <thead>\n",
              "    <tr style=\"text-align: right;\">\n",
              "      <th></th>\n",
              "      <th>ada_dict_v1</th>\n",
              "    </tr>\n",
              "  </thead>\n",
              "  <tbody>\n",
              "    <tr>\n",
              "      <th>Model</th>\n",
              "      <td>AdaBoost</td>\n",
              "    </tr>\n",
              "    <tr>\n",
              "      <th>Scaling</th>\n",
              "      <td>StandardScaler</td>\n",
              "    </tr>\n",
              "    <tr>\n",
              "      <th>Type</th>\n",
              "      <td>-</td>\n",
              "    </tr>\n",
              "    <tr>\n",
              "      <th>Precision</th>\n",
              "      <td>0.796537</td>\n",
              "    </tr>\n",
              "  </tbody>\n",
              "</table>\n",
              "</div>\n",
              "      <button class=\"colab-df-convert\" onclick=\"convertToInteractive('df-4a365f18-0cc6-4be4-910a-fefcbef16c6e')\"\n",
              "              title=\"Convert this dataframe to an interactive table.\"\n",
              "              style=\"display:none;\">\n",
              "        \n",
              "  <svg xmlns=\"http://www.w3.org/2000/svg\" height=\"24px\"viewBox=\"0 0 24 24\"\n",
              "       width=\"24px\">\n",
              "    <path d=\"M0 0h24v24H0V0z\" fill=\"none\"/>\n",
              "    <path d=\"M18.56 5.44l.94 2.06.94-2.06 2.06-.94-2.06-.94-.94-2.06-.94 2.06-2.06.94zm-11 1L8.5 8.5l.94-2.06 2.06-.94-2.06-.94L8.5 2.5l-.94 2.06-2.06.94zm10 10l.94 2.06.94-2.06 2.06-.94-2.06-.94-.94-2.06-.94 2.06-2.06.94z\"/><path d=\"M17.41 7.96l-1.37-1.37c-.4-.4-.92-.59-1.43-.59-.52 0-1.04.2-1.43.59L10.3 9.45l-7.72 7.72c-.78.78-.78 2.05 0 2.83L4 21.41c.39.39.9.59 1.41.59.51 0 1.02-.2 1.41-.59l7.78-7.78 2.81-2.81c.8-.78.8-2.07 0-2.86zM5.41 20L4 18.59l7.72-7.72 1.47 1.35L5.41 20z\"/>\n",
              "  </svg>\n",
              "      </button>\n",
              "      \n",
              "  <style>\n",
              "    .colab-df-container {\n",
              "      display:flex;\n",
              "      flex-wrap:wrap;\n",
              "      gap: 12px;\n",
              "    }\n",
              "\n",
              "    .colab-df-convert {\n",
              "      background-color: #E8F0FE;\n",
              "      border: none;\n",
              "      border-radius: 50%;\n",
              "      cursor: pointer;\n",
              "      display: none;\n",
              "      fill: #1967D2;\n",
              "      height: 32px;\n",
              "      padding: 0 0 0 0;\n",
              "      width: 32px;\n",
              "    }\n",
              "\n",
              "    .colab-df-convert:hover {\n",
              "      background-color: #E2EBFA;\n",
              "      box-shadow: 0px 1px 2px rgba(60, 64, 67, 0.3), 0px 1px 3px 1px rgba(60, 64, 67, 0.15);\n",
              "      fill: #174EA6;\n",
              "    }\n",
              "\n",
              "    [theme=dark] .colab-df-convert {\n",
              "      background-color: #3B4455;\n",
              "      fill: #D2E3FC;\n",
              "    }\n",
              "\n",
              "    [theme=dark] .colab-df-convert:hover {\n",
              "      background-color: #434B5C;\n",
              "      box-shadow: 0px 1px 3px 1px rgba(0, 0, 0, 0.15);\n",
              "      filter: drop-shadow(0px 1px 2px rgba(0, 0, 0, 0.3));\n",
              "      fill: #FFFFFF;\n",
              "    }\n",
              "  </style>\n",
              "\n",
              "      <script>\n",
              "        const buttonEl =\n",
              "          document.querySelector('#df-4a365f18-0cc6-4be4-910a-fefcbef16c6e button.colab-df-convert');\n",
              "        buttonEl.style.display =\n",
              "          google.colab.kernel.accessAllowed ? 'block' : 'none';\n",
              "\n",
              "        async function convertToInteractive(key) {\n",
              "          const element = document.querySelector('#df-4a365f18-0cc6-4be4-910a-fefcbef16c6e');\n",
              "          const dataTable =\n",
              "            await google.colab.kernel.invokeFunction('convertToInteractive',\n",
              "                                                     [key], {});\n",
              "          if (!dataTable) return;\n",
              "\n",
              "          const docLinkHtml = 'Like what you see? Visit the ' +\n",
              "            '<a target=\"_blank\" href=https://colab.research.google.com/notebooks/data_table.ipynb>data table notebook</a>'\n",
              "            + ' to learn more about interactive tables.';\n",
              "          element.innerHTML = '';\n",
              "          dataTable['output_type'] = 'display_data';\n",
              "          await google.colab.output.renderOutput(dataTable, element);\n",
              "          const docLink = document.createElement('div');\n",
              "          docLink.innerHTML = docLinkHtml;\n",
              "          element.appendChild(docLink);\n",
              "        }\n",
              "      </script>\n",
              "    </div>\n",
              "  </div>\n",
              "  "
            ]
          },
          "metadata": {},
          "execution_count": 194
        }
      ],
      "source": [
        "summary_ada"
      ]
    },
    {
      "cell_type": "code",
      "execution_count": null,
      "metadata": {
        "execution": {
          "iopub.execute_input": "2022-11-30T23:09:57.717418Z",
          "iopub.status.busy": "2022-11-30T23:09:57.716993Z",
          "iopub.status.idle": "2022-11-30T23:09:57.727889Z",
          "shell.execute_reply": "2022-11-30T23:09:57.726464Z",
          "shell.execute_reply.started": "2022-11-30T23:09:57.717381Z"
        },
        "colab": {
          "base_uri": "https://localhost:8080/",
          "height": 175
        },
        "id": "UX5XsWYqKmJl",
        "outputId": "f259e287-32f1-466e-af12-ff4a13871450"
      },
      "outputs": [
        {
          "output_type": "execute_result",
          "data": {
            "text/plain": [
              "             grad_dict_v1\n",
              "Model       GradientBoost\n",
              "Scaling    StandardScaler\n",
              "Type                    -\n",
              "Precision        0.796537"
            ],
            "text/html": [
              "\n",
              "  <div id=\"df-953ed8f5-1d13-4706-b4f4-936cddc11e21\">\n",
              "    <div class=\"colab-df-container\">\n",
              "      <div>\n",
              "<style scoped>\n",
              "    .dataframe tbody tr th:only-of-type {\n",
              "        vertical-align: middle;\n",
              "    }\n",
              "\n",
              "    .dataframe tbody tr th {\n",
              "        vertical-align: top;\n",
              "    }\n",
              "\n",
              "    .dataframe thead th {\n",
              "        text-align: right;\n",
              "    }\n",
              "</style>\n",
              "<table border=\"1\" class=\"dataframe\">\n",
              "  <thead>\n",
              "    <tr style=\"text-align: right;\">\n",
              "      <th></th>\n",
              "      <th>grad_dict_v1</th>\n",
              "    </tr>\n",
              "  </thead>\n",
              "  <tbody>\n",
              "    <tr>\n",
              "      <th>Model</th>\n",
              "      <td>GradientBoost</td>\n",
              "    </tr>\n",
              "    <tr>\n",
              "      <th>Scaling</th>\n",
              "      <td>StandardScaler</td>\n",
              "    </tr>\n",
              "    <tr>\n",
              "      <th>Type</th>\n",
              "      <td>-</td>\n",
              "    </tr>\n",
              "    <tr>\n",
              "      <th>Precision</th>\n",
              "      <td>0.796537</td>\n",
              "    </tr>\n",
              "  </tbody>\n",
              "</table>\n",
              "</div>\n",
              "      <button class=\"colab-df-convert\" onclick=\"convertToInteractive('df-953ed8f5-1d13-4706-b4f4-936cddc11e21')\"\n",
              "              title=\"Convert this dataframe to an interactive table.\"\n",
              "              style=\"display:none;\">\n",
              "        \n",
              "  <svg xmlns=\"http://www.w3.org/2000/svg\" height=\"24px\"viewBox=\"0 0 24 24\"\n",
              "       width=\"24px\">\n",
              "    <path d=\"M0 0h24v24H0V0z\" fill=\"none\"/>\n",
              "    <path d=\"M18.56 5.44l.94 2.06.94-2.06 2.06-.94-2.06-.94-.94-2.06-.94 2.06-2.06.94zm-11 1L8.5 8.5l.94-2.06 2.06-.94-2.06-.94L8.5 2.5l-.94 2.06-2.06.94zm10 10l.94 2.06.94-2.06 2.06-.94-2.06-.94-.94-2.06-.94 2.06-2.06.94z\"/><path d=\"M17.41 7.96l-1.37-1.37c-.4-.4-.92-.59-1.43-.59-.52 0-1.04.2-1.43.59L10.3 9.45l-7.72 7.72c-.78.78-.78 2.05 0 2.83L4 21.41c.39.39.9.59 1.41.59.51 0 1.02-.2 1.41-.59l7.78-7.78 2.81-2.81c.8-.78.8-2.07 0-2.86zM5.41 20L4 18.59l7.72-7.72 1.47 1.35L5.41 20z\"/>\n",
              "  </svg>\n",
              "      </button>\n",
              "      \n",
              "  <style>\n",
              "    .colab-df-container {\n",
              "      display:flex;\n",
              "      flex-wrap:wrap;\n",
              "      gap: 12px;\n",
              "    }\n",
              "\n",
              "    .colab-df-convert {\n",
              "      background-color: #E8F0FE;\n",
              "      border: none;\n",
              "      border-radius: 50%;\n",
              "      cursor: pointer;\n",
              "      display: none;\n",
              "      fill: #1967D2;\n",
              "      height: 32px;\n",
              "      padding: 0 0 0 0;\n",
              "      width: 32px;\n",
              "    }\n",
              "\n",
              "    .colab-df-convert:hover {\n",
              "      background-color: #E2EBFA;\n",
              "      box-shadow: 0px 1px 2px rgba(60, 64, 67, 0.3), 0px 1px 3px 1px rgba(60, 64, 67, 0.15);\n",
              "      fill: #174EA6;\n",
              "    }\n",
              "\n",
              "    [theme=dark] .colab-df-convert {\n",
              "      background-color: #3B4455;\n",
              "      fill: #D2E3FC;\n",
              "    }\n",
              "\n",
              "    [theme=dark] .colab-df-convert:hover {\n",
              "      background-color: #434B5C;\n",
              "      box-shadow: 0px 1px 3px 1px rgba(0, 0, 0, 0.15);\n",
              "      filter: drop-shadow(0px 1px 2px rgba(0, 0, 0, 0.3));\n",
              "      fill: #FFFFFF;\n",
              "    }\n",
              "  </style>\n",
              "\n",
              "      <script>\n",
              "        const buttonEl =\n",
              "          document.querySelector('#df-953ed8f5-1d13-4706-b4f4-936cddc11e21 button.colab-df-convert');\n",
              "        buttonEl.style.display =\n",
              "          google.colab.kernel.accessAllowed ? 'block' : 'none';\n",
              "\n",
              "        async function convertToInteractive(key) {\n",
              "          const element = document.querySelector('#df-953ed8f5-1d13-4706-b4f4-936cddc11e21');\n",
              "          const dataTable =\n",
              "            await google.colab.kernel.invokeFunction('convertToInteractive',\n",
              "                                                     [key], {});\n",
              "          if (!dataTable) return;\n",
              "\n",
              "          const docLinkHtml = 'Like what you see? Visit the ' +\n",
              "            '<a target=\"_blank\" href=https://colab.research.google.com/notebooks/data_table.ipynb>data table notebook</a>'\n",
              "            + ' to learn more about interactive tables.';\n",
              "          element.innerHTML = '';\n",
              "          dataTable['output_type'] = 'display_data';\n",
              "          await google.colab.output.renderOutput(dataTable, element);\n",
              "          const docLink = document.createElement('div');\n",
              "          docLink.innerHTML = docLinkHtml;\n",
              "          element.appendChild(docLink);\n",
              "        }\n",
              "      </script>\n",
              "    </div>\n",
              "  </div>\n",
              "  "
            ]
          },
          "metadata": {},
          "execution_count": 195
        }
      ],
      "source": [
        "summary_grad"
      ]
    }
  ],
  "metadata": {
    "kernelspec": {
      "display_name": "Python 3 (ipykernel)",
      "language": "python",
      "name": "python3"
    },
    "language_info": {
      "codemirror_mode": {
        "name": "ipython",
        "version": 3
      },
      "file_extension": ".py",
      "mimetype": "text/x-python",
      "name": "python",
      "nbconvert_exporter": "python",
      "pygments_lexer": "ipython3",
      "version": "3.9.13"
    },
    "colab": {
      "provenance": []
    }
  },
  "nbformat": 4,
  "nbformat_minor": 0
}